{
 "cells": [
  {
   "cell_type": "markdown",
   "id": "a25fe500",
   "metadata": {},
   "source": [
    "# Numpy의 주요 함수와 메소드"
   ]
  },
  {
   "cell_type": "code",
   "execution_count": 1,
   "id": "3b5e834a",
   "metadata": {},
   "outputs": [],
   "source": [
    "# Numpy 패키지 불러오기\n",
    "import numpy as np # 넘파이 패키지를 np라는 별칭으로 호출"
   ]
  },
  {
   "cell_type": "markdown",
   "id": "0d2c0b72",
   "metadata": {},
   "source": [
    "#### [ 형상 변환 메소드 ]\n",
    "\n",
    "- Numpy에서 ndarray 객체들은 아래와 같은 메소드들을 통해 형상 변환이 가능하다.\n",
    "\n",
    "|메소드|기능|\n",
    "|:------|:---------|\n",
    "|배열객체.reshape()|배열 객체를 입력된 shape로 변환 <br>-1은 원래 배열 객체의 길이와 길이와 남은 차원으로 알아서 정해지는 것을 의미함|\n",
    "|배열객체.ravel() <br> 배열객체.ravel()| 다차원 배열객체를 1차원으로 평탄화 함 |\n",
    "|배열객체.transpose()| 배열의 축을 교환함 |"
   ]
  },
  {
   "cell_type": "markdown",
   "id": "03c37999",
   "metadata": {},
   "source": [
    "## 형상 변환 메소드"
   ]
  },
  {
   "cell_type": "code",
   "execution_count": 2,
   "id": "7d3d1515",
   "metadata": {},
   "outputs": [
    {
     "name": "stdout",
     "output_type": "stream",
     "text": [
      "[0 1 2 3 4 5 6 7]\n",
      "[[0 1 2 3]\n",
      " [4 5 6 7]]\n",
      "[[0 1]\n",
      " [2 3]\n",
      " [4 5]\n",
      " [6 7]]\n"
     ]
    },
    {
     "ename": "ValueError",
     "evalue": "cannot reshape array of size 8 into shape (3,3)",
     "output_type": "error",
     "traceback": [
      "\u001b[0;31m---------------------------------------------------------------------------\u001b[0m",
      "\u001b[0;31mValueError\u001b[0m                                Traceback (most recent call last)",
      "\u001b[0;32m/var/folders/bk/xfd679sj72v2213jc_8tf6gw0000gn/T/ipykernel_2127/2083713374.py\u001b[0m in \u001b[0;36m<module>\u001b[0;34m\u001b[0m\n\u001b[1;32m     16\u001b[0m \u001b[0;31m# 행 길이가 3이고 열 길이가 3인 2d-array객체로 변환\u001b[0m\u001b[0;34m\u001b[0m\u001b[0;34m\u001b[0m\u001b[0m\n\u001b[1;32m     17\u001b[0m \u001b[0;31m# .reshape() 메소드는 총 원소의 수(size)가 같지 않을 경우 변환이 되지 않는다.\u001b[0m\u001b[0;34m\u001b[0m\u001b[0;34m\u001b[0m\u001b[0m\n\u001b[0;32m---> 18\u001b[0;31m \u001b[0marr_2d_3x3\u001b[0m \u001b[0;34m=\u001b[0m \u001b[0marr_1d\u001b[0m\u001b[0;34m.\u001b[0m\u001b[0mreshape\u001b[0m\u001b[0;34m(\u001b[0m\u001b[0;36m3\u001b[0m\u001b[0;34m,\u001b[0m\u001b[0;36m3\u001b[0m\u001b[0;34m)\u001b[0m\u001b[0;34m\u001b[0m\u001b[0;34m\u001b[0m\u001b[0m\n\u001b[0m",
      "\u001b[0;31mValueError\u001b[0m: cannot reshape array of size 8 into shape (3,3)"
     ]
    }
   ],
   "source": [
    "# .reshape()\n",
    "# 배열 객체를 입력된 shape로 변환\n",
    "\n",
    "# 길이가 8인 1d-array객체 생성\n",
    "arr_1d = np.arange(8)\n",
    "print(arr_1d)\n",
    "\n",
    "# 행 길이가 2이고 열 길이가 4인 2d-array객체로 변환\n",
    "arr_2d_2x4 = arr_1d.reshape(2,4)\n",
    "print(arr_2d_2x4)\n",
    "\n",
    "# 행 길이가 4이고 열 길이가 2인 2d-array객체로 변환\n",
    "arr_2d_4x2 = arr_1d.reshape(4,2)\n",
    "print(arr_2d_4x2)\n",
    "\n",
    "# 행 길이가 3이고 열 길이가 3인 2d-array객체로 변환\n",
    "# .reshape() 메소드는 총 원소의 수(size)가 같지 않을 경우 변환이 되지 않는다.\n",
    "arr_2d_3x3 = arr_1d.reshape(3,3)"
   ]
  },
  {
   "cell_type": "code",
   "execution_count": 3,
   "id": "5650166e",
   "metadata": {},
   "outputs": [
    {
     "name": "stdout",
     "output_type": "stream",
     "text": [
      "[0 1 2 3 4 5 6 7 8]\n",
      "[[0 1 2]\n",
      " [3 4 5]\n",
      " [6 7 8]]\n",
      "[[0 1 2]\n",
      " [3 4 5]\n",
      " [6 7 8]]\n",
      "[[0 1 2]\n",
      " [3 4 5]\n",
      " [6 7 8]]\n"
     ]
    }
   ],
   "source": [
    "# reshape 메소드 활용 예 1 : (3,3)인 2차원 배열 변환\n",
    "# 길이가 9인 1d-array객체 생성\n",
    "arr_1d = np.arange(9)\n",
    "print(arr_1d)\n",
    "\n",
    "# 행 길이가 3이고 열 길이가 3인 2d-array객체로 변환\n",
    "arr_2d_3x3 = arr_1d.reshape(3,3)\n",
    "print(arr_2d_3x3)\n",
    "\n",
    "# -1 이용해 2d-array객체로 변환\n",
    "# 행의 수를 3으로 지정하고 남은 차원(열)은 알아서 정함\n",
    "arr_2d_3xN = arr_1d.reshape(3,-1)\n",
    "print(arr_2d_3xN)\n",
    "\n",
    "# 열의 수를 3으로 지정하고 남은 차원(행)은 알아서 정함\n",
    "arr_2d_Nx3 = arr_1d.reshape(-1,3)\n",
    "print(arr_2d_Nx3)"
   ]
  },
  {
   "cell_type": "code",
   "execution_count": 4,
   "id": "fd75000a",
   "metadata": {},
   "outputs": [
    {
     "name": "stdout",
     "output_type": "stream",
     "text": [
      "[[0 1 2]\n",
      " [3 4 5]\n",
      " [6 7 8]]\n",
      "[[0 1 2]\n",
      " [3 4 5]\n",
      " [6 7 8]]\n"
     ]
    }
   ],
   "source": [
    "# reshape 메소드 활용 예 2 : (3,3)인 2차원 배열 생성\n",
    "# 원소가 0~8이면서 (3,3)인 2d-array객체 생성\n",
    "# 방법1\n",
    "arr1 = np.array([[0, 1, 2],\n",
    "                 [3, 4, 5],\n",
    "                 [6, 7, 8]])\n",
    "print(arr1)\n",
    "\n",
    "# 방법2\n",
    "arr2 = np.arange(9).reshape(3,3)\n",
    "print(arr2)"
   ]
  },
  {
   "cell_type": "code",
   "execution_count": 5,
   "id": "c5041044",
   "metadata": {},
   "outputs": [
    {
     "name": "stdout",
     "output_type": "stream",
     "text": [
      "[[[ 0  1]\n",
      "  [ 2  3]]\n",
      "\n",
      " [[ 4  5]\n",
      "  [ 6  7]]\n",
      "\n",
      " [[ 8  9]\n",
      "  [10 11]]]\n",
      "[[[ 0  1]\n",
      "  [ 2  3]]\n",
      "\n",
      " [[ 4  5]\n",
      "  [ 6  7]]\n",
      "\n",
      " [[ 8  9]\n",
      "  [10 11]]]\n",
      "[[[ 0  1]\n",
      "  [ 2  3]]\n",
      "\n",
      " [[ 4  5]\n",
      "  [ 6  7]]\n",
      "\n",
      " [[ 8  9]\n",
      "  [10 11]]]\n"
     ]
    }
   ],
   "source": [
    "# reshape 메소드 활용 예 3 : (3,2,2)인 3차원 배열 생성\n",
    "# 원소가 0~11이면서 층이 3이고 행/열 길이가 2인 3d-array객체 생성\n",
    "# 방법1\n",
    "arr4 = np.arange(12).reshape(3,2,2)\n",
    "print(arr4)\n",
    "\n",
    "# 방법2\n",
    "arr5 = np.arange(12).reshape(3,2,-1) # 층 수 3, 행 수 2로 지정, 남은 차원(열) 자동\n",
    "print(arr5)\n",
    "\n",
    "# 방법3\n",
    "arr6 = np.arange(12).reshape(-1,2,2) # 행/열의 수는 2로 지정, 남은 차원(층) 자동\n",
    "print(arr6)"
   ]
  },
  {
   "cell_type": "code",
   "execution_count": 6,
   "id": "1ab713f9",
   "metadata": {},
   "outputs": [
    {
     "name": "stdout",
     "output_type": "stream",
     "text": [
      "[0 1 2 3 4 5 6 7 8]\n",
      "[ 0  1  2  3  4  5  6  7  8  9 10 11]\n"
     ]
    }
   ],
   "source": [
    "# 다차원 배열 객체를 1차원 배열로 변환(평탄화)\n",
    "\n",
    "# reshape 메소드를 활용\n",
    "# (3,3)인 2차원 배열을 길이가 9인 1차원 배열로 변환\n",
    "arr1_1d = arr1.reshape(9)\n",
    "print(arr1_1d)\n",
    "\n",
    "# (3,2,2)인 3차원 배열을 길이가 12인 1차원 배열로 변환\n",
    "arr4_1d = arr4.reshape(12)\n",
    "print(arr4_1d)"
   ]
  },
  {
   "cell_type": "code",
   "execution_count": 7,
   "id": "f9b16693",
   "metadata": {},
   "outputs": [
    {
     "name": "stdout",
     "output_type": "stream",
     "text": [
      "[0 1 2 3 4 5 6 7 8]\n",
      "[ 0  1  2  3  4  5  6  7  8  9 10 11]\n"
     ]
    }
   ],
   "source": [
    "# .ravel()\n",
    "# 다차원 배열 객체를 1차원으로 평탄화함\n",
    "\n",
    "arr2_1d = arr2.ravel() # 길이를 입력하지 않아도 됨\n",
    "print(arr2_1d)\n",
    "\n",
    "arr5_1d = arr5.ravel() # 길이를 입력하지 않아도 됨\n",
    "print(arr5_1d)"
   ]
  },
  {
   "cell_type": "code",
   "execution_count": 8,
   "id": "3545d968",
   "metadata": {},
   "outputs": [
    {
     "name": "stdout",
     "output_type": "stream",
     "text": [
      "[ 0  1  2  3  4  5  6  7  8  9 10 11]\n",
      "[ 0  1  2  3  4  5  6  7  8  9 10 11]\n"
     ]
    }
   ],
   "source": [
    "# .flatten()\n",
    "# 다차원 배열 객체를 1차원으로 평탄화함\n",
    "arr4_1d = arr4.flatten() # 길이를 입력하지 않아도 됨\n",
    "print(arr4_1d)\n",
    "\n",
    "arr6_1d = arr6.flatten() # 길이를 입력하지 않아도 됨\n",
    "print(arr6_1d)"
   ]
  },
  {
   "cell_type": "code",
   "execution_count": 9,
   "id": "0e43b2a7",
   "metadata": {},
   "outputs": [
    {
     "name": "stdout",
     "output_type": "stream",
     "text": [
      "[[0 1]\n",
      " [2 3]\n",
      " [4 5]\n",
      " [6 7]]\n",
      "[[0 2 4 6]\n",
      " [1 3 5 7]]\n",
      "[[0 2 4 6]\n",
      " [1 3 5 7]]\n"
     ]
    }
   ],
   "source": [
    "# .transpose()\n",
    "# 배열의 축을 교환함\n",
    "arr_2d = np.arange(8).reshape(4,2)\n",
    "print(arr_2d)\n",
    "\n",
    "arr_2d_T = arr_2d.transpose() # 축 교환\n",
    "print(arr_2d_T)\n",
    "\n",
    "# .T 로도 바로 가능\n",
    "print(arr_2d.T)"
   ]
  }
 ],
 "metadata": {
  "kernelspec": {
   "display_name": "Python 3 (ipykernel)",
   "language": "python",
   "name": "python3"
  },
  "language_info": {
   "codemirror_mode": {
    "name": "ipython",
    "version": 3
   },
   "file_extension": ".py",
   "mimetype": "text/x-python",
   "name": "python",
   "nbconvert_exporter": "python",
   "pygments_lexer": "ipython3",
   "version": "3.9.13"
  }
 },
 "nbformat": 4,
 "nbformat_minor": 5
}
