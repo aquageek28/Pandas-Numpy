{
 "cells": [
  {
   "cell_type": "markdown",
   "id": "6b19a008",
   "metadata": {},
   "source": [
    "# Numpy의 연산"
   ]
  },
  {
   "cell_type": "code",
   "execution_count": 1,
   "id": "14978c94",
   "metadata": {},
   "outputs": [],
   "source": [
    "# Numpy 패키지 불러오기\n",
    "import numpy as np # 넘파이 패키지를 np라는 별칭으로 호출"
   ]
  },
  {
   "cell_type": "markdown",
   "id": "0f0fe6b1",
   "metadata": {},
   "source": [
    "## 1. N 차원 배열의 인덱싱과 슬라이싱"
   ]
  },
  {
   "cell_type": "markdown",
   "id": "92ea8631",
   "metadata": {},
   "source": [
    "### 인덱싱"
   ]
  },
  {
   "cell_type": "code",
   "execution_count": 2,
   "id": "8c5a09e4",
   "metadata": {},
   "outputs": [],
   "source": [
    "# 인덱싱\n",
    "# 1d-array객체 생성\n",
    "arr_1d = np.array([1, 2, 3, 4, 5])"
   ]
  },
  {
   "cell_type": "code",
   "execution_count": 3,
   "id": "e9ca213f",
   "metadata": {},
   "outputs": [
    {
     "name": "stdout",
     "output_type": "stream",
     "text": [
      "1\n",
      "3\n",
      "5\n",
      "5\n"
     ]
    }
   ],
   "source": [
    "print(arr_1d[0]) # 가장 처음(0번)으로부터 값 하나 참조\n",
    "print(arr_1d[2]) # 2번 인덱스 위치로부터 값 하나 참조\n",
    "print(arr_1d[4]) # 가장 마지막(4번)으로부터 값 하나 참조\n",
    "print(arr_1d[-1]) # 음수로도 가능(-1번으로부터 값 하나 참조)"
   ]
  },
  {
   "cell_type": "code",
   "execution_count": 4,
   "id": "661cd5e5",
   "metadata": {},
   "outputs": [],
   "source": [
    "# 2d-array객체 생성\n",
    "arr_2d = np.array([[1, 2, 3],\n",
    "                   [4, 5, 7],\n",
    "                   [6, 8, 9],\n",
    "                   [11, 17, 19]]) # 4행 3열"
   ]
  },
  {
   "cell_type": "code",
   "execution_count": 5,
   "id": "cf455eb5",
   "metadata": {},
   "outputs": [
    {
     "name": "stdout",
     "output_type": "stream",
     "text": [
      "1\n",
      "1\n",
      "8\n",
      "8\n"
     ]
    }
   ],
   "source": [
    "# Case1\n",
    "# 처음(0번) 행/열 인덱스로부터 값 하나 참조\n",
    "print(arr_2d[0,0])\n",
    "\n",
    "# Case1(음수로 할 경우)\n",
    "# –4번 행 인덱스와 –3번 열 인덱스로부터 값 하나 참조\n",
    "print(arr_2d[-4,-3])\n",
    "\n",
    "# Case2\n",
    "# 2번 행 인덱스와 1번 열 인덱스로부터 값 하나 참조\n",
    "print(arr_2d[2,1])\n",
    "\n",
    "# Case2(음수로 할 경우)\n",
    "# -2번 행/열 인덱스로부터 값 하나 참조\n",
    "print(arr_2d[-2,-2])"
   ]
  },
  {
   "cell_type": "code",
   "execution_count": 6,
   "id": "07a30ca5",
   "metadata": {},
   "outputs": [
    {
     "name": "stdout",
     "output_type": "stream",
     "text": [
      "19\n",
      "3\n",
      "11\n"
     ]
    }
   ],
   "source": [
    "# 음수 인덱싱의 활용 예\n",
    "\n",
    "# Case1\n",
    "# 3번 행 인덱스와 2번 열 인덱스로부터 값 하나를 참조하는 것보다\n",
    "# 마지막 행열에 위치하므로 -1번 행열 인덱스로부터 참조하는 것이 빠르다.\n",
    "print(arr_2d[-1,-1])\n",
    "\n",
    "# Case2\n",
    "# 가장 처음 행(0번)과 가장 마지막 열(-1번) 인덱스로부터 값 하나 참조\n",
    "print(arr_2d[0,-1])\n",
    "\n",
    "# Case3\n",
    "# 가장 마지막 행(-1번)과 가장 처음 열(0번) 인덱스로부터 값 하나 참조\n",
    "print(arr_2d[-1,0])"
   ]
  },
  {
   "cell_type": "markdown",
   "id": "dce574c9",
   "metadata": {},
   "source": [
    "### 슬라이싱"
   ]
  },
  {
   "cell_type": "code",
   "execution_count": 7,
   "id": "df19c2b6",
   "metadata": {},
   "outputs": [],
   "source": [
    "# 슬라이싱\n",
    "# 1d-array객체 생성\n",
    "arr_1d = np.array([1, 2, 3, 4, 5])"
   ]
  },
  {
   "cell_type": "code",
   "execution_count": 8,
   "id": "ad3ac490",
   "metadata": {},
   "outputs": [
    {
     "name": "stdout",
     "output_type": "stream",
     "text": [
      "[1 2]\n",
      "[1 2]\n"
     ]
    }
   ],
   "source": [
    "# Case1\n",
    "# 처음(0번)부터 2번 인덱스 번호 사이의 구간 추출\n",
    "print(arr_1d[0:2])\n",
    "print(arr_1d[:2]) # k1 = 0으로 생략 가능"
   ]
  },
  {
   "cell_type": "code",
   "execution_count": 9,
   "id": "3714a684",
   "metadata": {},
   "outputs": [
    {
     "name": "stdout",
     "output_type": "stream",
     "text": [
      "[2 3 4]\n",
      "[2 3 4]\n",
      "[2 3 4]\n"
     ]
    }
   ],
   "source": [
    "# Case2\n",
    "# 1번부터 4번 사이의 인덱스 번호 사이의 구간 추출\n",
    "print(arr_1d[1:4])\n",
    "\n",
    "# –4번부터 -1번 사이의 인덱스 번호 사이의 구간 추출\n",
    "print(arr_1d[-4:-1])\n",
    "\n",
    "# 1번부터 -1번 사이의 인덱스 번호 사이의 구간 추출\n",
    "print(arr_1d[1:-1])"
   ]
  },
  {
   "cell_type": "code",
   "execution_count": 10,
   "id": "47911814",
   "metadata": {},
   "outputs": [
    {
     "name": "stdout",
     "output_type": "stream",
     "text": [
      "[4 5]\n",
      "[4 5]\n",
      "[4 5]\n"
     ]
    }
   ],
   "source": [
    "# Case3\n",
    "# 3번부터 마지막(5번) 사이의 인덱스 번호 사이의 구간 추출\n",
    "print(arr_1d[3:5])\n",
    "\n",
    "# 3번부터 마지막 사이의 인덱스 번호 사이의 구간 추출\n",
    "print(arr_1d[3:]) # k2=길이정보로 생략 가능\n",
    " \n",
    "# -2번부터 마지막 사이의 인덱스 번호 사이의 구간 추출\n",
    "print(arr_1d[-2:])"
   ]
  },
  {
   "cell_type": "code",
   "execution_count": 11,
   "id": "899e4220",
   "metadata": {},
   "outputs": [],
   "source": [
    "# 2d-array객체 생성\n",
    "arr_2d = np.array([[1, 2, 3, 5],\n",
    "                   [1, 3, 5, 7],\n",
    "                   [2, 4, 6, 9],\n",
    "                   [7, 11, 13, 17]]) # 4행 4열"
   ]
  },
  {
   "cell_type": "code",
   "execution_count": 12,
   "id": "d9ebb9bb",
   "metadata": {},
   "outputs": [
    {
     "name": "stdout",
     "output_type": "stream",
     "text": [
      "[1 1 2 7]\n",
      "[1 1 2 7]\n",
      "[1 1 2 7]\n"
     ]
    }
   ],
   "source": [
    "# Case1\n",
    "# 행 : 전체\n",
    "# 열 : 처음(0번)부터 1번 열 인덱스 사이의 구간\n",
    "print(arr_2d[0:4, 0])\n",
    "print(arr_2d[:4, 0]) # r1=0으로 생략 가능\n",
    "print(arr_2d[:, 0]) # r1=0이고 r2=행길이므로 생략 가능"
   ]
  },
  {
   "cell_type": "code",
   "execution_count": 13,
   "id": "82e01215",
   "metadata": {},
   "outputs": [
    {
     "name": "stdout",
     "output_type": "stream",
     "text": [
      "[[1 2 3]\n",
      " [1 3 5]\n",
      " [2 4 6]]\n",
      "[[1 2 3]\n",
      " [1 3 5]\n",
      " [2 4 6]]\n",
      "[[1 2 3]\n",
      " [1 3 5]\n",
      " [2 4 6]]\n"
     ]
    }
   ],
   "source": [
    "# Case2\n",
    "# 행/열 : 처음(인덱스 0번)부터 인덱스 3번(-1번) 사이의 구간\n",
    "print(arr_2d[0:3, 0:3])\n",
    "print(arr_2d[:3, :3]) # r1=c1=0으로 생략 가능\n",
    "print(arr_2d[:-1, :-1]) # r1=c1=0으로 생략 가능"
   ]
  },
  {
   "cell_type": "code",
   "execution_count": 14,
   "id": "ab160c55",
   "metadata": {},
   "outputs": [
    {
     "name": "stdout",
     "output_type": "stream",
     "text": [
      "[[3 5]\n",
      " [4 6]]\n",
      "[[3 5]\n",
      " [4 6]]\n",
      "[[3 5]\n",
      " [4 6]]\n"
     ]
    }
   ],
   "source": [
    "# Case3\n",
    "# 행/열 : 처음 바로 뒤(1번 또는 -3번)부터 마지막 바로 앞(-1번 또는 3번) 사이의 구간\n",
    "print(arr_2d[1:3, 1:3])\n",
    "print(arr_2d[-3:-1, -3:-1])\n",
    "print(arr_2d[1:-1, 1:-1])"
   ]
  },
  {
   "cell_type": "code",
   "execution_count": 15,
   "id": "cb03d579",
   "metadata": {},
   "outputs": [
    {
     "name": "stdout",
     "output_type": "stream",
     "text": [
      "[[1 3 5 7]\n",
      " [2 4 6 9]]\n",
      "[[1 3 5 7]\n",
      " [2 4 6 9]]\n",
      "[[1 3 5 7]\n",
      " [2 4 6 9]]\n"
     ]
    }
   ],
   "source": [
    "# Case4\n",
    "# 행 : 처음 바로 뒤(1번 또는 -3번)부터 마지막 바로 앞(-1번 또는 3번) 사이의 구간\n",
    "# 열 : 전체\n",
    "print(arr_2d[1:3, 0:4])\n",
    "print(arr_2d[1:3, :]) # c1=0이고 c2=열길이이므로 생략 가능\n",
    "print(arr_2d[1:-1, :]) # c1=0이고 c2=열길이이므로 생략 가능"
   ]
  },
  {
   "cell_type": "code",
   "execution_count": 16,
   "id": "58de50ba",
   "metadata": {},
   "outputs": [
    {
     "name": "stdout",
     "output_type": "stream",
     "text": [
      "[ 7 11 13 17]\n",
      "[ 7 11 13 17]\n",
      "[ 7 11 13 17]\n"
     ]
    }
   ],
   "source": [
    "# Case5\n",
    "# 행 : 마지막 행\n",
    "# 열 : 열 전체\n",
    "print(arr_2d[3, 0:4])\n",
    "print(arr_2d[3, :]) # c1=0이고 c2=열길이이므로 생략 가능\n",
    "print(arr_2d[-1, :]) # c1=0이고 c2=열길이이므로 생략 가능"
   ]
  },
  {
   "cell_type": "code",
   "execution_count": 17,
   "id": "898eccdc",
   "metadata": {},
   "outputs": [
    {
     "name": "stdout",
     "output_type": "stream",
     "text": [
      "[[ 6  9]\n",
      " [13 17]]\n",
      "[[ 6  9]\n",
      " [13 17]]\n",
      "[[ 6  9]\n",
      " [13 17]]\n"
     ]
    }
   ],
   "source": [
    "# Case6\n",
    "# 행/열 : 2번(또는 -2번)부터 마지막 인덱스 사이의 구간\n",
    "print(arr_2d[2:4, 2:4])\n",
    "print(arr_2d[2:, 2:]) # c2=열길이이므로 생략 가능\n",
    "print(arr_2d[-2:, -2:]) # c2=열길이이므로 생략 가능"
   ]
  },
  {
   "cell_type": "markdown",
   "id": "69c3f2fd",
   "metadata": {},
   "source": [
    "## 1. N 차원 배열의 원소별 연산"
   ]
  },
  {
   "cell_type": "markdown",
   "id": "624c90b0",
   "metadata": {},
   "source": [
    "### 단일 배열객체의 범용 함수"
   ]
  },
  {
   "cell_type": "code",
   "execution_count": 18,
   "id": "4e8be5ca",
   "metadata": {},
   "outputs": [
    {
     "name": "stdout",
     "output_type": "stream",
     "text": [
      "[  0   1  -4   9 -16  25]\n"
     ]
    }
   ],
   "source": [
    "# 단일 배열객체에 대한 범용 함수\n",
    "# 1d-array객체 생성\n",
    "arr = np.array([0, 1, -4, 9, -16, 25])\n",
    "print(arr)"
   ]
  },
  {
   "cell_type": "code",
   "execution_count": 19,
   "id": "40f66b25",
   "metadata": {},
   "outputs": [
    {
     "name": "stdout",
     "output_type": "stream",
     "text": [
      "[ 0  1  4  9 16 25]\n",
      "[ 0.  1.  4.  9. 16. 25.]\n"
     ]
    }
   ],
   "source": [
    "# abs : 원소별 절대값을 반환(abs는 파이썬 기본 내장함수로도 가능함)\n",
    "arr_abs = np.abs(arr)\n",
    "print(arr_abs)\n",
    "\n",
    "# fabs : 원소별 절대값을 반환(abs보다 빠름)\n",
    "arr_fabs = np.fabs(arr)\n",
    "print(arr_fabs)"
   ]
  },
  {
   "cell_type": "code",
   "execution_count": 20,
   "id": "38b24590",
   "metadata": {},
   "outputs": [
    {
     "name": "stdout",
     "output_type": "stream",
     "text": [
      "[ 0.  1. nan  3. nan  5.]\n"
     ]
    },
    {
     "name": "stderr",
     "output_type": "stream",
     "text": [
      "/var/folders/bk/xfd679sj72v2213jc_8tf6gw0000gn/T/ipykernel_2117/2879652879.py:3: RuntimeWarning: invalid value encountered in sqrt\n",
      "  arr_sqrt = np.sqrt(arr)\n"
     ]
    }
   ],
   "source": [
    "# sqrt : 원소별 제곱근 값 반환\n",
    "# 음수는 nan 반환됨\n",
    "arr_sqrt = np.sqrt(arr)\n",
    "print(arr_sqrt)"
   ]
  },
  {
   "cell_type": "code",
   "execution_count": 21,
   "id": "3c63f27a",
   "metadata": {},
   "outputs": [
    {
     "name": "stdout",
     "output_type": "stream",
     "text": [
      "[  0   1  16  81 256 625]\n"
     ]
    }
   ],
   "source": [
    "# square : 원소별 제곱 값을 반환\n",
    "arr_square = np.square(arr)\n",
    "print(arr_square)"
   ]
  },
  {
   "cell_type": "code",
   "execution_count": 22,
   "id": "6f7c0bca",
   "metadata": {},
   "outputs": [
    {
     "name": "stdout",
     "output_type": "stream",
     "text": [
      "[1.00000000e+00 2.71828183e+00 1.83156389e-02 8.10308393e+03\n",
      " 1.12535175e-07 7.20048993e+10]\n"
     ]
    }
   ],
   "source": [
    "# exp : 원소별 밑이 e인 지수 함수 값을 반환\n",
    "arr_exp = np.exp(arr)\n",
    "print(arr_exp)"
   ]
  },
  {
   "cell_type": "code",
   "execution_count": 23,
   "id": "3d26b182",
   "metadata": {},
   "outputs": [
    {
     "name": "stdout",
     "output_type": "stream",
     "text": [
      "[      -inf 0.                nan 2.19722458        nan 3.21887582]\n",
      "[      -inf 0.                nan 0.95424251        nan 1.39794001]\n"
     ]
    },
    {
     "name": "stderr",
     "output_type": "stream",
     "text": [
      "/var/folders/bk/xfd679sj72v2213jc_8tf6gw0000gn/T/ipykernel_2117/629030723.py:3: RuntimeWarning: divide by zero encountered in log\n",
      "  arr_log = np.log(arr)\n",
      "/var/folders/bk/xfd679sj72v2213jc_8tf6gw0000gn/T/ipykernel_2117/629030723.py:3: RuntimeWarning: invalid value encountered in log\n",
      "  arr_log = np.log(arr)\n",
      "/var/folders/bk/xfd679sj72v2213jc_8tf6gw0000gn/T/ipykernel_2117/629030723.py:8: RuntimeWarning: divide by zero encountered in log10\n",
      "  arr_log10 = np.log10(arr)\n",
      "/var/folders/bk/xfd679sj72v2213jc_8tf6gw0000gn/T/ipykernel_2117/629030723.py:8: RuntimeWarning: invalid value encountered in log10\n",
      "  arr_log10 = np.log10(arr)\n"
     ]
    }
   ],
   "source": [
    "# log : 원소별 자연로그 값을 반환\n",
    "# 음수는 nan, 0은 -inf 반환됨\n",
    "arr_log = np.log(arr)\n",
    "print(arr_log)\n",
    "\n",
    "# log10 : 원소별 상용로그 값을 반환\n",
    "# 음수는 nan, 0은 -inf 반환됨\n",
    "arr_log10 = np.log10(arr)\n",
    "print(arr_log10)"
   ]
  },
  {
   "cell_type": "code",
   "execution_count": 24,
   "id": "6de6fc49",
   "metadata": {},
   "outputs": [
    {
     "name": "stdout",
     "output_type": "stream",
     "text": [
      "[ 0  1 -1  1 -1  1]\n"
     ]
    }
   ],
   "source": [
    "# sign : 원소별 부호 값을 반환\n",
    "# 양수면 1, 음수면 -1, 0은 0을 반환\n",
    "arr_sign = np.sign(arr)\n",
    "print(arr_sign)"
   ]
  },
  {
   "cell_type": "code",
   "execution_count": 25,
   "id": "f179ea37",
   "metadata": {},
   "outputs": [
    {
     "name": "stdout",
     "output_type": "stream",
     "text": [
      "[ 1.15  -2.33   3.457 -4.095]\n"
     ]
    }
   ],
   "source": [
    "# 단일 배열객체의 소숫점을 처리하는 범용 함수\n",
    "# 1d-array객체 생성\n",
    "arr = np.array([1.15, -2.33, 3.457, -4.095])\n",
    "print(arr)"
   ]
  },
  {
   "cell_type": "code",
   "execution_count": 26,
   "id": "738967b0",
   "metadata": {},
   "outputs": [
    {
     "name": "stdout",
     "output_type": "stream",
     "text": [
      "[ 1. -2.  3. -4.]\n",
      "[ 1.2 -2.3  3.5 -4.1]\n"
     ]
    }
   ],
   "source": [
    "# round : 원소별 소수점을 원하는 자릿수까지 반올림한 값을 반환\n",
    "arr_round = np.round(arr) # default는 0\n",
    "print(arr_round)\n",
    "\n",
    "arr_round_decimals_1 = np.round(arr, 1) #decimals 인자 값만 입력해도 됨\n",
    "print(arr_round_decimals_1)"
   ]
  },
  {
   "cell_type": "code",
   "execution_count": 27,
   "id": "53afb411",
   "metadata": {},
   "outputs": [
    {
     "name": "stdout",
     "output_type": "stream",
     "text": [
      "[ 2. -2.  4. -4.]\n"
     ]
    }
   ],
   "source": [
    "# ceil : 원소별 소수점을 올림한 값을 반환\n",
    "arr_ceil = np.ceil(arr)\n",
    "print(arr_ceil)"
   ]
  },
  {
   "cell_type": "code",
   "execution_count": 28,
   "id": "cdffa296",
   "metadata": {},
   "outputs": [
    {
     "name": "stdout",
     "output_type": "stream",
     "text": [
      "[ 1. -3.  3. -5.]\n"
     ]
    }
   ],
   "source": [
    "# floor : 원소별 소수점을 내림한 값을 반환\n",
    "arr_floor = np.floor(arr)\n",
    "print(arr_floor)"
   ]
  },
  {
   "cell_type": "code",
   "execution_count": 29,
   "id": "7d16355c",
   "metadata": {},
   "outputs": [
    {
     "name": "stdout",
     "output_type": "stream",
     "text": [
      "[ 1. -2.  3. -4.]\n"
     ]
    }
   ],
   "source": [
    "# trunc : 원소별 소수점을 잘라버린 값을 반환\n",
    "arr_trunc = np.trunc(arr)\n",
    "print(arr_trunc)"
   ]
  },
  {
   "cell_type": "markdown",
   "id": "35765f9c",
   "metadata": {},
   "source": [
    "### 서로 다른 배열객체의 범용 함수"
   ]
  },
  {
   "cell_type": "code",
   "execution_count": 30,
   "id": "ecdf78f2",
   "metadata": {},
   "outputs": [
    {
     "name": "stdout",
     "output_type": "stream",
     "text": [
      "[0 1 2 3 4]\n",
      "[1 3 5 7 9]\n"
     ]
    }
   ],
   "source": [
    "# 서로 배열객체에 대한 범용 함수\n",
    "# 1d-array객체 생성\n",
    "arr_1 = np.arange(5) # 0 1 2 3 4\n",
    "print(arr_1)\n",
    "\n",
    "arr_2 = np.arange(1, 10, step = 2) # 1 3 5 7 9\n",
    "print(arr_2)"
   ]
  },
  {
   "cell_type": "code",
   "execution_count": 31,
   "id": "d889bf0e",
   "metadata": {},
   "outputs": [
    {
     "name": "stdout",
     "output_type": "stream",
     "text": [
      "[ 1  4  7 10 13]\n",
      "[ 1  4  7 10 13]\n"
     ]
    }
   ],
   "source": [
    "# add : 두 배열객체의 원소 별 덧셈\n",
    "arr_add_1 = np.add(arr_1, arr_2)\n",
    "print(arr_add_1)\n",
    "\n",
    "# 연산자 +로 대신 가능\n",
    "arr_add_2 = arr_1 + arr_2\n",
    "print(arr_add_2)"
   ]
  },
  {
   "cell_type": "code",
   "execution_count": 32,
   "id": "fb0f1009",
   "metadata": {},
   "outputs": [
    {
     "name": "stdout",
     "output_type": "stream",
     "text": [
      "[-1 -2 -3 -4 -5]\n",
      "[-1 -2 -3 -4 -5]\n"
     ]
    }
   ],
   "source": [
    "# subtract : 두 배열객체의 원소 별 뺄셈\n",
    "arr_subtract_1 = np.subtract(arr_1, arr_2)\n",
    "print(arr_subtract_1)\n",
    "\n",
    "# 연산자 -로 대신 가능\n",
    "arr_subtract_2 = arr_1 - arr_2\n",
    "print(arr_subtract_2)"
   ]
  },
  {
   "cell_type": "code",
   "execution_count": 33,
   "id": "bb21dfbb",
   "metadata": {},
   "outputs": [
    {
     "name": "stdout",
     "output_type": "stream",
     "text": [
      "[ 0  3 10 21 36]\n",
      "[ 0  3 10 21 36]\n"
     ]
    }
   ],
   "source": [
    "# multiply : 두 배열객체의 원소 별 곱셈\n",
    "arr_multiply_1 = np.multiply(arr_1, arr_2)\n",
    "print(arr_multiply_1)\n",
    "\n",
    "# 연산자 *로 대신 가능\n",
    "arr_multiply_2 = arr_1 * arr_2\n",
    "print(arr_multiply_2)"
   ]
  },
  {
   "cell_type": "code",
   "execution_count": 34,
   "id": "8cb25cd8",
   "metadata": {},
   "outputs": [
    {
     "name": "stdout",
     "output_type": "stream",
     "text": [
      "[0.         0.33333333 0.4        0.42857143 0.44444444]\n",
      "[0.         0.33333333 0.4        0.42857143 0.44444444]\n"
     ]
    }
   ],
   "source": [
    "# divide : 두 배열객체의 원소 별 나눗셈\n",
    "arr_divide_1 = np.divide(arr_1, arr_2)\n",
    "print(arr_divide_1)\n",
    "\n",
    "# 연산자 /로 대신 가능\n",
    "arr_divide_2 = arr_1 / arr_2\n",
    "print(arr_divide_2)"
   ]
  },
  {
   "cell_type": "code",
   "execution_count": 35,
   "id": "240976fb",
   "metadata": {},
   "outputs": [
    {
     "name": "stdout",
     "output_type": "stream",
     "text": [
      "[0 1 2 3 4]\n",
      "[0 1 2 3 4]\n"
     ]
    }
   ],
   "source": [
    "# mod : 두 배열객체의 원소 별 나눈 후 나머지\n",
    "arr_mod_1 = np.mod(arr_1, arr_2)\n",
    "print(arr_mod_1)\n",
    "\n",
    "# 연산자 %로 대신 가능\n",
    "arr_mod_2 = arr_1 % arr_2\n",
    "print(arr_mod_2)"
   ]
  },
  {
   "cell_type": "code",
   "execution_count": 36,
   "id": "5a570ca6",
   "metadata": {},
   "outputs": [
    {
     "name": "stdout",
     "output_type": "stream",
     "text": [
      "[1 2 3]\n",
      "(3,)\n",
      "[5]\n",
      "(1,)\n",
      "[6 7 8]\n",
      "(3,)\n"
     ]
    }
   ],
   "source": [
    "# 두 배열객체가 서로 다른 길이, 차원, shape를 가질 경우\n",
    "# Case1. 길이가 다른 경우\n",
    "# 길이가 3인 1d-array 생성\n",
    "arr_1d_3 = np.array([1, 2, 3])\n",
    "print(arr_1d_3) # 확인\n",
    "print(arr_1d_3.shape) # shape 확인\n",
    "\n",
    "# 길이가 1인 1d-array 생성\n",
    "arr_1d_1 = np.array([5])\n",
    "print(arr_1d_1) # 확인\n",
    "print(arr_1d_1.shape) # shape 확인\n",
    "\n",
    "# 두 배열객체의 합은 길이가 3인 1d-array가 됨\n",
    "arr_add = arr_1d_3 + arr_1d_1\n",
    "print(arr_add) # 확인\n",
    "print(arr_add.shape) # shape 확인"
   ]
  },
  {
   "cell_type": "code",
   "execution_count": 37,
   "id": "1277e2c1",
   "metadata": {},
   "outputs": [
    {
     "name": "stdout",
     "output_type": "stream",
     "text": [
      "[[1 4 7]\n",
      " [2 5 8]\n",
      " [3 6 9]]\n",
      "(3, 3)\n",
      "[ 1  0 -1]\n",
      "(3,)\n",
      "[[2 4 6]\n",
      " [3 5 7]\n",
      " [4 6 8]]\n",
      "(3, 3)\n"
     ]
    }
   ],
   "source": [
    "# Case2. 차원이 다른 경우\n",
    "# 행길이 3, 열길이 3인 2d-array 생성\n",
    "arr_2d_3x3 = np.array([[1, 4, 7],\n",
    "                       [2, 5, 8],\n",
    "                       [3, 6, 9]])\n",
    "\n",
    "print(arr_2d_3x3) # 확인\n",
    "print(arr_2d_3x3.shape) # shape 확인\n",
    "\n",
    "# 길이가 3인 1d-array 생성\n",
    "arr_1d_3 = np.array([1, 0, -1])\n",
    "print(arr_1d_3) # 확인\n",
    "print(arr_1d_3.shape) # shape 확인\n",
    "\n",
    "# 두 배열객체의 합은 행길이 3, 열길이 3인 2d-array가 됨\n",
    "arr_add = arr_2d_3x3 + arr_1d_3\n",
    "print(arr_add) # 확인\n",
    "print(arr_add.shape) # shape 확인"
   ]
  },
  {
   "cell_type": "code",
   "execution_count": 38,
   "id": "84fc7487",
   "metadata": {},
   "outputs": [
    {
     "name": "stdout",
     "output_type": "stream",
     "text": [
      "[[1 2 3]]\n",
      "(1, 3)\n",
      "2\n",
      "[[ 1]\n",
      " [ 0]\n",
      " [-1]]\n",
      "(3, 1)\n",
      "2\n",
      "[[2 3 4]\n",
      " [1 2 3]\n",
      " [0 1 2]]\n",
      "(3, 3)\n"
     ]
    }
   ],
   "source": [
    "# Case3. shape가 다른 경우\n",
    "# 행길이 1, 열길이 3인 2d-array 생성\n",
    "arr_2d_1x3 = np.array([[1, 2, 3]])\n",
    "\n",
    "print(arr_2d_1x3) # 확인\n",
    "print(arr_2d_1x3.shape) # shape 확인\n",
    "print(arr_2d_1x3.ndim) # 차원 확인\n",
    "\n",
    "# 행길이 3, 열길이 1인 2d-array 생성\n",
    "arr_2d_3x1 = np.array([[1],\n",
    "                       [0],\n",
    "                       [-1]]) \n",
    "\n",
    "print(arr_2d_3x1) # 확인\n",
    "print(arr_2d_3x1.shape) # shape 확인\n",
    "print(arr_2d_3x1.ndim) # 차원 확인\n",
    "\n",
    "# 두 배열객체의 합은 행길이 3, 열길이 3인 2d-array가 됨\n",
    "arr_add = arr_2d_1x3 + arr_2d_3x1\n",
    "print(arr_add) # 확인\n",
    "print(arr_add.shape) # shape 확인"
   ]
  }
 ],
 "metadata": {
  "kernelspec": {
   "display_name": "Python 3 (ipykernel)",
   "language": "python",
   "name": "python3"
  },
  "language_info": {
   "codemirror_mode": {
    "name": "ipython",
    "version": 3
   },
   "file_extension": ".py",
   "mimetype": "text/x-python",
   "name": "python",
   "nbconvert_exporter": "python",
   "pygments_lexer": "ipython3",
   "version": "3.9.13"
  }
 },
 "nbformat": 4,
 "nbformat_minor": 5
}
