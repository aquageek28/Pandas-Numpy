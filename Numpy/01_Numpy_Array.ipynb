{
 "cells": [
  {
   "cell_type": "markdown",
   "id": "c099dee9",
   "metadata": {},
   "source": [
    "# Numpy의 배열 객체"
   ]
  },
  {
   "cell_type": "code",
   "execution_count": 1,
   "id": "d31376df",
   "metadata": {},
   "outputs": [],
   "source": [
    "# Numpy 패키지 불러오기\n",
    "import numpy as np # 넘파이 패키지를 np라는 별칭으로 호출"
   ]
  },
  {
   "cell_type": "markdown",
   "id": "e4ca1349",
   "metadata": {},
   "source": [
    "#### [ ndarray 생성 ]\n",
    "\n",
    "- ndarray(다차원 배열)객체는 아래의 주요 함수들을 통해 쉽게 생성이 가능하다. <br> 아래의 함수는 Numpy Package 내 디렉토리 구조로 되어 있으므로 **numpy.함수명** 과 같은 방법으로 사용 가능하다.\n",
    "\n",
    "|메소드|기능|\n",
    "|:------|:---------|\n",
    "|array(object)|객체(object)를 배열로 반환함|\n",
    "|arange([start,] stop, [step,])| start 숫자에서 step 간격으로 증가하여 end(end를 포함하지 않는)숫자까지 실수열을 생성 |\n",
    "|ones(shape)| shape는 정수 또는 튜플 형태로 입력되어, shape 값에 따른 모든 값이 1인 배열을 생성 |\n",
    "|zeros(shape)| shape는 정수 또는 튜플 형태로 입력되어, shape 값에 따른 모든 값이 0인 배열을 생성 |\n",
    "|full(shape, fill_value)| shape는 정수 또는 튜플 형태로 입력되어, shape 값에 따른 모든 값이 fill_value인 배열을 생성 |\n",
    "|identity(n)| 주 대각성분이 1인 행과 열의 수가 n개인 정사각 2차원 배열(항등행렬과 유사) |"
   ]
  },
  {
   "cell_type": "markdown",
   "id": "7e94c189",
   "metadata": {},
   "source": [
    "## 1. N 차원 배열 생성하기"
   ]
  },
  {
   "cell_type": "markdown",
   "id": "62ddc6b9",
   "metadata": {},
   "source": [
    "### 1차원 배열 생성하기"
   ]
  },
  {
   "cell_type": "code",
   "execution_count": 2,
   "id": "c25faffa",
   "metadata": {},
   "outputs": [
    {
     "data": {
      "text/plain": [
       "array([1, 3, 5, 7, 9])"
      ]
     },
     "execution_count": 2,
     "metadata": {},
     "output_type": "execute_result"
    }
   ],
   "source": [
    "# 1d-array 생성\n",
    "# array(object) : 객체(object)를 배열로 반환함 \n",
    "np.array([1, 3, 5, 7, 9]) # 리스트객체를 1차원 배열로"
   ]
  },
  {
   "cell_type": "code",
   "execution_count": 3,
   "id": "7c1743d0",
   "metadata": {},
   "outputs": [
    {
     "data": {
      "text/plain": [
       "array('data', dtype='<U4')"
      ]
     },
     "execution_count": 3,
     "metadata": {},
     "output_type": "execute_result"
    }
   ],
   "source": [
    "np.array('data') # 문자열객체를 1차원 배열로"
   ]
  },
  {
   "cell_type": "code",
   "execution_count": 4,
   "id": "db209ec2",
   "metadata": {},
   "outputs": [
    {
     "data": {
      "text/plain": [
       "array([0, 1, 2, 3, 4, 5, 6])"
      ]
     },
     "execution_count": 4,
     "metadata": {},
     "output_type": "execute_result"
    }
   ],
   "source": [
    "# arange([start, ]stop, [step, ])\n",
    "# start 숫자에서 step 간격으로 증가해 end 전(end를 포함하지 않는) 숫자까지 숫자열 생성\n",
    "np.arange(7) # 0에서 6까지 정수열 1차원 배열 생성"
   ]
  },
  {
   "cell_type": "code",
   "execution_count": 5,
   "id": "43f3dd95",
   "metadata": {},
   "outputs": [
    {
     "data": {
      "text/plain": [
       "array([1. , 1.5, 2. , 2.5, 3. , 3.5, 4. , 4.5, 5. , 5.5])"
      ]
     },
     "execution_count": 5,
     "metadata": {},
     "output_type": "execute_result"
    }
   ],
   "source": [
    "# arange는 정수형만 가능한 range()와는 달리 실수도 가능\n",
    "np.arange(1, 6, 0.5) # 1에서 5까지 0.5씩 증가하는 실수열 1차원 배열 생성"
   ]
  },
  {
   "cell_type": "code",
   "execution_count": 6,
   "id": "cdd382ad",
   "metadata": {},
   "outputs": [
    {
     "ename": "TypeError",
     "evalue": "'float' object cannot be interpreted as an integer",
     "output_type": "error",
     "traceback": [
      "\u001b[0;31m---------------------------------------------------------------------------\u001b[0m",
      "\u001b[0;31mTypeError\u001b[0m                                 Traceback (most recent call last)",
      "\u001b[0;32m/var/folders/bk/xfd679sj72v2213jc_8tf6gw0000gn/T/ipykernel_2111/2513479681.py\u001b[0m in \u001b[0;36m<module>\u001b[0;34m\u001b[0m\n\u001b[1;32m      1\u001b[0m \u001b[0;31m# (참고) range()는 step에 실수가 되지 않아 오류\u001b[0m\u001b[0;34m\u001b[0m\u001b[0;34m\u001b[0m\u001b[0m\n\u001b[0;32m----> 2\u001b[0;31m \u001b[0mrange\u001b[0m\u001b[0;34m(\u001b[0m\u001b[0;36m1\u001b[0m\u001b[0;34m,\u001b[0m \u001b[0;36m6\u001b[0m\u001b[0;34m,\u001b[0m \u001b[0;36m0.5\u001b[0m\u001b[0;34m)\u001b[0m\u001b[0;34m\u001b[0m\u001b[0;34m\u001b[0m\u001b[0m\n\u001b[0m",
      "\u001b[0;31mTypeError\u001b[0m: 'float' object cannot be interpreted as an integer"
     ]
    }
   ],
   "source": [
    "# (참고) range()는 step에 실수가 되지 않아 오류\n",
    "range(1, 6, 0.5)"
   ]
  },
  {
   "cell_type": "code",
   "execution_count": 7,
   "id": "9fcb98e3",
   "metadata": {},
   "outputs": [
    {
     "data": {
      "text/plain": [
       "array([1., 1., 1., 1., 1.])"
      ]
     },
     "execution_count": 7,
     "metadata": {},
     "output_type": "execute_result"
    }
   ],
   "source": [
    "# ones(shape)\n",
    "# shape 값에 따른 모든 값이 1.(실수)인 배열을 생성\n",
    "np.ones(5)  # 모든 값이 1.이고 요소가 5개인 1차원 배열 생성"
   ]
  },
  {
   "cell_type": "code",
   "execution_count": 8,
   "id": "22475763",
   "metadata": {},
   "outputs": [
    {
     "data": {
      "text/plain": [
       "array([0., 0., 0., 0., 0.])"
      ]
     },
     "execution_count": 8,
     "metadata": {},
     "output_type": "execute_result"
    }
   ],
   "source": [
    "# zeros(shape)\n",
    "# shape 값에 따른 모든 값이 0.(실수)인 배열을 생성\n",
    "np.zeros(5) # 모든 값이 0.이고 요소가 5개인 1차원 배열 생성"
   ]
  },
  {
   "cell_type": "code",
   "execution_count": 9,
   "id": "f5dce062",
   "metadata": {},
   "outputs": [
    {
     "data": {
      "text/plain": [
       "array([4., 4., 4., 4., 4.])"
      ]
     },
     "execution_count": 9,
     "metadata": {},
     "output_type": "execute_result"
    }
   ],
   "source": [
    "# full(shape, fill_value)\n",
    "# shape 값에 따른 모든 값이 fill_value인 배열을 생성\n",
    "np.full(5, 4.) # 모든 값이 4.(실수)이고 요소가 5개인 1차원 배열 생성"
   ]
  },
  {
   "cell_type": "code",
   "execution_count": 10,
   "id": "93ddb45f",
   "metadata": {},
   "outputs": [
    {
     "data": {
      "text/plain": [
       "dtype('int64')"
      ]
     },
     "execution_count": 10,
     "metadata": {},
     "output_type": "execute_result"
    }
   ],
   "source": [
    "# 배열 객체의 데이터 타입(dtype)\n",
    "# 4가 정수이므로 배열은 정수형이 됨\n",
    "np.full(5, 4).dtype"
   ]
  },
  {
   "cell_type": "code",
   "execution_count": 11,
   "id": "0a1f85f2",
   "metadata": {},
   "outputs": [
    {
     "data": {
      "text/plain": [
       "dtype('float64')"
      ]
     },
     "execution_count": 11,
     "metadata": {},
     "output_type": "execute_result"
    }
   ],
   "source": [
    "# 4.은 실수이므로 배열은 실수형이 됨\n",
    "np.full(5, 4.).dtype "
   ]
  },
  {
   "cell_type": "code",
   "execution_count": 12,
   "id": "39242750",
   "metadata": {},
   "outputs": [
    {
     "data": {
      "text/plain": [
       "dtype('float64')"
      ]
     },
     "execution_count": 12,
     "metadata": {},
     "output_type": "execute_result"
    }
   ],
   "source": [
    "# 4가 정수이지만, dtype인자를 통해 float로 지정하면 실수형이 됨\n",
    "np.full(5, 4, dtype = 'float').dtype"
   ]
  },
  {
   "cell_type": "markdown",
   "id": "e5852921",
   "metadata": {},
   "source": [
    "### 2차원 배열 생성하기"
   ]
  },
  {
   "cell_type": "code",
   "execution_count": 13,
   "id": "da96cf9d",
   "metadata": {},
   "outputs": [
    {
     "data": {
      "text/plain": [
       "array([[ 1,  3,  5,  7,  9],\n",
       "       [ 2,  4,  6,  8, 10]])"
      ]
     },
     "execution_count": 13,
     "metadata": {},
     "output_type": "execute_result"
    }
   ],
   "source": [
    "# 2d-array 생성\n",
    "# 리스트 객체를 2차원 배열로\n",
    "np.array([[1, 3, 5, 7, 9], [2, 4, 6, 8, 10]]) # 2행 5열"
   ]
  },
  {
   "cell_type": "code",
   "execution_count": 14,
   "id": "c31fc28a",
   "metadata": {},
   "outputs": [
    {
     "data": {
      "text/plain": [
       "array([[1, 2, 3],\n",
       "       [4, 5, 6],\n",
       "       [7, 8, 9]])"
      ]
     },
     "execution_count": 14,
     "metadata": {},
     "output_type": "execute_result"
    }
   ],
   "source": [
    "# 리스트 객체를 2차원 배열로\n",
    "np.array([[1, 2, 3], [4, 5, 6], [7, 8, 9]]) # 3행 3열"
   ]
  },
  {
   "cell_type": "code",
   "execution_count": 15,
   "id": "34fcbd87",
   "metadata": {},
   "outputs": [
    {
     "data": {
      "text/plain": [
       "array([[1, 1, 1, 1, 1],\n",
       "       [1, 1, 1, 1, 1]])"
      ]
     },
     "execution_count": 15,
     "metadata": {},
     "output_type": "execute_result"
    }
   ],
   "source": [
    "# 모든 값이 1(정수)이고 행의 수가 2, 열의 수가 5개인 2차원 배열 생성\n",
    "np.ones((2,5), dtype = 'int') # dtype 생략할 경우 실수로 자동 생성"
   ]
  },
  {
   "cell_type": "code",
   "execution_count": 16,
   "id": "6f2803bb",
   "metadata": {},
   "outputs": [
    {
     "data": {
      "text/plain": [
       "array([[0, 0, 0, 0, 0],\n",
       "       [0, 0, 0, 0, 0]])"
      ]
     },
     "execution_count": 16,
     "metadata": {},
     "output_type": "execute_result"
    }
   ],
   "source": [
    "# 모든 값이 0(정수)이고 행의 수가 2, 열의 수가 5개인 2차원 배열 생성\n",
    "np.zeros((2,5), dtype = 'int') # dtype 생략할 경우 실수로 자동 생성"
   ]
  },
  {
   "cell_type": "code",
   "execution_count": 17,
   "id": "4403a122",
   "metadata": {},
   "outputs": [
    {
     "data": {
      "text/plain": [
       "array([[5, 5, 5, 5, 5],\n",
       "       [5, 5, 5, 5, 5]])"
      ]
     },
     "execution_count": 17,
     "metadata": {},
     "output_type": "execute_result"
    }
   ],
   "source": [
    "# 모든 값이 5(정수)이고 행의 수가 2, 열의 수가 5개인 2차원 배열 생성\n",
    "np.full((2,5), 5)"
   ]
  },
  {
   "cell_type": "code",
   "execution_count": 18,
   "id": "42255483",
   "metadata": {},
   "outputs": [
    {
     "data": {
      "text/plain": [
       "array([[1., 0., 0., 0., 0.],\n",
       "       [0., 1., 0., 0., 0.],\n",
       "       [0., 0., 1., 0., 0.],\n",
       "       [0., 0., 0., 1., 0.],\n",
       "       [0., 0., 0., 0., 1.]])"
      ]
     },
     "execution_count": 18,
     "metadata": {},
     "output_type": "execute_result"
    }
   ],
   "source": [
    "# 주 대각성분이 1인 행과 열의 수가 5개인 정사각 2차원 배열 생성(항등행렬과 유사)\n",
    "np.identity(5)"
   ]
  },
  {
   "cell_type": "markdown",
   "id": "737f1a8f",
   "metadata": {},
   "source": [
    "### 3차원 배열 생성하기"
   ]
  },
  {
   "cell_type": "code",
   "execution_count": 19,
   "id": "3ed6420f",
   "metadata": {},
   "outputs": [
    {
     "data": {
      "text/plain": [
       "array([[[ 1,  2,  3,  4],\n",
       "        [ 5,  6,  7,  8]],\n",
       "\n",
       "       [[ 2,  4,  6,  8],\n",
       "        [10, 12, 14, 16]],\n",
       "\n",
       "       [[ 1,  3,  5,  7],\n",
       "        [ 9, 11, 13, 15]]])"
      ]
     },
     "execution_count": 19,
     "metadata": {},
     "output_type": "execute_result"
    }
   ],
   "source": [
    "# 3d-array 생성\n",
    "# 리스트 객체를 3차원 배열로\n",
    "np.array([\n",
    "    [[1, 2, 3, 4], [5, 6, 7, 8]], # 0층\n",
    "    [[2, 4, 6, 8], [10, 12, 14, 16]], # 1층\n",
    "    [[1, 3, 5, 7], [9, 11, 13, 15]] # 2층\n",
    "         ]) # 3층 2행 4열"
   ]
  },
  {
   "cell_type": "code",
   "execution_count": 20,
   "id": "1ab227f8",
   "metadata": {},
   "outputs": [
    {
     "data": {
      "text/plain": [
       "array([[[1, 1, 1, 1],\n",
       "        [1, 1, 1, 1]],\n",
       "\n",
       "       [[1, 1, 1, 1],\n",
       "        [1, 1, 1, 1]],\n",
       "\n",
       "       [[1, 1, 1, 1],\n",
       "        [1, 1, 1, 1]]])"
      ]
     },
     "execution_count": 20,
     "metadata": {},
     "output_type": "execute_result"
    }
   ],
   "source": [
    "# 모든 값이 1이고 3층 2행 4열인 3차원 배열 생성\n",
    "np.ones((3, 2, 4), dtype = 'int') # dtype 생략할 경우 실수로 자동 생성"
   ]
  },
  {
   "cell_type": "code",
   "execution_count": 21,
   "id": "87b7a1ab",
   "metadata": {},
   "outputs": [
    {
     "data": {
      "text/plain": [
       "array([[[0, 0, 0, 0],\n",
       "        [0, 0, 0, 0]],\n",
       "\n",
       "       [[0, 0, 0, 0],\n",
       "        [0, 0, 0, 0]],\n",
       "\n",
       "       [[0, 0, 0, 0],\n",
       "        [0, 0, 0, 0]]])"
      ]
     },
     "execution_count": 21,
     "metadata": {},
     "output_type": "execute_result"
    }
   ],
   "source": [
    "# 모든 값이 0이고 3층 2행 4열인 3차원 배열 생성\n",
    "np.zeros((3, 2, 4), dtype = 'int') # dtype 생략할 경우 실수로 자동 생성"
   ]
  },
  {
   "cell_type": "code",
   "execution_count": 22,
   "id": "75865f8a",
   "metadata": {},
   "outputs": [
    {
     "data": {
      "text/plain": [
       "array([[[5, 5, 5, 5],\n",
       "        [5, 5, 5, 5]],\n",
       "\n",
       "       [[5, 5, 5, 5],\n",
       "        [5, 5, 5, 5]],\n",
       "\n",
       "       [[5, 5, 5, 5],\n",
       "        [5, 5, 5, 5]]])"
      ]
     },
     "execution_count": 22,
     "metadata": {},
     "output_type": "execute_result"
    }
   ],
   "source": [
    "# 모든 값이 5이고 3층 2행 4열인 3차원 배열 생성\n",
    "np.full((3, 2, 4), 5)"
   ]
  },
  {
   "cell_type": "markdown",
   "id": "df77c08d",
   "metadata": {},
   "source": [
    "## 2. N 차원 배열 확인하기"
   ]
  },
  {
   "cell_type": "code",
   "execution_count": 23,
   "id": "98c62153",
   "metadata": {},
   "outputs": [],
   "source": [
    "# ndarray 생성\n",
    "# 1d-array\n",
    "arr_1d = np.array([1, 2, 3, 4])\n",
    "\n",
    "# 2d-array\n",
    "arr_2d = np.array([[1, 2, 3, 4], [5, 6, 7, 8]]) # 2행 4열\n",
    "\n",
    "# 3d-array\n",
    "arr_3d = np.array([\n",
    "    [[1, 2, 3, 4], [5, 6, 7, 8]], # 0층\n",
    "    [[2, 4, 6, 8], [10, 12, 14, 16]], # 1층\n",
    "    [[1, 3, 5, 7], [9, 11, 13, 15]] # 2층\n",
    "    ]) # 3층 2행 4열"
   ]
  },
  {
   "cell_type": "code",
   "execution_count": 24,
   "id": "73bf83e6",
   "metadata": {},
   "outputs": [
    {
     "name": "stdout",
     "output_type": "stream",
     "text": [
      "(4,)\n",
      "(2, 4)\n",
      "(3, 2, 4)\n"
     ]
    }
   ],
   "source": [
    "# .shape\n",
    "# 배열객체의 [층,] 행, [열]의 수\n",
    "print(arr_1d.shape) # 1d-array의 경우 길이정보가 (길이, )와 같은 형태로 반환됨\n",
    "print(arr_2d.shape)\n",
    "print(arr_3d.shape) "
   ]
  },
  {
   "cell_type": "code",
   "execution_count": 25,
   "id": "35389266",
   "metadata": {},
   "outputs": [
    {
     "name": "stdout",
     "output_type": "stream",
     "text": [
      "4\n",
      "8\n",
      "24\n"
     ]
    }
   ],
   "source": [
    "# .size\n",
    "# 배열객체의 총 원소의 수\n",
    "print(arr_1d.size)\n",
    "print(arr_2d.size)\n",
    "print(arr_3d.size)"
   ]
  },
  {
   "cell_type": "code",
   "execution_count": 26,
   "id": "6a3f8771",
   "metadata": {},
   "outputs": [
    {
     "name": "stdout",
     "output_type": "stream",
     "text": [
      "1\n",
      "2\n",
      "3\n"
     ]
    }
   ],
   "source": [
    "# .ndim\n",
    "# 배열객체의 차원의 수\n",
    "print(arr_1d.ndim)\n",
    "print(arr_2d.ndim)\n",
    "print(arr_3d.ndim)"
   ]
  }
 ],
 "metadata": {
  "kernelspec": {
   "display_name": "Python 3 (ipykernel)",
   "language": "python",
   "name": "python3"
  },
  "language_info": {
   "codemirror_mode": {
    "name": "ipython",
    "version": 3
   },
   "file_extension": ".py",
   "mimetype": "text/x-python",
   "name": "python",
   "nbconvert_exporter": "python",
   "pygments_lexer": "ipython3",
   "version": "3.9.13"
  }
 },
 "nbformat": 4,
 "nbformat_minor": 5
}
