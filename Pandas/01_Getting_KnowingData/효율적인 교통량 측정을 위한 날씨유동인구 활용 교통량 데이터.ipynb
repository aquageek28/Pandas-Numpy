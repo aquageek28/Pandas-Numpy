{
 "cells": [
  {
   "cell_type": "markdown",
   "id": "2c5db59b",
   "metadata": {},
   "source": [
    "# 제주 날씨, 인구에 따른 교통량데이터"
   ]
  },
  {
   "cell_type": "markdown",
   "id": "6d8d69c0",
   "metadata": {},
   "source": [
    "## 효율적인 교통량 측정을 위한 날씨유동인구 활용 교통량 데이터"
   ]
  },
  {
   "cell_type": "markdown",
   "id": "96bb2981",
   "metadata": {},
   "source": [
    "https://www.data.go.kr/data/15074777/fileData.do?recommendDataYn=Y"
   ]
  },
  {
   "cell_type": "markdown",
   "id": "bf4662ee",
   "metadata": {},
   "source": [
    "![image](../../Images/Jeju.png)"
   ]
  },
  {
   "cell_type": "markdown",
   "id": "5a7b0e07",
   "metadata": {},
   "source": [
    "### Library & Data Import"
   ]
  },
  {
   "cell_type": "code",
   "execution_count": 1,
   "id": "20ac10f4",
   "metadata": {},
   "outputs": [],
   "source": [
    "import pandas as pd"
   ]
  },
  {
   "cell_type": "code",
   "execution_count": 2,
   "id": "0f86ed81",
   "metadata": {},
   "outputs": [],
   "source": [
    "df = pd.read_csv('../../Datasets/Jeju.csv', encoding='euc-kr')"
   ]
  },
  {
   "cell_type": "markdown",
   "id": "2e0a5170",
   "metadata": {},
   "source": [
    "#### 데이터의 마지막 3개 행을 출력하라."
   ]
  },
  {
   "cell_type": "code",
   "execution_count": 3,
   "id": "023f2565",
   "metadata": {},
   "outputs": [
    {
     "data": {
      "text/html": [
       "<div>\n",
       "<style scoped>\n",
       "    .dataframe tbody tr th:only-of-type {\n",
       "        vertical-align: middle;\n",
       "    }\n",
       "\n",
       "    .dataframe tbody tr th {\n",
       "        vertical-align: top;\n",
       "    }\n",
       "\n",
       "    .dataframe thead th {\n",
       "        text-align: right;\n",
       "    }\n",
       "</style>\n",
       "<table border=\"1\" class=\"dataframe\">\n",
       "  <thead>\n",
       "    <tr style=\"text-align: right;\">\n",
       "      <th></th>\n",
       "      <th>일자</th>\n",
       "      <th>시도명</th>\n",
       "      <th>읍면동명</th>\n",
       "      <th>거주인구</th>\n",
       "      <th>근무인구</th>\n",
       "      <th>방문인구</th>\n",
       "      <th>총 유동인구</th>\n",
       "      <th>교통량</th>\n",
       "      <th>평균 속도</th>\n",
       "      <th>평균 소요 시간</th>\n",
       "      <th>평균 기온</th>\n",
       "      <th>일강수량</th>\n",
       "      <th>평균 풍속</th>\n",
       "      <th>데이터기준일자</th>\n",
       "    </tr>\n",
       "  </thead>\n",
       "  <tbody>\n",
       "    <tr>\n",
       "      <th>32066</th>\n",
       "      <td>2020-04-28</td>\n",
       "      <td>제주시</td>\n",
       "      <td>화북동</td>\n",
       "      <td>588189.415</td>\n",
       "      <td>42228.414</td>\n",
       "      <td>196053.574</td>\n",
       "      <td>826471.404</td>\n",
       "      <td>1306.324</td>\n",
       "      <td>36.676</td>\n",
       "      <td>30.971</td>\n",
       "      <td>11.367</td>\n",
       "      <td>0.0</td>\n",
       "      <td>3.067</td>\n",
       "      <td>2020-12-15</td>\n",
       "    </tr>\n",
       "    <tr>\n",
       "      <th>32067</th>\n",
       "      <td>2020-04-29</td>\n",
       "      <td>제주시</td>\n",
       "      <td>화북동</td>\n",
       "      <td>581854.765</td>\n",
       "      <td>41445.253</td>\n",
       "      <td>198362.285</td>\n",
       "      <td>821662.304</td>\n",
       "      <td>1318.000</td>\n",
       "      <td>36.765</td>\n",
       "      <td>30.853</td>\n",
       "      <td>12.767</td>\n",
       "      <td>0.0</td>\n",
       "      <td>2.467</td>\n",
       "      <td>2020-12-15</td>\n",
       "    </tr>\n",
       "    <tr>\n",
       "      <th>32068</th>\n",
       "      <td>2020-04-30</td>\n",
       "      <td>제주시</td>\n",
       "      <td>화북동</td>\n",
       "      <td>590532.552</td>\n",
       "      <td>29199.649</td>\n",
       "      <td>204839.107</td>\n",
       "      <td>824571.308</td>\n",
       "      <td>1078.853</td>\n",
       "      <td>37.206</td>\n",
       "      <td>30.235</td>\n",
       "      <td>15.967</td>\n",
       "      <td>0.0</td>\n",
       "      <td>2.800</td>\n",
       "      <td>2020-12-15</td>\n",
       "    </tr>\n",
       "  </tbody>\n",
       "</table>\n",
       "</div>"
      ],
      "text/plain": [
       "               일자  시도명 읍면동명        거주인구       근무인구        방문인구      총 유동인구  \\\n",
       "32066  2020-04-28  제주시  화북동  588189.415  42228.414  196053.574  826471.404   \n",
       "32067  2020-04-29  제주시  화북동  581854.765  41445.253  198362.285  821662.304   \n",
       "32068  2020-04-30  제주시  화북동  590532.552  29199.649  204839.107  824571.308   \n",
       "\n",
       "            교통량   평균 속도  평균 소요 시간   평균 기온  일강수량  평균 풍속     데이터기준일자  \n",
       "32066  1306.324  36.676    30.971  11.367   0.0  3.067  2020-12-15  \n",
       "32067  1318.000  36.765    30.853  12.767   0.0  2.467  2020-12-15  \n",
       "32068  1078.853  37.206    30.235  15.967   0.0  2.800  2020-12-15  "
      ]
     },
     "execution_count": 3,
     "metadata": {},
     "output_type": "execute_result"
    }
   ],
   "source": [
    "df.tail(3)"
   ]
  },
  {
   "cell_type": "markdown",
   "id": "0facd688",
   "metadata": {},
   "source": [
    "#### 수치형 변수를 가진 컬럼을 출력하라."
   ]
  },
  {
   "cell_type": "code",
   "execution_count": 4,
   "id": "998f869d",
   "metadata": {},
   "outputs": [
    {
     "name": "stdout",
     "output_type": "stream",
     "text": [
      "Index(['거주인구', '근무인구', '방문인구', '총 유동인구', '교통량', '평균 속도', '평균 소요 시간', '평균 기온',\n",
      "       '일강수량', '평균 풍속'],\n",
      "      dtype='object')\n"
     ]
    }
   ],
   "source": [
    "numerical = df.select_dtypes(exclude=object).columns\n",
    "\n",
    "print(numerical)"
   ]
  },
  {
   "cell_type": "markdown",
   "id": "02903fd5",
   "metadata": {},
   "source": [
    "#### 범주형 변수를 가진 컬럼을 출력하라."
   ]
  },
  {
   "cell_type": "code",
   "execution_count": 5,
   "id": "c778c895",
   "metadata": {},
   "outputs": [
    {
     "name": "stdout",
     "output_type": "stream",
     "text": [
      "Index(['일자', '시도명', '읍면동명', '데이터기준일자'], dtype='object')\n"
     ]
    }
   ],
   "source": [
    "categorical = df.select_dtypes(include=object).columns\n",
    "\n",
    "print(categorical)"
   ]
  },
  {
   "cell_type": "markdown",
   "id": "90938b40",
   "metadata": {},
   "source": [
    "#### 각 컬럼의 결측치 갯수를 파악하라."
   ]
  },
  {
   "cell_type": "code",
   "execution_count": 6,
   "id": "a68f32d8",
   "metadata": {},
   "outputs": [
    {
     "data": {
      "text/plain": [
       "일자          0\n",
       "시도명         0\n",
       "읍면동명        0\n",
       "거주인구        0\n",
       "근무인구        0\n",
       "방문인구        0\n",
       "총 유동인구      0\n",
       "교통량         0\n",
       "평균 속도       0\n",
       "평균 소요 시간    0\n",
       "평균 기온       0\n",
       "일강수량        0\n",
       "평균 풍속       0\n",
       "데이터기준일자     0\n",
       "dtype: int64"
      ]
     },
     "execution_count": 6,
     "metadata": {},
     "output_type": "execute_result"
    }
   ],
   "source": [
    "df.isnull().sum()"
   ]
  },
  {
   "cell_type": "markdown",
   "id": "c8924a5e",
   "metadata": {},
   "source": [
    "#### 각 컬럼의 데이터 수, 데이터 타입을 한번에 확인하라."
   ]
  },
  {
   "cell_type": "code",
   "execution_count": 7,
   "id": "49a9cc58",
   "metadata": {},
   "outputs": [
    {
     "name": "stdout",
     "output_type": "stream",
     "text": [
      "<class 'pandas.core.frame.DataFrame'>\n",
      "RangeIndex: 32069 entries, 0 to 32068\n",
      "Data columns (total 14 columns):\n",
      " #   Column    Non-Null Count  Dtype  \n",
      "---  ------    --------------  -----  \n",
      " 0   일자        32069 non-null  object \n",
      " 1   시도명       32069 non-null  object \n",
      " 2   읍면동명      32069 non-null  object \n",
      " 3   거주인구      32069 non-null  float64\n",
      " 4   근무인구      32069 non-null  float64\n",
      " 5   방문인구      32069 non-null  float64\n",
      " 6   총 유동인구    32069 non-null  float64\n",
      " 7   교통량       32069 non-null  float64\n",
      " 8   평균 속도     32069 non-null  float64\n",
      " 9   평균 소요 시간  32069 non-null  float64\n",
      " 10  평균 기온     32069 non-null  float64\n",
      " 11  일강수량      32069 non-null  float64\n",
      " 12  평균 풍속     32069 non-null  float64\n",
      " 13  데이터기준일자   32069 non-null  object \n",
      "dtypes: float64(10), object(4)\n",
      "memory usage: 3.4+ MB\n"
     ]
    }
   ],
   "source": [
    "df.info()"
   ]
  },
  {
   "cell_type": "markdown",
   "id": "335ee5e4",
   "metadata": {},
   "source": [
    "#### 각 수치형 변수의 분포(사분위, 평균, 표준편차, 최대, 최소)를 확인하라."
   ]
  },
  {
   "cell_type": "code",
   "execution_count": 8,
   "id": "bd943f11",
   "metadata": {},
   "outputs": [
    {
     "data": {
      "text/html": [
       "<div>\n",
       "<style scoped>\n",
       "    .dataframe tbody tr th:only-of-type {\n",
       "        vertical-align: middle;\n",
       "    }\n",
       "\n",
       "    .dataframe tbody tr th {\n",
       "        vertical-align: top;\n",
       "    }\n",
       "\n",
       "    .dataframe thead th {\n",
       "        text-align: right;\n",
       "    }\n",
       "</style>\n",
       "<table border=\"1\" class=\"dataframe\">\n",
       "  <thead>\n",
       "    <tr style=\"text-align: right;\">\n",
       "      <th></th>\n",
       "      <th>거주인구</th>\n",
       "      <th>근무인구</th>\n",
       "      <th>방문인구</th>\n",
       "      <th>총 유동인구</th>\n",
       "      <th>교통량</th>\n",
       "      <th>평균 속도</th>\n",
       "      <th>평균 소요 시간</th>\n",
       "      <th>평균 기온</th>\n",
       "      <th>일강수량</th>\n",
       "      <th>평균 풍속</th>\n",
       "    </tr>\n",
       "  </thead>\n",
       "  <tbody>\n",
       "    <tr>\n",
       "      <th>count</th>\n",
       "      <td>3.206900e+04</td>\n",
       "      <td>32069.000000</td>\n",
       "      <td>32069.000000</td>\n",
       "      <td>3.206900e+04</td>\n",
       "      <td>32069.000000</td>\n",
       "      <td>32069.000000</td>\n",
       "      <td>32069.000000</td>\n",
       "      <td>32069.000000</td>\n",
       "      <td>32069.000000</td>\n",
       "      <td>32069.000000</td>\n",
       "    </tr>\n",
       "    <tr>\n",
       "      <th>mean</th>\n",
       "      <td>3.175184e+05</td>\n",
       "      <td>35704.876966</td>\n",
       "      <td>196060.490038</td>\n",
       "      <td>5.492838e+05</td>\n",
       "      <td>373.998849</td>\n",
       "      <td>41.103863</td>\n",
       "      <td>37.219924</td>\n",
       "      <td>13.539484</td>\n",
       "      <td>7.272970</td>\n",
       "      <td>2.742722</td>\n",
       "    </tr>\n",
       "    <tr>\n",
       "      <th>std</th>\n",
       "      <td>2.981623e+05</td>\n",
       "      <td>40685.484971</td>\n",
       "      <td>140630.105978</td>\n",
       "      <td>4.610745e+05</td>\n",
       "      <td>532.127805</td>\n",
       "      <td>8.723294</td>\n",
       "      <td>12.980117</td>\n",
       "      <td>7.748266</td>\n",
       "      <td>28.488733</td>\n",
       "      <td>1.477822</td>\n",
       "    </tr>\n",
       "    <tr>\n",
       "      <th>min</th>\n",
       "      <td>9.305552e+03</td>\n",
       "      <td>1172.448000</td>\n",
       "      <td>10788.381000</td>\n",
       "      <td>2.225181e+04</td>\n",
       "      <td>0.000000</td>\n",
       "      <td>23.545000</td>\n",
       "      <td>12.667000</td>\n",
       "      <td>-11.600000</td>\n",
       "      <td>0.000000</td>\n",
       "      <td>0.000000</td>\n",
       "    </tr>\n",
       "    <tr>\n",
       "      <th>25%</th>\n",
       "      <td>9.495149e+04</td>\n",
       "      <td>12183.457000</td>\n",
       "      <td>99873.546000</td>\n",
       "      <td>2.223599e+05</td>\n",
       "      <td>0.000000</td>\n",
       "      <td>34.250000</td>\n",
       "      <td>27.889000</td>\n",
       "      <td>7.600000</td>\n",
       "      <td>0.000000</td>\n",
       "      <td>1.733000</td>\n",
       "    </tr>\n",
       "    <tr>\n",
       "      <th>50%</th>\n",
       "      <td>2.220141e+05</td>\n",
       "      <td>21833.494000</td>\n",
       "      <td>153072.855000</td>\n",
       "      <td>3.886540e+05</td>\n",
       "      <td>41.739000</td>\n",
       "      <td>39.642000</td>\n",
       "      <td>34.500000</td>\n",
       "      <td>13.300000</td>\n",
       "      <td>0.000000</td>\n",
       "      <td>2.400000</td>\n",
       "    </tr>\n",
       "    <tr>\n",
       "      <th>75%</th>\n",
       "      <td>4.101999e+05</td>\n",
       "      <td>40272.125000</td>\n",
       "      <td>236052.947000</td>\n",
       "      <td>6.411785e+05</td>\n",
       "      <td>637.600000</td>\n",
       "      <td>49.105000</td>\n",
       "      <td>46.188000</td>\n",
       "      <td>19.700000</td>\n",
       "      <td>1.500000</td>\n",
       "      <td>3.400000</td>\n",
       "    </tr>\n",
       "    <tr>\n",
       "      <th>max</th>\n",
       "      <td>1.364504e+06</td>\n",
       "      <td>272224.930000</td>\n",
       "      <td>786387.113000</td>\n",
       "      <td>2.079278e+06</td>\n",
       "      <td>2301.500000</td>\n",
       "      <td>103.000000</td>\n",
       "      <td>172.200000</td>\n",
       "      <td>30.400000</td>\n",
       "      <td>587.500000</td>\n",
       "      <td>17.700000</td>\n",
       "    </tr>\n",
       "  </tbody>\n",
       "</table>\n",
       "</div>"
      ],
      "text/plain": [
       "               거주인구           근무인구           방문인구        총 유동인구           교통량  \\\n",
       "count  3.206900e+04   32069.000000   32069.000000  3.206900e+04  32069.000000   \n",
       "mean   3.175184e+05   35704.876966  196060.490038  5.492838e+05    373.998849   \n",
       "std    2.981623e+05   40685.484971  140630.105978  4.610745e+05    532.127805   \n",
       "min    9.305552e+03    1172.448000   10788.381000  2.225181e+04      0.000000   \n",
       "25%    9.495149e+04   12183.457000   99873.546000  2.223599e+05      0.000000   \n",
       "50%    2.220141e+05   21833.494000  153072.855000  3.886540e+05     41.739000   \n",
       "75%    4.101999e+05   40272.125000  236052.947000  6.411785e+05    637.600000   \n",
       "max    1.364504e+06  272224.930000  786387.113000  2.079278e+06   2301.500000   \n",
       "\n",
       "              평균 속도      평균 소요 시간         평균 기온          일강수량         평균 풍속  \n",
       "count  32069.000000  32069.000000  32069.000000  32069.000000  32069.000000  \n",
       "mean      41.103863     37.219924     13.539484      7.272970      2.742722  \n",
       "std        8.723294     12.980117      7.748266     28.488733      1.477822  \n",
       "min       23.545000     12.667000    -11.600000      0.000000      0.000000  \n",
       "25%       34.250000     27.889000      7.600000      0.000000      1.733000  \n",
       "50%       39.642000     34.500000     13.300000      0.000000      2.400000  \n",
       "75%       49.105000     46.188000     19.700000      1.500000      3.400000  \n",
       "max      103.000000    172.200000     30.400000    587.500000     17.700000  "
      ]
     },
     "execution_count": 8,
     "metadata": {},
     "output_type": "execute_result"
    }
   ],
   "source": [
    "df.describe()"
   ]
  },
  {
   "cell_type": "markdown",
   "id": "04a2793c",
   "metadata": {},
   "source": [
    "#### 거주인구 컬럼의 값들을 출력하라"
   ]
  },
  {
   "cell_type": "code",
   "execution_count": 9,
   "id": "f1fb91c3",
   "metadata": {},
   "outputs": [
    {
     "data": {
      "text/plain": [
       "0        291408.897\n",
       "1        290944.660\n",
       "2        287121.506\n",
       "3        279036.104\n",
       "4        287205.972\n",
       "            ...    \n",
       "32064    609825.951\n",
       "32065    590585.828\n",
       "32066    588189.415\n",
       "32067    581854.765\n",
       "32068    590532.552\n",
       "Name: 거주인구, Length: 32069, dtype: float64"
      ]
     },
     "execution_count": 9,
     "metadata": {},
     "output_type": "execute_result"
    }
   ],
   "source": [
    "df['거주인구']"
   ]
  },
  {
   "cell_type": "markdown",
   "id": "19187f0c",
   "metadata": {},
   "source": [
    "#### 평균 속도 컬럼의 4분위 범위(IQR) 값을 구하라."
   ]
  },
  {
   "cell_type": "code",
   "execution_count": 10,
   "id": "f5da7227",
   "metadata": {},
   "outputs": [
    {
     "data": {
      "text/plain": [
       "14.854999999999997"
      ]
     },
     "execution_count": 10,
     "metadata": {},
     "output_type": "execute_result"
    }
   ],
   "source": [
    "df['평균 속도'].quantile(0.75) - df['평균 속도'].quantile(0.25)"
   ]
  },
  {
   "cell_type": "markdown",
   "id": "db5b552d",
   "metadata": {},
   "source": [
    "#### 읍면동명 칼럼의 유일값 갯수를 구하여라."
   ]
  },
  {
   "cell_type": "code",
   "execution_count": 11,
   "id": "21823493",
   "metadata": {},
   "outputs": [
    {
     "data": {
      "text/plain": [
       "41"
      ]
     },
     "execution_count": 11,
     "metadata": {},
     "output_type": "execute_result"
    }
   ],
   "source": [
    "df.읍면동명.nunique() # df['읍면동명'].nunique()"
   ]
  },
  {
   "cell_type": "markdown",
   "id": "792a1031",
   "metadata": {},
   "source": [
    "#### 읍면동명 컬럼의 유일값을 모두 출력하라"
   ]
  },
  {
   "cell_type": "code",
   "execution_count": 12,
   "id": "62b76144",
   "metadata": {},
   "outputs": [
    {
     "data": {
      "text/plain": [
       "array(['남원읍', '대륜동', '대정읍', '대천동', '동홍동', '서홍동', '성산읍', '송산동', '안덕면',\n",
       "       '영천동', '예래동', '정방동', '중문동', '중앙동', '천지동', '표선면', '효돈동', '건입동',\n",
       "       '구좌읍', '노형동', '도두동', '봉개동', '삼도1동', '삼도2동', '삼양동', '아라동', '애월읍',\n",
       "       '연동', '오라동', '외도동', '용담1동', '용담2동', '이도1동', '이도2동', '이호동', '일도1동',\n",
       "       '일도2동', '조천읍', '한경면', '한림읍', '화북동'], dtype=object)"
      ]
     },
     "execution_count": 12,
     "metadata": {},
     "output_type": "execute_result"
    }
   ],
   "source": [
    "df.읍면동명.unique()"
   ]
  }
 ],
 "metadata": {
  "kernelspec": {
   "display_name": "Python 3 (ipykernel)",
   "language": "python",
   "name": "python3"
  },
  "language_info": {
   "codemirror_mode": {
    "name": "ipython",
    "version": 3
   },
   "file_extension": ".py",
   "mimetype": "text/x-python",
   "name": "python",
   "nbconvert_exporter": "python",
   "pygments_lexer": "ipython3",
   "version": "3.9.13"
  }
 },
 "nbformat": 4,
 "nbformat_minor": 5
}
