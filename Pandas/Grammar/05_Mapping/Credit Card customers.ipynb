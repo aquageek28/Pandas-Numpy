{
 "cells": [
  {
   "cell_type": "markdown",
   "id": "93224080",
   "metadata": {},
   "source": [
    "# Credit Card customers"
   ]
  },
  {
   "cell_type": "markdown",
   "id": "74f41ccb",
   "metadata": {},
   "source": [
    "## Predict Churning customers"
   ]
  },
  {
   "cell_type": "markdown",
   "id": "f60de443",
   "metadata": {},
   "source": [
    "https://www.kaggle.com/datasets/sakshigoyal7/credit-card-customers"
   ]
  },
  {
   "cell_type": "markdown",
   "id": "9e51534a",
   "metadata": {},
   "source": [
    "![image](../../../Images/CreditCard.png)"
   ]
  },
  {
   "cell_type": "markdown",
   "id": "b2707d4a",
   "metadata": {},
   "source": [
    "### Library & Data Import"
   ]
  },
  {
   "cell_type": "code",
   "execution_count": 1,
   "id": "fd64a5f1",
   "metadata": {},
   "outputs": [],
   "source": [
    "import pandas as pd"
   ]
  },
  {
   "cell_type": "code",
   "execution_count": 2,
   "id": "badf00a8",
   "metadata": {},
   "outputs": [],
   "source": [
    "df = pd.read_csv('../../../Datasets/CreditCard.csv')"
   ]
  },
  {
   "cell_type": "markdown",
   "id": "1a1edd77",
   "metadata": {},
   "source": [
    "#### 데이터를 로드하고 데이터 행과 열의 갯수를 출력하라."
   ]
  },
  {
   "cell_type": "code",
   "execution_count": 3,
   "id": "875620bf",
   "metadata": {},
   "outputs": [
    {
     "data": {
      "text/plain": [
       "(10127, 23)"
      ]
     },
     "execution_count": 3,
     "metadata": {},
     "output_type": "execute_result"
    }
   ],
   "source": [
    "df.shape"
   ]
  },
  {
   "cell_type": "markdown",
   "id": "bd94134a",
   "metadata": {},
   "source": [
    "#### Income_Category의 카테고리를 map 함수를 이용하여 다음과 같이 변경하여 newIncome 컬럼에 매핑하라. \n",
    "- Unknown : N\n",
    "- Less than $40K : a \n",
    "- \\\\$40K - \\\\$60K : b \n",
    "- \\\\$60K - \\\\$80K : c \n",
    "- \\\\$80K - \\\\$120K : d \n",
    "- \\\\$120K + : e"
   ]
  },
  {
   "cell_type": "code",
   "execution_count": 4,
   "id": "e039b05e",
   "metadata": {},
   "outputs": [
    {
     "data": {
      "text/plain": [
       "0        c\n",
       "1        a\n",
       "2        d\n",
       "3        a\n",
       "4        c\n",
       "        ..\n",
       "10122    b\n",
       "10123    b\n",
       "10124    a\n",
       "10125    b\n",
       "10126    a\n",
       "Name: newIncome, Length: 10127, dtype: object"
      ]
     },
     "execution_count": 4,
     "metadata": {},
     "output_type": "execute_result"
    }
   ],
   "source": [
    "dic = {\n",
    "    'Unknown'        : 'N',\n",
    "    'Less than $40K' : 'a',\n",
    "    '$40K - $60K'    : 'b',\n",
    "    '$60K - $80K'    : 'c',\n",
    "    '$80K - $120K'   : 'd',\n",
    "    '$120K +'        : 'e'   \n",
    "}\n",
    "\n",
    "df['newIncome'] = df.Income_Category.map(lambda x: dic[x])\n",
    "\n",
    "df['newIncome']"
   ]
  },
  {
   "cell_type": "markdown",
   "id": "a0df5ce7",
   "metadata": {},
   "source": [
    "#### Income_Category의 카테고리를 apply 함수를 이용하여 다음과 같이 변경하여 newIncome 컬럼에 매핑하라.\n",
    "- Unknown : N\n",
    "- Less than $40K : a \n",
    "- \\\\$40K - \\\\$60K : b \n",
    "- \\\\$60K - \\\\$80K : c \n",
    "- \\\\$80K - \\\\$120K : d \n",
    "- \\\\$120K + : e"
   ]
  },
  {
   "cell_type": "code",
   "execution_count": 5,
   "id": "fd1c806f",
   "metadata": {},
   "outputs": [
    {
     "data": {
      "text/plain": [
       "0        c\n",
       "1        a\n",
       "2        d\n",
       "3        a\n",
       "4        c\n",
       "        ..\n",
       "10122    b\n",
       "10123    b\n",
       "10124    a\n",
       "10125    b\n",
       "10126    a\n",
       "Name: newIncome, Length: 10127, dtype: object"
      ]
     },
     "execution_count": 5,
     "metadata": {},
     "output_type": "execute_result"
    }
   ],
   "source": [
    "def changeCategory(x):\n",
    "    if x =='Unknown':\n",
    "        return 'N'\n",
    "    elif x =='Less than $40K':\n",
    "        return 'a'\n",
    "    elif x =='$40K - $60K':   \n",
    "        return 'b'\n",
    "    elif x =='$60K - $80K':    \n",
    "        return 'c'\n",
    "    elif x =='$80K - $120K':   \n",
    "        return 'd'\n",
    "    elif x =='$120K +' :     \n",
    "        return 'e'\n",
    "\n",
    "df['newIncome'] = df.Income_Category.apply(changeCategory)\n",
    "\n",
    "df['newIncome']"
   ]
  },
  {
   "cell_type": "markdown",
   "id": "eaa7e2c9",
   "metadata": {},
   "source": [
    "#### Customer_Age의 값을 이용하여 나이 구간을 AgeState 컬럼으로 정의하라. <br> ( 0\\~9 : 0 , 10\\~19 : 10 , 20~29 : 20 … ) 각 구간의 빈도수를 출력하라."
   ]
  },
  {
   "cell_type": "code",
   "execution_count": 6,
   "id": "0f2883d1",
   "metadata": {},
   "outputs": [
    {
     "data": {
      "text/plain": [
       "20     195\n",
       "30    1841\n",
       "40    4561\n",
       "50    2998\n",
       "60     530\n",
       "70       2\n",
       "Name: AgeState, dtype: int64"
      ]
     },
     "execution_count": 6,
     "metadata": {},
     "output_type": "execute_result"
    }
   ],
   "source": [
    "df['AgeState'] = df.Customer_Age.map(lambda x: x//10 * 10)\n",
    "\n",
    "df['AgeState'].value_counts().sort_index()"
   ]
  },
  {
   "cell_type": "markdown",
   "id": "c19d9256",
   "metadata": {},
   "source": [
    "#### Education_Level의 값중 Graduate단어가 포함되는 값은 1 그렇지 않은 경우에는 0으로 변경하여 newEduLevel 컬럼을 정의하고 빈도수를 출력하라."
   ]
  },
  {
   "cell_type": "code",
   "execution_count": 7,
   "id": "baaa640a",
   "metadata": {},
   "outputs": [
    {
     "data": {
      "text/plain": [
       "0    6483\n",
       "1    3644\n",
       "Name: newEduLevel, dtype: int64"
      ]
     },
     "execution_count": 7,
     "metadata": {},
     "output_type": "execute_result"
    }
   ],
   "source": [
    "df['newEduLevel'] = df.Education_Level.map(lambda x : 1 if 'Graduate' in x else 0)\n",
    "\n",
    "df['newEduLevel'].value_counts()"
   ]
  },
  {
   "cell_type": "markdown",
   "id": "af3a4f38",
   "metadata": {},
   "source": [
    "#### Credit_Limit 컬럼값이 4500 이상인 경우 1 그외의 경우에는 모두 0으로 하는 newLimit 정의하라. newLimit 각 값들의 빈도수를 출력하라."
   ]
  },
  {
   "cell_type": "code",
   "execution_count": 8,
   "id": "f194f010",
   "metadata": {},
   "outputs": [
    {
     "data": {
      "text/plain": [
       "1    5096\n",
       "0    5031\n",
       "Name: newLimit, dtype: int64"
      ]
     },
     "execution_count": 8,
     "metadata": {},
     "output_type": "execute_result"
    }
   ],
   "source": [
    "df['newLimit'] = df.Credit_Limit.map(lambda x : 1 if x >= 4500 else 0)\n",
    "\n",
    "df['newLimit'].value_counts()"
   ]
  },
  {
   "cell_type": "markdown",
   "id": "deed222c",
   "metadata": {},
   "source": [
    "#### Marital_Status 컬럼값이 Married 이고 Card_Category 컬럼의 값이 Platinum인 경우 1 그외의 경우에는 모두 0으로 하는 newState컬럼을 정의하라. <br> newState의 각 값들의 빈도수를 출력하라."
   ]
  },
  {
   "cell_type": "code",
   "execution_count": 9,
   "id": "749da5dc",
   "metadata": {},
   "outputs": [
    {
     "data": {
      "text/plain": [
       "0    10120\n",
       "1        7\n",
       "Name: newState, dtype: int64"
      ]
     },
     "execution_count": 9,
     "metadata": {},
     "output_type": "execute_result"
    }
   ],
   "source": [
    "def check(x):\n",
    "    if x.Marital_Status =='Married' and x.Card_Category =='Platinum':\n",
    "        return 1\n",
    "    else:\n",
    "        return 0\n",
    "\n",
    "\n",
    "df['newState'] = df.apply(check,axis=1)\n",
    "\n",
    "df['newState'].value_counts()"
   ]
  },
  {
   "cell_type": "markdown",
   "id": "a0d4392b",
   "metadata": {},
   "source": [
    "#### Gender 컬럼값 M인 경우 male F인 경우 female로 값을 변경하여 Gender 컬럼에 새롭게 정의하라. 각 value의 빈도를 출력하라."
   ]
  },
  {
   "cell_type": "code",
   "execution_count": 10,
   "id": "41d1bb88",
   "metadata": {},
   "outputs": [
    {
     "data": {
      "text/plain": [
       "female    5358\n",
       "male      4769\n",
       "Name: Gender, dtype: int64"
      ]
     },
     "execution_count": 10,
     "metadata": {},
     "output_type": "execute_result"
    }
   ],
   "source": [
    "def changeGender(x):\n",
    "    if x =='M':\n",
    "        return 'male'\n",
    "    else:\n",
    "        return 'female'\n",
    "    \n",
    "df['Gender'] = df.Gender.apply(changeGender)\n",
    "\n",
    "df['Gender'].value_counts()"
   ]
  }
 ],
 "metadata": {
  "kernelspec": {
   "display_name": "Python 3 (ipykernel)",
   "language": "python",
   "name": "python3"
  },
  "language_info": {
   "codemirror_mode": {
    "name": "ipython",
    "version": 3
   },
   "file_extension": ".py",
   "mimetype": "text/x-python",
   "name": "python",
   "nbconvert_exporter": "python",
   "pygments_lexer": "ipython3",
   "version": "3.9.13"
  }
 },
 "nbformat": 4,
 "nbformat_minor": 5
}
