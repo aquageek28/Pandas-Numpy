{
 "cells": [
  {
   "cell_type": "markdown",
   "id": "fc1df4a3",
   "metadata": {},
   "source": [
    "# Series"
   ]
  },
  {
   "cell_type": "code",
   "execution_count": 1,
   "id": "293b220c",
   "metadata": {},
   "outputs": [],
   "source": [
    "# 패키지 불러오기\n",
    "import pandas as pd # Pandas\n",
    "import numpy as np # Numpy"
   ]
  },
  {
   "cell_type": "markdown",
   "id": "b9232e90",
   "metadata": {},
   "source": [
    "## Series (시리즈)"
   ]
  },
  {
   "cell_type": "markdown",
   "id": "5a863a93",
   "metadata": {},
   "source": [
    "### Series의 생성"
   ]
  },
  {
   "cell_type": "code",
   "execution_count": 2,
   "id": "10342c9f",
   "metadata": {},
   "outputs": [
    {
     "name": "stdout",
     "output_type": "stream",
     "text": [
      "0     Adam\n",
      "1      Bob\n",
      "2    Colin\n",
      "dtype: object\n"
     ]
    }
   ],
   "source": [
    "# Series객체 생성 : pd.Series(object, index)\n",
    "\n",
    "# 1. object에 리스트(시퀀스)객체 이용\n",
    "obj = ['Adam', 'Bob', 'Colin'] # 값 리스트\n",
    "series_1 = pd.Series(obj) # 시리즈 생성\n",
    "print(series_1)"
   ]
  },
  {
   "cell_type": "code",
   "execution_count": 3,
   "id": "5e413549",
   "metadata": {},
   "outputs": [
    {
     "name": "stdout",
     "output_type": "stream",
     "text": [
      "A     Adam\n",
      "B      Bob\n",
      "C    Colin\n",
      "dtype: object\n"
     ]
    }
   ],
   "source": [
    "# 원하는 인덱스 지정\n",
    "idx = ['A', 'B', 'C'] # 인덱스 리스트\n",
    "series_2 = pd.Series(obj, index = idx) # 시리즈 생성\n",
    "print(series_2)"
   ]
  },
  {
   "cell_type": "code",
   "execution_count": 4,
   "id": "6d1e6f10",
   "metadata": {},
   "outputs": [
    {
     "name": "stdout",
     "output_type": "stream",
     "text": [
      "A     Adam\n",
      "B      Bob\n",
      "C    Colin\n",
      "dtype: object\n"
     ]
    }
   ],
   "source": [
    "# 2. object에 딕셔너리객체 이용\n",
    "obj = {'A':'Adam', 'B':'Bob', 'C':'Colin'} # 딕셔너리\n",
    "series_3 = pd.Series(obj) # 시리즈 생성\n",
    "print(series_3)"
   ]
  },
  {
   "cell_type": "markdown",
   "id": "6daa8ae0",
   "metadata": {},
   "source": [
    "### 시리즈의 정보 확인"
   ]
  },
  {
   "cell_type": "code",
   "execution_count": 5,
   "id": "1cf22616",
   "metadata": {},
   "outputs": [
    {
     "name": "stdout",
     "output_type": "stream",
     "text": [
      "['Adam' 'Bob' 'Colin']\n",
      "RangeIndex(start=0, stop=3, step=1)\n",
      "object\n",
      "3\n"
     ]
    }
   ],
   "source": [
    "# 시리즈 정보 확인 메소드\n",
    "# .values\n",
    "# 시리즈객체 내 값을 배열 형태로 반환\n",
    "print(series_1.values)\n",
    "\n",
    "# .index\n",
    "# 시리즈객체 내 인덱스를 레이블 배열 형태로 반환\n",
    "print(series_1.index)\n",
    "\n",
    "# .dtypes\n",
    "# 시리즈객체의 데이터 타입 확인\n",
    "print(series_1.dtypes)\n",
    "\n",
    "# .size\n",
    "# 시리즈객체의 총 객체 수\n",
    "print(series_1.size)"
   ]
  },
  {
   "cell_type": "code",
   "execution_count": 6,
   "id": "3bbbe481",
   "metadata": {},
   "outputs": [
    {
     "name": "stdout",
     "output_type": "stream",
     "text": [
      "RangeIndex(start=0, stop=3, step=1)\n",
      "Index(['A', 'B', 'C'], dtype='object')\n"
     ]
    }
   ],
   "source": [
    "# 시리즈객체의 인덱스 변경\n",
    "print(series_1.index) # 변경 전\n",
    "\n",
    "series_1.index = ['A', 'B', 'C'] # 변경\n",
    "print(series_1.index) # 변경 후"
   ]
  },
  {
   "cell_type": "markdown",
   "id": "6d95d6ae",
   "metadata": {},
   "source": [
    "### 시리즈의 인덱싱과 슬라이싱"
   ]
  },
  {
   "cell_type": "code",
   "execution_count": 7,
   "id": "c777aa5c",
   "metadata": {},
   "outputs": [
    {
     "data": {
      "text/plain": [
       "a    22\n",
       "b    32\n",
       "c    27\n",
       "d    18\n",
       "e    38\n",
       "f    19\n",
       "dtype: int64"
      ]
     },
     "execution_count": 7,
     "metadata": {},
     "output_type": "execute_result"
    }
   ],
   "source": [
    "obj = [22, 32, 27, 18, 38, 19] # 값 리스트\n",
    "idx = list('abcdef') # 인덱스 리스트\n",
    "sr = pd.Series(obj, index = idx)\n",
    "sr"
   ]
  },
  {
   "cell_type": "code",
   "execution_count": 8,
   "id": "32e2cb87",
   "metadata": {},
   "outputs": [
    {
     "name": "stdout",
     "output_type": "stream",
     "text": [
      "38\n",
      "38\n"
     ]
    }
   ],
   "source": [
    "# 인덱싱\n",
    "print(sr[4]) # 위치기반\n",
    "print(sr['e']) # 레이블기반"
   ]
  },
  {
   "cell_type": "code",
   "execution_count": 9,
   "id": "dbcd34c8",
   "metadata": {},
   "outputs": [
    {
     "name": "stdout",
     "output_type": "stream",
     "text": [
      "b    32\n",
      "c    27\n",
      "d    18\n",
      "e    38\n",
      "dtype: int64\n",
      "b    32\n",
      "c    27\n",
      "d    18\n",
      "e    38\n",
      "dtype: int64\n"
     ]
    }
   ],
   "source": [
    "# 슬라이싱\n",
    "print(sr[1:5]) # 위치기반\n",
    "print(sr['b':'e']) # 레이블기반"
   ]
  },
  {
   "cell_type": "code",
   "execution_count": 10,
   "id": "d518637a",
   "metadata": {},
   "outputs": [
    {
     "data": {
      "text/plain": [
       "a    22\n",
       "d    18\n",
       "e    38\n",
       "dtype: int64"
      ]
     },
     "execution_count": 10,
     "metadata": {},
     "output_type": "execute_result"
    }
   ],
   "source": [
    "# 연속하지 않은 위치\n",
    "idx = [0, 3, 4] # 위치 번호를 담은 리스트\n",
    "sr[idx]"
   ]
  },
  {
   "cell_type": "code",
   "execution_count": 11,
   "id": "7ddcc3e5",
   "metadata": {},
   "outputs": [
    {
     "data": {
      "text/plain": [
       "a    22\n",
       "d    18\n",
       "e    38\n",
       "dtype: int64"
      ]
     },
     "execution_count": 11,
     "metadata": {},
     "output_type": "execute_result"
    }
   ],
   "source": [
    "# 연속하지 않은 레이블\n",
    "lbl = ['a', 'd', 'e'] # 레이블을 담은 리스트\n",
    "sr[lbl]"
   ]
  },
  {
   "cell_type": "markdown",
   "id": "a0022efa",
   "metadata": {},
   "source": [
    "### 시리즈의 통계 메소드"
   ]
  },
  {
   "cell_type": "code",
   "execution_count": 12,
   "id": "5ed0b26c",
   "metadata": {},
   "outputs": [
    {
     "data": {
      "text/plain": [
       "count    100.000000\n",
       "mean      49.500000\n",
       "std       29.011492\n",
       "min        0.000000\n",
       "25%       24.750000\n",
       "50%       49.500000\n",
       "75%       74.250000\n",
       "max       99.000000\n",
       "dtype: float64"
      ]
     },
     "execution_count": 12,
     "metadata": {},
     "output_type": "execute_result"
    }
   ],
   "source": [
    "sr_1 = pd.Series(range(100)) # 시리즈 생성\n",
    "\n",
    "# describe()\n",
    "# 시리즈객체의 요약 통계량에 대한 정보\n",
    "# 총 객체수, 평균, 표준편차, 최솟값, 제1사분위수, 중앙값, 제3사분위수, 최댓값, 데이터타입\n",
    "sr_1.describe()"
   ]
  },
  {
   "cell_type": "code",
   "execution_count": 13,
   "id": "197e4c39",
   "metadata": {},
   "outputs": [
    {
     "name": "stdout",
     "output_type": "stream",
     "text": [
      "100\n",
      "49.5\n",
      "841.6666666666666\n",
      "29.011491975882016\n",
      "0\n",
      "99\n",
      "49.5\n",
      "24.75\n",
      "49.5\n",
      "74.25\n"
     ]
    }
   ],
   "source": [
    "# .count()\n",
    "# 시리즈객체의 총 객체수\n",
    "print(sr_1.count())\n",
    "\n",
    "# .mean()\n",
    "# 시리즈객체의 평균\n",
    "print(sr_1.mean())\n",
    "\n",
    "# .var()\n",
    "# 시리즈객체의 분산\n",
    "print(sr_1.var())\n",
    "\n",
    "# .std()\n",
    "# 시리즈객체의 표준편차\n",
    "print(sr_1.std())\n",
    "\n",
    "# .min()\n",
    "# 시리즈객체의 최솟값\n",
    "print(sr_1.min())\n",
    "\n",
    "# .max()\n",
    "# 시리즈객체의 최댓값\n",
    "print(sr_1.max())\n",
    "\n",
    "# .median()\n",
    "# 시리즈객체의 중앙값\n",
    "print(sr_1.median())\n",
    "\n",
    "# .quantile()\n",
    "# 시리즈객체의 q*100% 백분위수\n",
    "print(sr_1.quantile(q = 0.25)) # 제1사분위수\n",
    "print(sr_1.quantile()) # default = .5로 중앙값\n",
    "print(sr_1.quantile(q = 0.75)) # 제3사분위수"
   ]
  },
  {
   "cell_type": "code",
   "execution_count": 14,
   "id": "3224a153",
   "metadata": {},
   "outputs": [
    {
     "data": {
      "text/plain": [
       "count     7\n",
       "unique    4\n",
       "top       b\n",
       "freq      3\n",
       "dtype: object"
      ]
     },
     "execution_count": 14,
     "metadata": {},
     "output_type": "execute_result"
    }
   ],
   "source": [
    "sr_2 = pd.Series(['a','b','b','b','c','c','d']) # 시리즈 생성\n",
    "sr_2.describe() # 총 객체수, 유일값, 최빈값, 최빈값의빈도"
   ]
  },
  {
   "cell_type": "code",
   "execution_count": 15,
   "id": "091f1036",
   "metadata": {},
   "outputs": [
    {
     "name": "stdout",
     "output_type": "stream",
     "text": [
      "['a' 'b' 'c' 'd']\n",
      "b    3\n",
      "c    2\n",
      "a    1\n",
      "d    1\n",
      "dtype: int64\n",
      "0    b\n",
      "dtype: object\n"
     ]
    }
   ],
   "source": [
    "# .unique()\n",
    "# 시리즈객체의 유일값을 1d-array로 반환\n",
    "print(sr_2.unique())\n",
    "\n",
    "# .value_counts()\n",
    "# 시리즈객체의 유일값별 빈도수를 시리즈로 반환\n",
    "print(sr_2.value_counts())\n",
    "\n",
    "# .mode()\n",
    "# 시리즈객체의 최빈값을 시리즈로 반환\n",
    "print(sr_2.mode())"
   ]
  }
 ],
 "metadata": {
  "kernelspec": {
   "display_name": "Python 3 (ipykernel)",
   "language": "python",
   "name": "python3"
  },
  "language_info": {
   "codemirror_mode": {
    "name": "ipython",
    "version": 3
   },
   "file_extension": ".py",
   "mimetype": "text/x-python",
   "name": "python",
   "nbconvert_exporter": "python",
   "pygments_lexer": "ipython3",
   "version": "3.9.13"
  }
 },
 "nbformat": 4,
 "nbformat_minor": 5
}
