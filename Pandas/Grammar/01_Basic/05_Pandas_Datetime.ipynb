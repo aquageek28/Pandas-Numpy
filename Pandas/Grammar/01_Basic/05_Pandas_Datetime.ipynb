{
 "cells": [
  {
   "cell_type": "markdown",
   "id": "eebced79",
   "metadata": {},
   "source": [
    "# Pandas_Datetime"
   ]
  },
  {
   "cell_type": "code",
   "execution_count": 1,
   "id": "aad5f18e",
   "metadata": {},
   "outputs": [],
   "source": [
    "# 패키지 불러오기\n",
    "import pandas as pd # Pandas\n",
    "import numpy as np # Numpy"
   ]
  },
  {
   "cell_type": "markdown",
   "id": "51f03915",
   "metadata": {},
   "source": [
    "## Datetime Handling"
   ]
  },
  {
   "cell_type": "markdown",
   "id": "81aa6e09",
   "metadata": {},
   "source": [
    "###  1. Datetime형"
   ]
  },
  {
   "cell_type": "code",
   "execution_count": 2,
   "id": "f37ef741",
   "metadata": {},
   "outputs": [
    {
     "data": {
      "text/html": [
       "<div>\n",
       "<style scoped>\n",
       "    .dataframe tbody tr th:only-of-type {\n",
       "        vertical-align: middle;\n",
       "    }\n",
       "\n",
       "    .dataframe tbody tr th {\n",
       "        vertical-align: top;\n",
       "    }\n",
       "\n",
       "    .dataframe thead th {\n",
       "        text-align: right;\n",
       "    }\n",
       "</style>\n",
       "<table border=\"1\" class=\"dataframe\">\n",
       "  <thead>\n",
       "    <tr style=\"text-align: right;\">\n",
       "      <th></th>\n",
       "      <th>대학이름</th>\n",
       "      <th>창립일</th>\n",
       "    </tr>\n",
       "  </thead>\n",
       "  <tbody>\n",
       "    <tr>\n",
       "      <th>0</th>\n",
       "      <td>서울대학교</td>\n",
       "      <td>1946-10-15</td>\n",
       "    </tr>\n",
       "    <tr>\n",
       "      <th>1</th>\n",
       "      <td>KAIST</td>\n",
       "      <td>1971-02-16</td>\n",
       "    </tr>\n",
       "    <tr>\n",
       "      <th>2</th>\n",
       "      <td>UNIST</td>\n",
       "      <td>2007-09-03</td>\n",
       "    </tr>\n",
       "    <tr>\n",
       "      <th>3</th>\n",
       "      <td>포항공과대학교</td>\n",
       "      <td>1986-12-03</td>\n",
       "    </tr>\n",
       "    <tr>\n",
       "      <th>4</th>\n",
       "      <td>고려대학교</td>\n",
       "      <td>1905-05-05</td>\n",
       "    </tr>\n",
       "    <tr>\n",
       "      <th>5</th>\n",
       "      <td>GIST</td>\n",
       "      <td>1993-11-17</td>\n",
       "    </tr>\n",
       "    <tr>\n",
       "      <th>6</th>\n",
       "      <td>건국대학교</td>\n",
       "      <td>1946-05-15</td>\n",
       "    </tr>\n",
       "    <tr>\n",
       "      <th>7</th>\n",
       "      <td>울산대학교</td>\n",
       "      <td>1969-12-24</td>\n",
       "    </tr>\n",
       "    <tr>\n",
       "      <th>8</th>\n",
       "      <td>부산대학교</td>\n",
       "      <td>1946-05-15</td>\n",
       "    </tr>\n",
       "  </tbody>\n",
       "</table>\n",
       "</div>"
      ],
      "text/plain": [
       "      대학이름         창립일\n",
       "0    서울대학교  1946-10-15\n",
       "1    KAIST  1971-02-16\n",
       "2    UNIST  2007-09-03\n",
       "3  포항공과대학교  1986-12-03\n",
       "4    고려대학교  1905-05-05\n",
       "5     GIST  1993-11-17\n",
       "6    건국대학교  1946-05-15\n",
       "7    울산대학교  1969-12-24\n",
       "8    부산대학교  1946-05-15"
      ]
     },
     "execution_count": 2,
     "metadata": {},
     "output_type": "execute_result"
    }
   ],
   "source": [
    "# 데이터프레임 생성\n",
    "obj = {'대학이름' : ['서울대학교', 'KAIST', 'UNIST', '포항공과대학교', '고려대학교', 'GIST', '건국대학교', '울산대학교','부산대학교'],\n",
    "        '창립일' : ['1946-10-15', '1971-02-16', '2007-09-03', '1986-12-03', '1905-05-05', '1993-11-17', '1946-05-15', '1969-12-24', '1946-05-15']\n",
    "       }\n",
    "\n",
    "df = pd.DataFrame(obj)\n",
    "\n",
    "df"
   ]
  },
  {
   "cell_type": "code",
   "execution_count": 3,
   "id": "76b41e80",
   "metadata": {},
   "outputs": [
    {
     "data": {
      "text/plain": [
       "0    1946-10-15\n",
       "1    1971-02-16\n",
       "2    2007-09-03\n",
       "3    1986-12-03\n",
       "4    1905-05-05\n",
       "5    1993-11-17\n",
       "6    1946-05-15\n",
       "7    1969-12-24\n",
       "8    1946-05-15\n",
       "Name: 창립일, dtype: object"
      ]
     },
     "execution_count": 3,
     "metadata": {},
     "output_type": "execute_result"
    }
   ],
   "source": [
    "# 날짜 형태인 문자열\n",
    "df['창립일']"
   ]
  },
  {
   "cell_type": "code",
   "execution_count": 4,
   "id": "ff42ed1b",
   "metadata": {},
   "outputs": [
    {
     "data": {
      "text/plain": [
       "0   1946-10-15\n",
       "1   1971-02-16\n",
       "2   2007-09-03\n",
       "3   1986-12-03\n",
       "4   1905-05-05\n",
       "5   1993-11-17\n",
       "6   1946-05-15\n",
       "7   1969-12-24\n",
       "8   1946-05-15\n",
       "Name: 창립일, dtype: datetime64[ns]"
      ]
     },
     "execution_count": 4,
     "metadata": {},
     "output_type": "execute_result"
    }
   ],
   "source": [
    "# pandas.to_datetime()\n",
    "# 문자열 -> datetime형\n",
    "pd.to_datetime(df['창립일']) # 구문 분석 자동"
   ]
  },
  {
   "cell_type": "code",
   "execution_count": 5,
   "id": "ac8c1471",
   "metadata": {},
   "outputs": [
    {
     "data": {
      "text/plain": [
       "0   1946-10-15\n",
       "1   1971-02-16\n",
       "2   2007-09-03\n",
       "3   1986-12-03\n",
       "4   1905-05-05\n",
       "5   1993-11-17\n",
       "6   1946-05-15\n",
       "7   1969-12-24\n",
       "8   1946-05-15\n",
       "Name: 창립일, dtype: datetime64[ns]"
      ]
     },
     "execution_count": 5,
     "metadata": {},
     "output_type": "execute_result"
    }
   ],
   "source": [
    "# 문자열 -> datetime형\n",
    "pd.to_datetime(df['창립일'], format = '%Y-%m-%d') # '네자리연도-월-일'로 구문 분석"
   ]
  },
  {
   "cell_type": "code",
   "execution_count": 6,
   "id": "4070aeb4",
   "metadata": {},
   "outputs": [],
   "source": [
    "# 기존의 창립일 열을 datatime형을 변환\n",
    "df['창립일'] = pd.to_datetime(df['창립일'])"
   ]
  },
  {
   "cell_type": "code",
   "execution_count": 7,
   "id": "e4e8445b",
   "metadata": {},
   "outputs": [
    {
     "data": {
      "text/plain": [
       "DatetimeIndex(['2000-01-01', '2000-01-02', '2000-01-03', '2000-01-04',\n",
       "               '2000-01-05', '2000-01-06', '2000-01-07', '2000-01-08',\n",
       "               '2000-01-09', '2000-01-10'],\n",
       "              dtype='datetime64[ns]', freq='D')"
      ]
     },
     "execution_count": 7,
     "metadata": {},
     "output_type": "execute_result"
    }
   ],
   "source": [
    "# 시계열생성\n",
    "# 2000년 1월 1일부터 2000년 1월 10일까지 1일 단위로 생성\n",
    "pd.date_range(\"2000-01-01\", \"2000-01-10\")"
   ]
  },
  {
   "cell_type": "code",
   "execution_count": 8,
   "id": "de9bc2dc",
   "metadata": {},
   "outputs": [
    {
     "data": {
      "text/plain": [
       "DatetimeIndex(['2000-01-01', '2000-01-02', '2000-01-03'], dtype='datetime64[ns]', freq='D')"
      ]
     },
     "execution_count": 8,
     "metadata": {},
     "output_type": "execute_result"
    }
   ],
   "source": [
    "# 2000년 1월 1일부터 1일씩 증가(3번 반복)\n",
    "pd.date_range(\"2000-01-01\", periods = 3)"
   ]
  },
  {
   "cell_type": "code",
   "execution_count": 9,
   "id": "67beeb36",
   "metadata": {},
   "outputs": [
    {
     "data": {
      "text/plain": [
       "DatetimeIndex(['2000-01-31', '2000-02-29', '2000-03-31', '2000-04-30',\n",
       "               '2000-05-31'],\n",
       "              dtype='datetime64[ns]', freq='M')"
      ]
     },
     "execution_count": 9,
     "metadata": {},
     "output_type": "execute_result"
    }
   ],
   "source": [
    "# 2000년 1월부터 1달씩 증가(5번 반복)\n",
    "# 각 달의 마지막 날짜가 반환됨(freq = \"m\")\n",
    "pd.date_range(\"2000-01-01\", periods = 5, freq = \"m\")"
   ]
  },
  {
   "cell_type": "markdown",
   "id": "be7f94ec",
   "metadata": {},
   "source": [
    "### 2. 시계열 데이터 전처리"
   ]
  },
  {
   "cell_type": "code",
   "execution_count": 10,
   "id": "4211ca1f",
   "metadata": {},
   "outputs": [
    {
     "data": {
      "text/plain": [
       "0    1946-10-15\n",
       "1    1971-02-16\n",
       "2    2007-09-03\n",
       "3    1986-12-03\n",
       "4    1905-05-05\n",
       "5    1993-11-17\n",
       "6    1946-05-15\n",
       "7    1969-12-24\n",
       "8    1946-05-15\n",
       "Name: 창립일, dtype: object"
      ]
     },
     "execution_count": 10,
     "metadata": {},
     "output_type": "execute_result"
    }
   ],
   "source": [
    "df['창립일'] = pd.to_datetime(df['창립일'])\n",
    "\n",
    "# 메소드 dt의 하위 메소드를 통한 날짜와 시간에 대한 정보를 확인\n",
    "# dt.date : 날짜정보(연월일)\n",
    "df['창립일'].dt.date"
   ]
  },
  {
   "cell_type": "code",
   "execution_count": 11,
   "id": "d9c3a85b",
   "metadata": {},
   "outputs": [
    {
     "data": {
      "text/plain": [
       "0    1946\n",
       "1    1971\n",
       "2    2007\n",
       "3    1986\n",
       "4    1905\n",
       "5    1993\n",
       "6    1946\n",
       "7    1969\n",
       "8    1946\n",
       "Name: 창립일, dtype: int64"
      ]
     },
     "execution_count": 11,
     "metadata": {},
     "output_type": "execute_result"
    }
   ],
   "source": [
    "# dt.year : 연도\n",
    "df['창립일'].dt.year"
   ]
  },
  {
   "cell_type": "code",
   "execution_count": 12,
   "id": "543d90fd",
   "metadata": {},
   "outputs": [
    {
     "data": {
      "text/plain": [
       "0    10\n",
       "1     2\n",
       "2     9\n",
       "3    12\n",
       "4     5\n",
       "5    11\n",
       "6     5\n",
       "7    12\n",
       "8     5\n",
       "Name: 창립일, dtype: int64"
      ]
     },
     "execution_count": 12,
     "metadata": {},
     "output_type": "execute_result"
    }
   ],
   "source": [
    "# dt.month : 월\n",
    "df['창립일'].dt.month"
   ]
  },
  {
   "cell_type": "code",
   "execution_count": 13,
   "id": "52430372",
   "metadata": {},
   "outputs": [
    {
     "data": {
      "text/plain": [
       "0      October\n",
       "1     February\n",
       "2    September\n",
       "3     December\n",
       "4          May\n",
       "5     November\n",
       "6          May\n",
       "7     December\n",
       "8          May\n",
       "Name: 창립일, dtype: object"
      ]
     },
     "execution_count": 13,
     "metadata": {},
     "output_type": "execute_result"
    }
   ],
   "source": [
    "# dt.month_name() : 월이름\n",
    "df['창립일'].dt.month_name()"
   ]
  },
  {
   "cell_type": "code",
   "execution_count": 14,
   "id": "d7b21360",
   "metadata": {},
   "outputs": [
    {
     "data": {
      "text/plain": [
       "0    15\n",
       "1    16\n",
       "2     3\n",
       "3     3\n",
       "4     5\n",
       "5    17\n",
       "6    15\n",
       "7    24\n",
       "8    15\n",
       "Name: 창립일, dtype: int64"
      ]
     },
     "execution_count": 14,
     "metadata": {},
     "output_type": "execute_result"
    }
   ],
   "source": [
    "# dt.day : 일\n",
    "df['창립일'].dt.day"
   ]
  },
  {
   "cell_type": "code",
   "execution_count": 15,
   "id": "2be98039",
   "metadata": {},
   "outputs": [
    {
     "data": {
      "text/plain": [
       "0    1\n",
       "1    1\n",
       "2    0\n",
       "3    2\n",
       "4    4\n",
       "5    2\n",
       "6    2\n",
       "7    2\n",
       "8    2\n",
       "Name: 창립일, dtype: int64"
      ]
     },
     "execution_count": 15,
     "metadata": {},
     "output_type": "execute_result"
    }
   ],
   "source": [
    "# dt.weekday : 요일번호\n",
    "df['창립일'].dt.weekday"
   ]
  },
  {
   "cell_type": "code",
   "execution_count": 16,
   "id": "199f234b",
   "metadata": {},
   "outputs": [
    {
     "data": {
      "text/plain": [
       "0      Tuesday\n",
       "1      Tuesday\n",
       "2       Monday\n",
       "3    Wednesday\n",
       "4       Friday\n",
       "5    Wednesday\n",
       "6    Wednesday\n",
       "7    Wednesday\n",
       "8    Wednesday\n",
       "Name: 창립일, dtype: object"
      ]
     },
     "execution_count": 16,
     "metadata": {},
     "output_type": "execute_result"
    }
   ],
   "source": [
    "# dt.day_name() : 요일이름\n",
    "df['창립일'].dt.day_name()"
   ]
  },
  {
   "cell_type": "code",
   "execution_count": 17,
   "id": "964637f5",
   "metadata": {},
   "outputs": [
    {
     "data": {
      "text/plain": [
       "0    4\n",
       "1    1\n",
       "2    3\n",
       "3    4\n",
       "4    2\n",
       "5    4\n",
       "6    2\n",
       "7    4\n",
       "8    2\n",
       "Name: 창립일, dtype: int64"
      ]
     },
     "execution_count": 17,
     "metadata": {},
     "output_type": "execute_result"
    }
   ],
   "source": [
    "# dt.quarter : 분기\n",
    "df['창립일'].dt.quarter"
   ]
  },
  {
   "cell_type": "code",
   "execution_count": 18,
   "id": "99f2d762",
   "metadata": {},
   "outputs": [
    {
     "data": {
      "text/plain": [
       "0    42\n",
       "1     7\n",
       "2    36\n",
       "3    49\n",
       "4    18\n",
       "5    46\n",
       "6    20\n",
       "7    52\n",
       "8    20\n",
       "Name: week, dtype: UInt32"
      ]
     },
     "execution_count": 18,
     "metadata": {},
     "output_type": "execute_result"
    }
   ],
   "source": [
    "# weekofyear : 연도기준 주\n",
    "df['창립일'].dt.isocalendar().week"
   ]
  },
  {
   "cell_type": "code",
   "execution_count": 19,
   "id": "230676b9",
   "metadata": {},
   "outputs": [
    {
     "data": {
      "text/plain": [
       "0    288\n",
       "1     47\n",
       "2    246\n",
       "3    337\n",
       "4    125\n",
       "5    321\n",
       "6    135\n",
       "7    358\n",
       "8    135\n",
       "Name: 창립일, dtype: int64"
      ]
     },
     "execution_count": 19,
     "metadata": {},
     "output_type": "execute_result"
    }
   ],
   "source": [
    "# dayofyear : 연도기준 일\n",
    "df['창립일'].dt.dayofyear"
   ]
  },
  {
   "cell_type": "code",
   "execution_count": 20,
   "id": "ffe36ccb",
   "metadata": {},
   "outputs": [
    {
     "data": {
      "text/plain": [
       "0    31\n",
       "1    28\n",
       "2    30\n",
       "3    31\n",
       "4    31\n",
       "5    30\n",
       "6    31\n",
       "7    31\n",
       "8    31\n",
       "Name: 창립일, dtype: int64"
      ]
     },
     "execution_count": 20,
     "metadata": {},
     "output_type": "execute_result"
    }
   ],
   "source": [
    "# daysinmonth : 해당 월의 총 일수\n",
    "df['창립일'].dt.daysinmonth"
   ]
  },
  {
   "cell_type": "code",
   "execution_count": 21,
   "id": "b1488f3c",
   "metadata": {},
   "outputs": [
    {
     "data": {
      "text/plain": [
       "0   2022-06-01 16:30:05\n",
       "1   2022-06-01 16:30:06\n",
       "2   2022-06-01 16:30:07\n",
       "3   2022-06-01 16:30:08\n",
       "4   2022-06-01 16:30:09\n",
       "dtype: datetime64[ns]"
      ]
     },
     "execution_count": 21,
     "metadata": {},
     "output_type": "execute_result"
    }
   ],
   "source": [
    "# 2022-06-01 16:30:05부터 1초씩 증가(10번 반복)하는 시계열 생성\n",
    "sr  = pd.Series(pd.date_range(\"2022-06-01 16:30:05\", periods  = 5, freq = \"s\"))\n",
    "sr"
   ]
  },
  {
   "cell_type": "code",
   "execution_count": 22,
   "id": "01be9268",
   "metadata": {},
   "outputs": [
    {
     "data": {
      "text/plain": [
       "0    16:30:05\n",
       "1    16:30:06\n",
       "2    16:30:07\n",
       "3    16:30:08\n",
       "4    16:30:09\n",
       "dtype: object"
      ]
     },
     "execution_count": 22,
     "metadata": {},
     "output_type": "execute_result"
    }
   ],
   "source": [
    "# dt.time : 시간정보(시분초)\n",
    "sr.dt.time"
   ]
  },
  {
   "cell_type": "code",
   "execution_count": 23,
   "id": "1b5f8685",
   "metadata": {},
   "outputs": [
    {
     "data": {
      "text/plain": [
       "0    16\n",
       "1    16\n",
       "2    16\n",
       "3    16\n",
       "4    16\n",
       "dtype: int64"
      ]
     },
     "execution_count": 23,
     "metadata": {},
     "output_type": "execute_result"
    }
   ],
   "source": [
    "# dt.hour : 시\n",
    "sr.dt.hour"
   ]
  },
  {
   "cell_type": "code",
   "execution_count": 24,
   "id": "9e0fb367",
   "metadata": {},
   "outputs": [
    {
     "data": {
      "text/plain": [
       "0    30\n",
       "1    30\n",
       "2    30\n",
       "3    30\n",
       "4    30\n",
       "dtype: int64"
      ]
     },
     "execution_count": 24,
     "metadata": {},
     "output_type": "execute_result"
    }
   ],
   "source": [
    "# dt.minute : 분\n",
    "sr.dt.minute"
   ]
  },
  {
   "cell_type": "code",
   "execution_count": 25,
   "id": "607fe0b4",
   "metadata": {},
   "outputs": [
    {
     "data": {
      "text/plain": [
       "0    5\n",
       "1    6\n",
       "2    7\n",
       "3    8\n",
       "4    9\n",
       "dtype: int64"
      ]
     },
     "execution_count": 25,
     "metadata": {},
     "output_type": "execute_result"
    }
   ],
   "source": [
    "# dt.second : 초\n",
    "sr.dt.second"
   ]
  }
 ],
 "metadata": {
  "kernelspec": {
   "display_name": "Python 3 (ipykernel)",
   "language": "python",
   "name": "python3"
  },
  "language_info": {
   "codemirror_mode": {
    "name": "ipython",
    "version": 3
   },
   "file_extension": ".py",
   "mimetype": "text/x-python",
   "name": "python",
   "nbconvert_exporter": "python",
   "pygments_lexer": "ipython3",
   "version": "3.9.13"
  }
 },
 "nbformat": 4,
 "nbformat_minor": 5
}
