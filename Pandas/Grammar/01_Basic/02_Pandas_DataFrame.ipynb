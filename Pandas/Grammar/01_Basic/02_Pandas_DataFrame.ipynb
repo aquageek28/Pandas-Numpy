{
 "cells": [
  {
   "cell_type": "markdown",
   "id": "796a18e2",
   "metadata": {},
   "source": [
    "# DataFrame"
   ]
  },
  {
   "cell_type": "code",
   "execution_count": 1,
   "id": "a8b8ad5f",
   "metadata": {},
   "outputs": [],
   "source": [
    "# 패키지 불러오기\n",
    "import pandas as pd # Pandas\n",
    "import numpy as np # Numpy"
   ]
  },
  {
   "cell_type": "markdown",
   "id": "55c82133",
   "metadata": {},
   "source": [
    "## DataFrame (데이터프레임)"
   ]
  },
  {
   "cell_type": "markdown",
   "id": "514d7d59",
   "metadata": {},
   "source": [
    "### 데이터프레임의 생성"
   ]
  },
  {
   "cell_type": "code",
   "execution_count": 2,
   "id": "b40f894f",
   "metadata": {},
   "outputs": [
    {
     "data": {
      "text/html": [
       "<div>\n",
       "<style scoped>\n",
       "    .dataframe tbody tr th:only-of-type {\n",
       "        vertical-align: middle;\n",
       "    }\n",
       "\n",
       "    .dataframe tbody tr th {\n",
       "        vertical-align: top;\n",
       "    }\n",
       "\n",
       "    .dataframe thead th {\n",
       "        text-align: right;\n",
       "    }\n",
       "</style>\n",
       "<table border=\"1\" class=\"dataframe\">\n",
       "  <thead>\n",
       "    <tr style=\"text-align: right;\">\n",
       "      <th></th>\n",
       "      <th>Name</th>\n",
       "      <th>Major</th>\n",
       "      <th>Sex</th>\n",
       "      <th>Age</th>\n",
       "    </tr>\n",
       "  </thead>\n",
       "  <tbody>\n",
       "    <tr>\n",
       "      <th>0</th>\n",
       "      <td>Adam</td>\n",
       "      <td>NaturalScience</td>\n",
       "      <td>F</td>\n",
       "      <td>20</td>\n",
       "    </tr>\n",
       "    <tr>\n",
       "      <th>1</th>\n",
       "      <td>Bob</td>\n",
       "      <td>ComputerScience</td>\n",
       "      <td>M</td>\n",
       "      <td>22</td>\n",
       "    </tr>\n",
       "    <tr>\n",
       "      <th>2</th>\n",
       "      <td>Colin</td>\n",
       "      <td>DataScience</td>\n",
       "      <td>F</td>\n",
       "      <td>21</td>\n",
       "    </tr>\n",
       "  </tbody>\n",
       "</table>\n",
       "</div>"
      ],
      "text/plain": [
       "    Name            Major Sex  Age\n",
       "0   Adam   NaturalScience   F   20\n",
       "1    Bob  ComputerScience   M   22\n",
       "2  Colin      DataScience   F   21"
      ]
     },
     "execution_count": 2,
     "metadata": {},
     "output_type": "execute_result"
    }
   ],
   "source": [
    "# DataFrame객체 생성 : pd.DataFrame(object, index, columns)\n",
    "\n",
    "# 1. object에 동일한 길이의 리스트를 값으로 가지는 딕셔너리 이용\n",
    "obj = {'Name' : ['Adam', 'Bob', 'Colin'],\n",
    "       'Major' : ['NaturalScience', 'ComputerScience', 'DataScience'],\n",
    "       'Sex' : ['F', 'M', 'F'],\n",
    "       'Age' : [20, 22, 21]}\n",
    "\n",
    "df_1 = pd.DataFrame(obj) # 데이터 프레임 생성\n",
    "\n",
    "df_1"
   ]
  },
  {
   "cell_type": "code",
   "execution_count": 3,
   "id": "e108321e",
   "metadata": {},
   "outputs": [
    {
     "data": {
      "text/html": [
       "<div>\n",
       "<style scoped>\n",
       "    .dataframe tbody tr th:only-of-type {\n",
       "        vertical-align: middle;\n",
       "    }\n",
       "\n",
       "    .dataframe tbody tr th {\n",
       "        vertical-align: top;\n",
       "    }\n",
       "\n",
       "    .dataframe thead th {\n",
       "        text-align: right;\n",
       "    }\n",
       "</style>\n",
       "<table border=\"1\" class=\"dataframe\">\n",
       "  <thead>\n",
       "    <tr style=\"text-align: right;\">\n",
       "      <th></th>\n",
       "      <th>0</th>\n",
       "      <th>1</th>\n",
       "      <th>2</th>\n",
       "      <th>3</th>\n",
       "    </tr>\n",
       "  </thead>\n",
       "  <tbody>\n",
       "    <tr>\n",
       "      <th>0</th>\n",
       "      <td>Adam</td>\n",
       "      <td>NaturalScience</td>\n",
       "      <td>여</td>\n",
       "      <td>20</td>\n",
       "    </tr>\n",
       "    <tr>\n",
       "      <th>1</th>\n",
       "      <td>Bob</td>\n",
       "      <td>ComputerScience</td>\n",
       "      <td>남</td>\n",
       "      <td>22</td>\n",
       "    </tr>\n",
       "    <tr>\n",
       "      <th>2</th>\n",
       "      <td>Colin</td>\n",
       "      <td>DataScience</td>\n",
       "      <td>여</td>\n",
       "      <td>21</td>\n",
       "    </tr>\n",
       "  </tbody>\n",
       "</table>\n",
       "</div>"
      ],
      "text/plain": [
       "       0                1  2   3\n",
       "0   Adam   NaturalScience  여  20\n",
       "1    Bob  ComputerScience  남  22\n",
       "2  Colin      DataScience  여  21"
      ]
     },
     "execution_count": 3,
     "metadata": {},
     "output_type": "execute_result"
    }
   ],
   "source": [
    "# 2. object에 2차원 배열 이용\n",
    "obj = np.array([['Adam', 'NaturalScience', '여', 20],\n",
    "                ['Bob', 'ComputerScience', '남', 22],\n",
    "                ['Colin', 'DataScience', '여', 21]])\n",
    "\n",
    "df_2 = pd.DataFrame(obj) # 데이터 프레임 생성\n",
    "\n",
    "df_2"
   ]
  },
  {
   "cell_type": "code",
   "execution_count": 4,
   "id": "b44a208c",
   "metadata": {},
   "outputs": [
    {
     "data": {
      "text/html": [
       "<div>\n",
       "<style scoped>\n",
       "    .dataframe tbody tr th:only-of-type {\n",
       "        vertical-align: middle;\n",
       "    }\n",
       "\n",
       "    .dataframe tbody tr th {\n",
       "        vertical-align: top;\n",
       "    }\n",
       "\n",
       "    .dataframe thead th {\n",
       "        text-align: right;\n",
       "    }\n",
       "</style>\n",
       "<table border=\"1\" class=\"dataframe\">\n",
       "  <thead>\n",
       "    <tr style=\"text-align: right;\">\n",
       "      <th></th>\n",
       "      <th>이름</th>\n",
       "      <th>전공</th>\n",
       "      <th>성별</th>\n",
       "      <th>나이</th>\n",
       "    </tr>\n",
       "  </thead>\n",
       "  <tbody>\n",
       "    <tr>\n",
       "      <th>A</th>\n",
       "      <td>Adam</td>\n",
       "      <td>NaturalScience</td>\n",
       "      <td>여</td>\n",
       "      <td>20</td>\n",
       "    </tr>\n",
       "    <tr>\n",
       "      <th>B</th>\n",
       "      <td>Bob</td>\n",
       "      <td>ComputerScience</td>\n",
       "      <td>남</td>\n",
       "      <td>22</td>\n",
       "    </tr>\n",
       "    <tr>\n",
       "      <th>C</th>\n",
       "      <td>Colin</td>\n",
       "      <td>DataScience</td>\n",
       "      <td>여</td>\n",
       "      <td>21</td>\n",
       "    </tr>\n",
       "  </tbody>\n",
       "</table>\n",
       "</div>"
      ],
      "text/plain": [
       "      이름               전공 성별  나이\n",
       "A   Adam   NaturalScience  여  20\n",
       "B    Bob  ComputerScience  남  22\n",
       "C  Colin      DataScience  여  21"
      ]
     },
     "execution_count": 4,
     "metadata": {},
     "output_type": "execute_result"
    }
   ],
   "source": [
    "# 원하는 인덱스 지정\n",
    "df_3 = pd.DataFrame(obj,\n",
    "                    columns = ['이름', '전공', '성별', '나이'], # 열에 대한 인덱스\n",
    "                    index = ['A', 'B', 'C'] # 행에 대한 인덱스\n",
    "                   )\n",
    "df_3"
   ]
  },
  {
   "cell_type": "code",
   "execution_count": 5,
   "id": "0987e446",
   "metadata": {},
   "outputs": [
    {
     "name": "stdout",
     "output_type": "stream",
     "text": [
      "RangeIndex(start=0, stop=3, step=1)\n",
      "Index(['Name', 'Major', 'Sex', 'Age'], dtype='object')\n",
      "[['Adam' 'NaturalScience' 'F' 20]\n",
      " ['Bob' 'ComputerScience' 'M' 22]\n",
      " ['Colin' 'DataScience' 'F' 21]]\n"
     ]
    }
   ],
   "source": [
    "# DataFrame객체의 행에 대한 인덱스 확인\n",
    "print(df_1.index)\n",
    "\n",
    "# DataFrame객체의 열에 대한 인덱스 확인\n",
    "print(df_1.columns)\n",
    "\n",
    "# DataFrame객체의 값 확인\n",
    "print(df_1.values) # array로 반환됨"
   ]
  },
  {
   "cell_type": "markdown",
   "id": "4413a499",
   "metadata": {},
   "source": [
    "### 데이터프레임의 정보 확인"
   ]
  },
  {
   "cell_type": "code",
   "execution_count": 6,
   "id": "52008ff5",
   "metadata": {},
   "outputs": [
    {
     "name": "stdout",
     "output_type": "stream",
     "text": [
      "     Name     Sex  Age\n",
      "0  Olivia  Female   22\n",
      "1   Lucas    Male   32\n",
      "2  Sophia  Female   27\n",
      "3     Zoe  Female   18\n",
      "4     Ava  Female   38\n",
      "5  Elliot    Male   19\n",
      "[['Olivia' 'Female' 22]\n",
      " ['Lucas' 'Male' 32]\n",
      " ['Sophia' 'Female' 27]\n",
      " ['Zoe' 'Female' 18]\n",
      " ['Ava' 'Female' 38]\n",
      " ['Elliot' 'Male' 19]]\n",
      "RangeIndex(start=0, stop=6, step=1)\n",
      "Index(['Name', 'Sex', 'Age'], dtype='object')\n",
      "Name    object\n",
      "Sex     object\n",
      "Age      int64\n",
      "dtype: object\n",
      "(6, 3)\n",
      "<class 'pandas.core.frame.DataFrame'>\n",
      "RangeIndex: 6 entries, 0 to 5\n",
      "Data columns (total 3 columns):\n",
      " #   Column  Non-Null Count  Dtype \n",
      "---  ------  --------------  ----- \n",
      " 0   Name    6 non-null      object\n",
      " 1   Sex     6 non-null      object\n",
      " 2   Age     6 non-null      int64 \n",
      "dtypes: int64(1), object(2)\n",
      "memory usage: 272.0+ bytes\n"
     ]
    }
   ],
   "source": [
    "# 데이터프레임 정보 확인 메소드\n",
    "# DataFrame객체 생성 \n",
    "obj = {'Name' : ['Olivia', 'Lucas', 'Sophia', 'Zoe', 'Ava', 'Elliot'],\n",
    "       'Sex' : ['Female', 'Male', 'Female', 'Female', 'Female', 'Male'],\n",
    "       'Age' : [22, 32, 27, 18, 38, 19]}\n",
    "df = pd.DataFrame(obj) # 데이터 프레임 생성\n",
    "print(df)\n",
    "\n",
    "# .values\n",
    "# 데이터프레임 내 값을 배열 형태로 반환\n",
    "print(df.values)\n",
    "\n",
    "# .index\n",
    "# 데이터프레임 내 행 인덱스를 레이블 배열 형태로 반환\n",
    "print(df.index)\n",
    "\n",
    "# .columns\n",
    "# 데이터프레임 내 열 인덱스를 레이블 배열 형태로 반환\n",
    "print(df.columns)\n",
    "\n",
    "# .dtypes\n",
    "# 데이터프레임 내 변수(컬럼)별 데이터 타입 확인\n",
    "print(df.dtypes)\n",
    "\n",
    "# .shape\n",
    "# 데이터프레임의 행, 열 길이 확인\n",
    "print(df.shape)\n",
    "\n",
    "# .info()\n",
    "# 데이터프레임의 전반적인 요약 정보 확인\n",
    "# 로우명, 컬럼명, 행 길이, 열 길이, 컬럼별 데이터 타입, 메모리 등 확인 가능\n",
    "df.info()"
   ]
  },
  {
   "cell_type": "code",
   "execution_count": 7,
   "id": "d841f0ef",
   "metadata": {},
   "outputs": [
    {
     "data": {
      "text/html": [
       "<div>\n",
       "<style scoped>\n",
       "    .dataframe tbody tr th:only-of-type {\n",
       "        vertical-align: middle;\n",
       "    }\n",
       "\n",
       "    .dataframe tbody tr th {\n",
       "        vertical-align: top;\n",
       "    }\n",
       "\n",
       "    .dataframe thead th {\n",
       "        text-align: right;\n",
       "    }\n",
       "</style>\n",
       "<table border=\"1\" class=\"dataframe\">\n",
       "  <thead>\n",
       "    <tr style=\"text-align: right;\">\n",
       "      <th></th>\n",
       "      <th>Name</th>\n",
       "      <th>Sex</th>\n",
       "      <th>Age</th>\n",
       "    </tr>\n",
       "  </thead>\n",
       "  <tbody>\n",
       "    <tr>\n",
       "      <th>0</th>\n",
       "      <td>Olivia</td>\n",
       "      <td>Female</td>\n",
       "      <td>22</td>\n",
       "    </tr>\n",
       "    <tr>\n",
       "      <th>1</th>\n",
       "      <td>Lucas</td>\n",
       "      <td>Male</td>\n",
       "      <td>32</td>\n",
       "    </tr>\n",
       "    <tr>\n",
       "      <th>2</th>\n",
       "      <td>Sophia</td>\n",
       "      <td>Female</td>\n",
       "      <td>27</td>\n",
       "    </tr>\n",
       "    <tr>\n",
       "      <th>3</th>\n",
       "      <td>Zoe</td>\n",
       "      <td>Female</td>\n",
       "      <td>18</td>\n",
       "    </tr>\n",
       "    <tr>\n",
       "      <th>4</th>\n",
       "      <td>Ava</td>\n",
       "      <td>Female</td>\n",
       "      <td>38</td>\n",
       "    </tr>\n",
       "  </tbody>\n",
       "</table>\n",
       "</div>"
      ],
      "text/plain": [
       "     Name     Sex  Age\n",
       "0  Olivia  Female   22\n",
       "1   Lucas    Male   32\n",
       "2  Sophia  Female   27\n",
       "3     Zoe  Female   18\n",
       "4     Ava  Female   38"
      ]
     },
     "execution_count": 7,
     "metadata": {},
     "output_type": "execute_result"
    }
   ],
   "source": [
    "# .head(n=5)\n",
    "# 데이터프레임의 상위 행을 반환(n은 반환할 행의 수)\n",
    "df.head() # 상위 5(default)개의 행 반환"
   ]
  },
  {
   "cell_type": "code",
   "execution_count": 8,
   "id": "ec216252",
   "metadata": {},
   "outputs": [
    {
     "data": {
      "text/html": [
       "<div>\n",
       "<style scoped>\n",
       "    .dataframe tbody tr th:only-of-type {\n",
       "        vertical-align: middle;\n",
       "    }\n",
       "\n",
       "    .dataframe tbody tr th {\n",
       "        vertical-align: top;\n",
       "    }\n",
       "\n",
       "    .dataframe thead th {\n",
       "        text-align: right;\n",
       "    }\n",
       "</style>\n",
       "<table border=\"1\" class=\"dataframe\">\n",
       "  <thead>\n",
       "    <tr style=\"text-align: right;\">\n",
       "      <th></th>\n",
       "      <th>Name</th>\n",
       "      <th>Sex</th>\n",
       "      <th>Age</th>\n",
       "    </tr>\n",
       "  </thead>\n",
       "  <tbody>\n",
       "    <tr>\n",
       "      <th>0</th>\n",
       "      <td>Olivia</td>\n",
       "      <td>Female</td>\n",
       "      <td>22</td>\n",
       "    </tr>\n",
       "  </tbody>\n",
       "</table>\n",
       "</div>"
      ],
      "text/plain": [
       "     Name     Sex  Age\n",
       "0  Olivia  Female   22"
      ]
     },
     "execution_count": 8,
     "metadata": {},
     "output_type": "execute_result"
    }
   ],
   "source": [
    "df.head(1) # 상위 1개의 행 반환"
   ]
  },
  {
   "cell_type": "code",
   "execution_count": 9,
   "id": "0cda8cdf",
   "metadata": {},
   "outputs": [
    {
     "data": {
      "text/html": [
       "<div>\n",
       "<style scoped>\n",
       "    .dataframe tbody tr th:only-of-type {\n",
       "        vertical-align: middle;\n",
       "    }\n",
       "\n",
       "    .dataframe tbody tr th {\n",
       "        vertical-align: top;\n",
       "    }\n",
       "\n",
       "    .dataframe thead th {\n",
       "        text-align: right;\n",
       "    }\n",
       "</style>\n",
       "<table border=\"1\" class=\"dataframe\">\n",
       "  <thead>\n",
       "    <tr style=\"text-align: right;\">\n",
       "      <th></th>\n",
       "      <th>Name</th>\n",
       "      <th>Sex</th>\n",
       "      <th>Age</th>\n",
       "    </tr>\n",
       "  </thead>\n",
       "  <tbody>\n",
       "    <tr>\n",
       "      <th>0</th>\n",
       "      <td>Olivia</td>\n",
       "      <td>Female</td>\n",
       "      <td>22</td>\n",
       "    </tr>\n",
       "    <tr>\n",
       "      <th>1</th>\n",
       "      <td>Lucas</td>\n",
       "      <td>Male</td>\n",
       "      <td>32</td>\n",
       "    </tr>\n",
       "    <tr>\n",
       "      <th>2</th>\n",
       "      <td>Sophia</td>\n",
       "      <td>Female</td>\n",
       "      <td>27</td>\n",
       "    </tr>\n",
       "  </tbody>\n",
       "</table>\n",
       "</div>"
      ],
      "text/plain": [
       "     Name     Sex  Age\n",
       "0  Olivia  Female   22\n",
       "1   Lucas    Male   32\n",
       "2  Sophia  Female   27"
      ]
     },
     "execution_count": 9,
     "metadata": {},
     "output_type": "execute_result"
    }
   ],
   "source": [
    "df.head(-3) # 상위 (전체행-3)개의 행 반환"
   ]
  },
  {
   "cell_type": "code",
   "execution_count": 10,
   "id": "2e675680",
   "metadata": {},
   "outputs": [
    {
     "data": {
      "text/html": [
       "<div>\n",
       "<style scoped>\n",
       "    .dataframe tbody tr th:only-of-type {\n",
       "        vertical-align: middle;\n",
       "    }\n",
       "\n",
       "    .dataframe tbody tr th {\n",
       "        vertical-align: top;\n",
       "    }\n",
       "\n",
       "    .dataframe thead th {\n",
       "        text-align: right;\n",
       "    }\n",
       "</style>\n",
       "<table border=\"1\" class=\"dataframe\">\n",
       "  <thead>\n",
       "    <tr style=\"text-align: right;\">\n",
       "      <th></th>\n",
       "      <th>Name</th>\n",
       "      <th>Sex</th>\n",
       "      <th>Age</th>\n",
       "    </tr>\n",
       "  </thead>\n",
       "  <tbody>\n",
       "    <tr>\n",
       "      <th>1</th>\n",
       "      <td>Lucas</td>\n",
       "      <td>Male</td>\n",
       "      <td>32</td>\n",
       "    </tr>\n",
       "    <tr>\n",
       "      <th>2</th>\n",
       "      <td>Sophia</td>\n",
       "      <td>Female</td>\n",
       "      <td>27</td>\n",
       "    </tr>\n",
       "    <tr>\n",
       "      <th>3</th>\n",
       "      <td>Zoe</td>\n",
       "      <td>Female</td>\n",
       "      <td>18</td>\n",
       "    </tr>\n",
       "    <tr>\n",
       "      <th>4</th>\n",
       "      <td>Ava</td>\n",
       "      <td>Female</td>\n",
       "      <td>38</td>\n",
       "    </tr>\n",
       "    <tr>\n",
       "      <th>5</th>\n",
       "      <td>Elliot</td>\n",
       "      <td>Male</td>\n",
       "      <td>19</td>\n",
       "    </tr>\n",
       "  </tbody>\n",
       "</table>\n",
       "</div>"
      ],
      "text/plain": [
       "     Name     Sex  Age\n",
       "1   Lucas    Male   32\n",
       "2  Sophia  Female   27\n",
       "3     Zoe  Female   18\n",
       "4     Ava  Female   38\n",
       "5  Elliot    Male   19"
      ]
     },
     "execution_count": 10,
     "metadata": {},
     "output_type": "execute_result"
    }
   ],
   "source": [
    "# .tail(n=5)\n",
    "# 데이터프레임의 하위 행을 반환(n은 반환할 행의 수)\n",
    "df.tail() # 하위 5(default)개의 행 반환"
   ]
  },
  {
   "cell_type": "code",
   "execution_count": 11,
   "id": "e037ed0e",
   "metadata": {},
   "outputs": [
    {
     "data": {
      "text/html": [
       "<div>\n",
       "<style scoped>\n",
       "    .dataframe tbody tr th:only-of-type {\n",
       "        vertical-align: middle;\n",
       "    }\n",
       "\n",
       "    .dataframe tbody tr th {\n",
       "        vertical-align: top;\n",
       "    }\n",
       "\n",
       "    .dataframe thead th {\n",
       "        text-align: right;\n",
       "    }\n",
       "</style>\n",
       "<table border=\"1\" class=\"dataframe\">\n",
       "  <thead>\n",
       "    <tr style=\"text-align: right;\">\n",
       "      <th></th>\n",
       "      <th>Name</th>\n",
       "      <th>Sex</th>\n",
       "      <th>Age</th>\n",
       "    </tr>\n",
       "  </thead>\n",
       "  <tbody>\n",
       "    <tr>\n",
       "      <th>5</th>\n",
       "      <td>Elliot</td>\n",
       "      <td>Male</td>\n",
       "      <td>19</td>\n",
       "    </tr>\n",
       "  </tbody>\n",
       "</table>\n",
       "</div>"
      ],
      "text/plain": [
       "     Name   Sex  Age\n",
       "5  Elliot  Male   19"
      ]
     },
     "execution_count": 11,
     "metadata": {},
     "output_type": "execute_result"
    }
   ],
   "source": [
    "df.tail(1) # 하위 1개의 행 반환"
   ]
  },
  {
   "cell_type": "code",
   "execution_count": 12,
   "id": "1815fca2",
   "metadata": {},
   "outputs": [
    {
     "data": {
      "text/html": [
       "<div>\n",
       "<style scoped>\n",
       "    .dataframe tbody tr th:only-of-type {\n",
       "        vertical-align: middle;\n",
       "    }\n",
       "\n",
       "    .dataframe tbody tr th {\n",
       "        vertical-align: top;\n",
       "    }\n",
       "\n",
       "    .dataframe thead th {\n",
       "        text-align: right;\n",
       "    }\n",
       "</style>\n",
       "<table border=\"1\" class=\"dataframe\">\n",
       "  <thead>\n",
       "    <tr style=\"text-align: right;\">\n",
       "      <th></th>\n",
       "      <th>Name</th>\n",
       "      <th>Sex</th>\n",
       "      <th>Age</th>\n",
       "    </tr>\n",
       "  </thead>\n",
       "  <tbody>\n",
       "    <tr>\n",
       "      <th>3</th>\n",
       "      <td>Zoe</td>\n",
       "      <td>Female</td>\n",
       "      <td>18</td>\n",
       "    </tr>\n",
       "    <tr>\n",
       "      <th>4</th>\n",
       "      <td>Ava</td>\n",
       "      <td>Female</td>\n",
       "      <td>38</td>\n",
       "    </tr>\n",
       "    <tr>\n",
       "      <th>5</th>\n",
       "      <td>Elliot</td>\n",
       "      <td>Male</td>\n",
       "      <td>19</td>\n",
       "    </tr>\n",
       "  </tbody>\n",
       "</table>\n",
       "</div>"
      ],
      "text/plain": [
       "     Name     Sex  Age\n",
       "3     Zoe  Female   18\n",
       "4     Ava  Female   38\n",
       "5  Elliot    Male   19"
      ]
     },
     "execution_count": 12,
     "metadata": {},
     "output_type": "execute_result"
    }
   ],
   "source": [
    "df.tail(-3) # 하위 (전체행-3)개의 행 반환"
   ]
  },
  {
   "cell_type": "markdown",
   "id": "a4bdc4e9",
   "metadata": {},
   "source": [
    "### 데이터프레임의 인덱싱과 슬라이싱"
   ]
  },
  {
   "cell_type": "code",
   "execution_count": 13,
   "id": "3f85a086",
   "metadata": {},
   "outputs": [],
   "source": [
    "# 데이터프레임 생성\n",
    "obj = {'Name' : ['Olivia', 'Lucas', 'Sophia', 'Zoe', 'Ava', 'Elliot'],\n",
    "       'Sex' : ['Female', 'Male', 'Female', 'Female', 'Female', 'Male'],\n",
    "       'Age' : [22, 32, 27, 18, 38, 19]}\n",
    "idx = list('abcdef') # 인덱스 리스트\n",
    "\n",
    "df = pd.DataFrame(obj, index = idx) "
   ]
  },
  {
   "cell_type": "code",
   "execution_count": 14,
   "id": "2fd7ee97",
   "metadata": {},
   "outputs": [
    {
     "data": {
      "text/plain": [
       "a    Olivia\n",
       "b     Lucas\n",
       "c    Sophia\n",
       "d       Zoe\n",
       "e       Ava\n",
       "f    Elliot\n",
       "Name: Name, dtype: object"
      ]
     },
     "execution_count": 14,
     "metadata": {},
     "output_type": "execute_result"
    }
   ],
   "source": [
    "# Case 1. 열만 참조\n",
    "# 데이터프레임명['컬럼명']\n",
    "df['Name']"
   ]
  },
  {
   "cell_type": "code",
   "execution_count": 15,
   "id": "908f1204",
   "metadata": {},
   "outputs": [
    {
     "data": {
      "text/plain": [
       "a    Olivia\n",
       "b     Lucas\n",
       "c    Sophia\n",
       "d       Zoe\n",
       "e       Ava\n",
       "f    Elliot\n",
       "Name: Name, dtype: object"
      ]
     },
     "execution_count": 15,
     "metadata": {},
     "output_type": "execute_result"
    }
   ],
   "source": [
    "# 데이터프레임명.컬럼명\n",
    "df.Name"
   ]
  },
  {
   "cell_type": "code",
   "execution_count": 16,
   "id": "0935da79",
   "metadata": {},
   "outputs": [
    {
     "data": {
      "text/html": [
       "<div>\n",
       "<style scoped>\n",
       "    .dataframe tbody tr th:only-of-type {\n",
       "        vertical-align: middle;\n",
       "    }\n",
       "\n",
       "    .dataframe tbody tr th {\n",
       "        vertical-align: top;\n",
       "    }\n",
       "\n",
       "    .dataframe thead th {\n",
       "        text-align: right;\n",
       "    }\n",
       "</style>\n",
       "<table border=\"1\" class=\"dataframe\">\n",
       "  <thead>\n",
       "    <tr style=\"text-align: right;\">\n",
       "      <th></th>\n",
       "      <th>Name</th>\n",
       "      <th>Age</th>\n",
       "    </tr>\n",
       "  </thead>\n",
       "  <tbody>\n",
       "    <tr>\n",
       "      <th>a</th>\n",
       "      <td>Olivia</td>\n",
       "      <td>22</td>\n",
       "    </tr>\n",
       "    <tr>\n",
       "      <th>b</th>\n",
       "      <td>Lucas</td>\n",
       "      <td>32</td>\n",
       "    </tr>\n",
       "    <tr>\n",
       "      <th>c</th>\n",
       "      <td>Sophia</td>\n",
       "      <td>27</td>\n",
       "    </tr>\n",
       "    <tr>\n",
       "      <th>d</th>\n",
       "      <td>Zoe</td>\n",
       "      <td>18</td>\n",
       "    </tr>\n",
       "    <tr>\n",
       "      <th>e</th>\n",
       "      <td>Ava</td>\n",
       "      <td>38</td>\n",
       "    </tr>\n",
       "    <tr>\n",
       "      <th>f</th>\n",
       "      <td>Elliot</td>\n",
       "      <td>19</td>\n",
       "    </tr>\n",
       "  </tbody>\n",
       "</table>\n",
       "</div>"
      ],
      "text/plain": [
       "     Name  Age\n",
       "a  Olivia   22\n",
       "b   Lucas   32\n",
       "c  Sophia   27\n",
       "d     Zoe   18\n",
       "e     Ava   38\n",
       "f  Elliot   19"
      ]
     },
     "execution_count": 16,
     "metadata": {},
     "output_type": "execute_result"
    }
   ],
   "source": [
    "# 여러 열을 추출\n",
    "# 데이터프레임명[리스트]\n",
    "colnm = ['Name', 'Age'] # 추출할 열의 컬럼명\n",
    "df[colnm] # Name과 Age를 열(시리즈)로 가지는 데이터프레임"
   ]
  },
  {
   "cell_type": "code",
   "execution_count": 17,
   "id": "b3a550dd",
   "metadata": {},
   "outputs": [
    {
     "data": {
      "text/plain": [
       "Name    Lucas\n",
       "Sex      Male\n",
       "Age        32\n",
       "Name: b, dtype: object"
      ]
     },
     "execution_count": 17,
     "metadata": {},
     "output_type": "execute_result"
    }
   ],
   "source": [
    "# Case 2. 행만 참조\n",
    "# iloc은 위치 기반으로, 데이터프레임명.iloc[행위치인덱스]\n",
    "\n",
    "# 2번 째(표 기준)행의 값과 원래의 컬럼명을 레이블 인덱스으로 가지는 시리즈\n",
    "df.iloc[1]"
   ]
  },
  {
   "cell_type": "code",
   "execution_count": 18,
   "id": "bab36301",
   "metadata": {},
   "outputs": [
    {
     "data": {
      "text/html": [
       "<div>\n",
       "<style scoped>\n",
       "    .dataframe tbody tr th:only-of-type {\n",
       "        vertical-align: middle;\n",
       "    }\n",
       "\n",
       "    .dataframe tbody tr th {\n",
       "        vertical-align: top;\n",
       "    }\n",
       "\n",
       "    .dataframe thead th {\n",
       "        text-align: right;\n",
       "    }\n",
       "</style>\n",
       "<table border=\"1\" class=\"dataframe\">\n",
       "  <thead>\n",
       "    <tr style=\"text-align: right;\">\n",
       "      <th></th>\n",
       "      <th>Name</th>\n",
       "      <th>Sex</th>\n",
       "      <th>Age</th>\n",
       "    </tr>\n",
       "  </thead>\n",
       "  <tbody>\n",
       "    <tr>\n",
       "      <th>b</th>\n",
       "      <td>Lucas</td>\n",
       "      <td>Male</td>\n",
       "      <td>32</td>\n",
       "    </tr>\n",
       "    <tr>\n",
       "      <th>c</th>\n",
       "      <td>Sophia</td>\n",
       "      <td>Female</td>\n",
       "      <td>27</td>\n",
       "    </tr>\n",
       "    <tr>\n",
       "      <th>d</th>\n",
       "      <td>Zoe</td>\n",
       "      <td>Female</td>\n",
       "      <td>18</td>\n",
       "    </tr>\n",
       "    <tr>\n",
       "      <th>e</th>\n",
       "      <td>Ava</td>\n",
       "      <td>Female</td>\n",
       "      <td>38</td>\n",
       "    </tr>\n",
       "  </tbody>\n",
       "</table>\n",
       "</div>"
      ],
      "text/plain": [
       "     Name     Sex  Age\n",
       "b   Lucas    Male   32\n",
       "c  Sophia  Female   27\n",
       "d     Zoe  Female   18\n",
       "e     Ava  Female   38"
      ]
     },
     "execution_count": 18,
     "metadata": {},
     "output_type": "execute_result"
    }
   ],
   "source": [
    "# 2~5번 째(표 기준) 행을 가지는 데이터프레임\n",
    "df.iloc[1:5]"
   ]
  },
  {
   "cell_type": "code",
   "execution_count": 19,
   "id": "72030ec0",
   "metadata": {},
   "outputs": [
    {
     "data": {
      "text/html": [
       "<div>\n",
       "<style scoped>\n",
       "    .dataframe tbody tr th:only-of-type {\n",
       "        vertical-align: middle;\n",
       "    }\n",
       "\n",
       "    .dataframe tbody tr th {\n",
       "        vertical-align: top;\n",
       "    }\n",
       "\n",
       "    .dataframe thead th {\n",
       "        text-align: right;\n",
       "    }\n",
       "</style>\n",
       "<table border=\"1\" class=\"dataframe\">\n",
       "  <thead>\n",
       "    <tr style=\"text-align: right;\">\n",
       "      <th></th>\n",
       "      <th>Name</th>\n",
       "      <th>Sex</th>\n",
       "      <th>Age</th>\n",
       "    </tr>\n",
       "  </thead>\n",
       "  <tbody>\n",
       "    <tr>\n",
       "      <th>b</th>\n",
       "      <td>Lucas</td>\n",
       "      <td>Male</td>\n",
       "      <td>32</td>\n",
       "    </tr>\n",
       "    <tr>\n",
       "      <th>d</th>\n",
       "      <td>Zoe</td>\n",
       "      <td>Female</td>\n",
       "      <td>18</td>\n",
       "    </tr>\n",
       "  </tbody>\n",
       "</table>\n",
       "</div>"
      ],
      "text/plain": [
       "    Name     Sex  Age\n",
       "b  Lucas    Male   32\n",
       "d    Zoe  Female   18"
      ]
     },
     "execution_count": 19,
     "metadata": {},
     "output_type": "execute_result"
    }
   ],
   "source": [
    "# 연속하지 않은 위치일 경우에도 리스트로 행을 참조\n",
    "idx = [1, 3] \n",
    "df.iloc[idx]"
   ]
  },
  {
   "cell_type": "code",
   "execution_count": 20,
   "id": "1003da39",
   "metadata": {},
   "outputs": [
    {
     "data": {
      "text/plain": [
       "Name    Lucas\n",
       "Sex      Male\n",
       "Age        32\n",
       "Name: b, dtype: object"
      ]
     },
     "execution_count": 20,
     "metadata": {},
     "output_type": "execute_result"
    }
   ],
   "source": [
    "# loc은 레이블 기반이며, 데이터프레임명.loc[행레이블인덱스]\n",
    "# 2번 째(표 기준)행의 값과 원래의 컬럼명을 레이블 인덱스으로 가지는 시리즈\n",
    "df.loc['b']"
   ]
  },
  {
   "cell_type": "code",
   "execution_count": 21,
   "id": "9485be8c",
   "metadata": {},
   "outputs": [
    {
     "data": {
      "text/html": [
       "<div>\n",
       "<style scoped>\n",
       "    .dataframe tbody tr th:only-of-type {\n",
       "        vertical-align: middle;\n",
       "    }\n",
       "\n",
       "    .dataframe tbody tr th {\n",
       "        vertical-align: top;\n",
       "    }\n",
       "\n",
       "    .dataframe thead th {\n",
       "        text-align: right;\n",
       "    }\n",
       "</style>\n",
       "<table border=\"1\" class=\"dataframe\">\n",
       "  <thead>\n",
       "    <tr style=\"text-align: right;\">\n",
       "      <th></th>\n",
       "      <th>Name</th>\n",
       "      <th>Sex</th>\n",
       "      <th>Age</th>\n",
       "    </tr>\n",
       "  </thead>\n",
       "  <tbody>\n",
       "    <tr>\n",
       "      <th>b</th>\n",
       "      <td>Lucas</td>\n",
       "      <td>Male</td>\n",
       "      <td>32</td>\n",
       "    </tr>\n",
       "    <tr>\n",
       "      <th>c</th>\n",
       "      <td>Sophia</td>\n",
       "      <td>Female</td>\n",
       "      <td>27</td>\n",
       "    </tr>\n",
       "    <tr>\n",
       "      <th>d</th>\n",
       "      <td>Zoe</td>\n",
       "      <td>Female</td>\n",
       "      <td>18</td>\n",
       "    </tr>\n",
       "    <tr>\n",
       "      <th>e</th>\n",
       "      <td>Ava</td>\n",
       "      <td>Female</td>\n",
       "      <td>38</td>\n",
       "    </tr>\n",
       "  </tbody>\n",
       "</table>\n",
       "</div>"
      ],
      "text/plain": [
       "     Name     Sex  Age\n",
       "b   Lucas    Male   32\n",
       "c  Sophia  Female   27\n",
       "d     Zoe  Female   18\n",
       "e     Ava  Female   38"
      ]
     },
     "execution_count": 21,
     "metadata": {},
     "output_type": "execute_result"
    }
   ],
   "source": [
    "# 2~5번 째(표 기준) 행을 가지는 데이터프레임\n",
    "df.loc['b':'e']"
   ]
  },
  {
   "cell_type": "code",
   "execution_count": 22,
   "id": "2edfa781",
   "metadata": {},
   "outputs": [
    {
     "data": {
      "text/html": [
       "<div>\n",
       "<style scoped>\n",
       "    .dataframe tbody tr th:only-of-type {\n",
       "        vertical-align: middle;\n",
       "    }\n",
       "\n",
       "    .dataframe tbody tr th {\n",
       "        vertical-align: top;\n",
       "    }\n",
       "\n",
       "    .dataframe thead th {\n",
       "        text-align: right;\n",
       "    }\n",
       "</style>\n",
       "<table border=\"1\" class=\"dataframe\">\n",
       "  <thead>\n",
       "    <tr style=\"text-align: right;\">\n",
       "      <th></th>\n",
       "      <th>Name</th>\n",
       "      <th>Sex</th>\n",
       "      <th>Age</th>\n",
       "    </tr>\n",
       "  </thead>\n",
       "  <tbody>\n",
       "    <tr>\n",
       "      <th>b</th>\n",
       "      <td>Lucas</td>\n",
       "      <td>Male</td>\n",
       "      <td>32</td>\n",
       "    </tr>\n",
       "    <tr>\n",
       "      <th>d</th>\n",
       "      <td>Zoe</td>\n",
       "      <td>Female</td>\n",
       "      <td>18</td>\n",
       "    </tr>\n",
       "  </tbody>\n",
       "</table>\n",
       "</div>"
      ],
      "text/plain": [
       "    Name     Sex  Age\n",
       "b  Lucas    Male   32\n",
       "d    Zoe  Female   18"
      ]
     },
     "execution_count": 22,
     "metadata": {},
     "output_type": "execute_result"
    }
   ],
   "source": [
    "# 대부분의 레이블 인덱스는 연속하지 않음\n",
    "rownm = ['b', 'd'] # 리스트로 행을 참조\n",
    "df.loc[rownm] # 2, 4번째(표 기준) 행을 가지는 데이터프레임"
   ]
  },
  {
   "cell_type": "code",
   "execution_count": 23,
   "id": "559f9e6e",
   "metadata": {},
   "outputs": [
    {
     "data": {
      "text/plain": [
       "a    22\n",
       "b    32\n",
       "c    27\n",
       "d    18\n",
       "e    38\n",
       "f    19\n",
       "Name: Age, dtype: int64"
      ]
     },
     "execution_count": 23,
     "metadata": {},
     "output_type": "execute_result"
    }
   ],
   "source": [
    "# Case 3. 인덱서 없이 행과 열을 동시에 참조하는 방법\n",
    "# i) 하나의 열에 대해 인덱싱\n",
    "df['Age'] #Age 열 참조"
   ]
  },
  {
   "cell_type": "code",
   "execution_count": 24,
   "id": "bbd992e0",
   "metadata": {},
   "outputs": [
    {
     "data": {
      "text/plain": [
       "22"
      ]
     },
     "execution_count": 24,
     "metadata": {},
     "output_type": "execute_result"
    }
   ],
   "source": [
    "# ii) 행에 대해 인덱싱\n",
    "# 시리즈가 되기 때문에 가능해짐\n",
    "df['Age']['a'] #Age 열과 a 행 참조"
   ]
  },
  {
   "cell_type": "code",
   "execution_count": 25,
   "id": "18ac86ce",
   "metadata": {},
   "outputs": [
    {
     "data": {
      "text/plain": [
       "22"
      ]
     },
     "execution_count": 25,
     "metadata": {},
     "output_type": "execute_result"
    }
   ],
   "source": [
    "df['Age'][0] #Age 열과 0번 위치 행 참조"
   ]
  },
  {
   "cell_type": "code",
   "execution_count": 26,
   "id": "8a1db4d2",
   "metadata": {},
   "outputs": [
    {
     "data": {
      "text/plain": [
       "'Lucas'"
      ]
     },
     "execution_count": 26,
     "metadata": {},
     "output_type": "execute_result"
    }
   ],
   "source": [
    "# ii) loc를 통한 방법 : 2d-array에서의 방법에 숫자 대신 레이블을 이용\n",
    "# 행 인덱스(로우명)이 b이고 열 인덱스(컬럼명)이 Name\n",
    "df.loc['b', 'Name']"
   ]
  },
  {
   "cell_type": "code",
   "execution_count": 27,
   "id": "2967cd4e",
   "metadata": {},
   "outputs": [
    {
     "data": {
      "text/html": [
       "<div>\n",
       "<style scoped>\n",
       "    .dataframe tbody tr th:only-of-type {\n",
       "        vertical-align: middle;\n",
       "    }\n",
       "\n",
       "    .dataframe tbody tr th {\n",
       "        vertical-align: top;\n",
       "    }\n",
       "\n",
       "    .dataframe thead th {\n",
       "        text-align: right;\n",
       "    }\n",
       "</style>\n",
       "<table border=\"1\" class=\"dataframe\">\n",
       "  <thead>\n",
       "    <tr style=\"text-align: right;\">\n",
       "      <th></th>\n",
       "      <th>Name</th>\n",
       "      <th>Sex</th>\n",
       "    </tr>\n",
       "  </thead>\n",
       "  <tbody>\n",
       "    <tr>\n",
       "      <th>b</th>\n",
       "      <td>Lucas</td>\n",
       "      <td>Male</td>\n",
       "    </tr>\n",
       "    <tr>\n",
       "      <th>d</th>\n",
       "      <td>Zoe</td>\n",
       "      <td>Female</td>\n",
       "    </tr>\n",
       "    <tr>\n",
       "      <th>e</th>\n",
       "      <td>Ava</td>\n",
       "      <td>Female</td>\n",
       "    </tr>\n",
       "  </tbody>\n",
       "</table>\n",
       "</div>"
      ],
      "text/plain": [
       "    Name     Sex\n",
       "b  Lucas    Male\n",
       "d    Zoe  Female\n",
       "e    Ava  Female"
      ]
     },
     "execution_count": 27,
     "metadata": {},
     "output_type": "execute_result"
    }
   ],
   "source": [
    "# 대부분 행과 열의 레이블 인덱스(특히 열)은 연속되지 않아 리스트를 사용\n",
    "# 행 : b, d, e\n",
    "# 열 : Name Sex\n",
    "rownm = ['b', 'd', 'e']\n",
    "colnm = ['Name', 'Sex']\n",
    "df.loc[rownm, colnm]"
   ]
  }
 ],
 "metadata": {
  "kernelspec": {
   "display_name": "Python 3 (ipykernel)",
   "language": "python",
   "name": "python3"
  },
  "language_info": {
   "codemirror_mode": {
    "name": "ipython",
    "version": 3
   },
   "file_extension": ".py",
   "mimetype": "text/x-python",
   "name": "python",
   "nbconvert_exporter": "python",
   "pygments_lexer": "ipython3",
   "version": "3.9.13"
  }
 },
 "nbformat": 4,
 "nbformat_minor": 5
}
