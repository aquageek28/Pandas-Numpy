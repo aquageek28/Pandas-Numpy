{
 "cells": [
  {
   "cell_type": "code",
   "execution_count": null,
   "id": "8f4a4340",
   "metadata": {},
   "outputs": [],
   "source": [
    "Iris 데이터 세트에서 species 변수 값별로 petal_width 상위 25% 값을 구한 후, 가장 큰 값과 가장 작은 값 사이의 차이를 계산하시오."
   ]
  },
  {
   "cell_type": "code",
   "execution_count": null,
   "id": "84c61120",
   "metadata": {},
   "outputs": [],
   "source": [
    "Iris 데이터 세트에서 sepal_length 변수의 전체 값들을 중복 없이 리스트로 만든 후, 오름차순으로 정렬했을 때 리스트의 10번째 오는 숫자를 계산하시오."
   ]
  },
  {
   "cell_type": "code",
   "execution_count": null,
   "id": "0c4a6086",
   "metadata": {},
   "outputs": [],
   "source": [
    "Iris 데이터 세트를 sepal_width 변수 값으로 내림차순한 후 위에서부터 100개 행을 학습데이터로 분리하고, 학습데이터에서 sepal_width의 표준편차 값을 구한 후 50을 곱한 값을 계산하시오. (최종 계산 값의 소수점 이하는 반올림한다.)"
   ]
  },
  {
   "cell_type": "code",
   "execution_count": null,
   "id": "80e40b83",
   "metadata": {},
   "outputs": [],
   "source": [
    "Iris 데이터 세트에서 species 변수 값별로 petal_length 상위 10개 행(큰 값)의 평균값을 구한 후, 평균값의 합을 계산하시오. (최종 계산값의 소수점 이하는 반올림한다.)"
   ]
  },
  {
   "cell_type": "code",
   "execution_count": null,
   "id": "a29d94ff",
   "metadata": {},
   "outputs": [],
   "source": [
    "Iris 데이터 세트에서 sepal_length 변수가 이상치를 가지는 데이터 행 수를 계산하시오. (단, 이상치 범위는 (평균+2*표준편차)이상이거나 (평균-2*표준편차)이하이다.)"
   ]
  },
  {
   "cell_type": "code",
   "execution_count": null,
   "id": "0b5d1d4e",
   "metadata": {},
   "outputs": [],
   "source": []
  },
  {
   "cell_type": "code",
   "execution_count": null,
   "id": "5184b02a",
   "metadata": {},
   "outputs": [],
   "source": []
  },
  {
   "cell_type": "code",
   "execution_count": null,
   "id": "50d62a67",
   "metadata": {},
   "outputs": [],
   "source": [
    "Wine 데이터 세트에서 total_phenols 결측치를 제거하고 alcalinity_of_ash 변수의 결측치는 중앙값으로 대체한 후, alcalinity_of_ash 평균값을 계산하시오.(최종 계산 값의 소수점 이하는 버린다.)"
   ]
  },
  {
   "cell_type": "code",
   "execution_count": null,
   "id": "8e071ba4",
   "metadata": {},
   "outputs": [],
   "source": [
    "Wine 데이터 세트에서 alcohol 값이 alcohol 평균 값 이상이고, color_intensity 값이 color_intensity 평균 값 이상인 데이터만 남겼을 때, 가장 많은 class 값을 구하시오."
   ]
  },
  {
   "cell_type": "code",
   "execution_count": null,
   "id": "6a630486",
   "metadata": {},
   "outputs": [],
   "source": [
    "Wine 데이터 세트에서 class 1에 해당하는 데이터의 ash 평균값과 Wine 데이터 세트의 모든 결측치를 제거한 후의 ash 값의 평균값의 차이를 절댓값을 계산하시오.(최종 계산 값의 소수점 아래 4번째 자리에서 반올림한다.)"
   ]
  },
  {
   "cell_type": "code",
   "execution_count": null,
   "id": "b356cbd0",
   "metadata": {},
   "outputs": [],
   "source": [
    "Wine 데이터 세트에서 alcohol 변수의 상위에서 20번째 값 alcohol을 오름차순 정렬했을 때 20번째에 위치한 값)으로 상위 20개의 값을 변환한 후, proanthocyanins가 2 이하인 데이터를 추출하여 alcohol의 평균값을 계산하시오.(최종 계산 값의 소수점 아래 3번째 자리에서 반올림 한다.)"
   ]
  },
  {
   "cell_type": "code",
   "execution_count": null,
   "id": "8bc340c4",
   "metadata": {},
   "outputs": [],
   "source": [
    "Wine 데이터 세트에서 class 1에 해당하는 데이터의 proline 변수의 제 3사분위수와 제 1사분위수 차를 구하고, class 2에 해당하는 데이터의 proline 변수의 제 3사분위수와 제 1사분위 수 차를 구하여 두 값의 차이를 절댓값을 계산하시오."
   ]
  }
 ],
 "metadata": {
  "kernelspec": {
   "display_name": "Python 3 (ipykernel)",
   "language": "python",
   "name": "python3"
  },
  "language_info": {
   "codemirror_mode": {
    "name": "ipython",
    "version": 3
   },
   "file_extension": ".py",
   "mimetype": "text/x-python",
   "name": "python",
   "nbconvert_exporter": "python",
   "pygments_lexer": "ipython3",
   "version": "3.9.13"
  }
 },
 "nbformat": 4,
 "nbformat_minor": 5
}
