{
 "cells": [
  {
   "cell_type": "markdown",
   "id": "2ec0532b",
   "metadata": {},
   "source": [
    "# YouTube Trending Video Dataset (updated daily)"
   ]
  },
  {
   "cell_type": "markdown",
   "id": "f5d6a367",
   "metadata": {},
   "source": [
    "## YouTube Trending Video data-set which gets updated daily."
   ]
  },
  {
   "cell_type": "markdown",
   "id": "b2050f68",
   "metadata": {},
   "source": [
    "https://www.kaggle.com/datasets/rsrishav/youtube-trending-video-dataset?select=KR_youtube_trending_data.csv"
   ]
  },
  {
   "cell_type": "markdown",
   "id": "c48ee8ea",
   "metadata": {},
   "source": [
    "![image.png](../../Images/Youtube.png)"
   ]
  },
  {
   "cell_type": "markdown",
   "id": "96ad234c",
   "metadata": {},
   "source": [
    "### Library & Data Import"
   ]
  },
  {
   "cell_type": "code",
   "execution_count": 1,
   "id": "f046910d",
   "metadata": {},
   "outputs": [],
   "source": [
    "import pandas as pd"
   ]
  },
  {
   "cell_type": "code",
   "execution_count": 2,
   "id": "434023bc",
   "metadata": {},
   "outputs": [],
   "source": [
    "youtube_df = pd.read_csv('../../Datasets/Youtube.csv', index_col=0)"
   ]
  },
  {
   "cell_type": "code",
   "execution_count": 3,
   "id": "7ab98447",
   "metadata": {},
   "outputs": [
    {
     "data": {
      "text/html": [
       "<div>\n",
       "<style scoped>\n",
       "    .dataframe tbody tr th:only-of-type {\n",
       "        vertical-align: middle;\n",
       "    }\n",
       "\n",
       "    .dataframe tbody tr th {\n",
       "        vertical-align: top;\n",
       "    }\n",
       "\n",
       "    .dataframe thead th {\n",
       "        text-align: right;\n",
       "    }\n",
       "</style>\n",
       "<table border=\"1\" class=\"dataframe\">\n",
       "  <thead>\n",
       "    <tr style=\"text-align: right;\">\n",
       "      <th></th>\n",
       "      <th>title</th>\n",
       "      <th>channelTitle</th>\n",
       "      <th>categoryId</th>\n",
       "      <th>view_count</th>\n",
       "      <th>likes</th>\n",
       "      <th>dislikes</th>\n",
       "      <th>comment_count</th>\n",
       "      <th>channelId</th>\n",
       "      <th>trending_date2</th>\n",
       "    </tr>\n",
       "  </thead>\n",
       "  <tbody>\n",
       "    <tr>\n",
       "      <th>0</th>\n",
       "      <td>[신병] 물자창고</td>\n",
       "      <td>장삐쭈</td>\n",
       "      <td>23</td>\n",
       "      <td>1893473</td>\n",
       "      <td>38249</td>\n",
       "      <td>730</td>\n",
       "      <td>8595</td>\n",
       "      <td>UChbE5OZQ6dRHECsX0tEPEZQ</td>\n",
       "      <td>2021-01-01</td>\n",
       "    </tr>\n",
       "    <tr>\n",
       "      <th>1</th>\n",
       "      <td>RAIN(비) - 나로 바꾸자 Switch to me (duet with JYP) MV</td>\n",
       "      <td>RAIN's Official Channel</td>\n",
       "      <td>10</td>\n",
       "      <td>2600864</td>\n",
       "      <td>0</td>\n",
       "      <td>0</td>\n",
       "      <td>20129</td>\n",
       "      <td>UCxXgIeE5hxWxHG6dz9Scg2w</td>\n",
       "      <td>2021-01-01</td>\n",
       "    </tr>\n",
       "    <tr>\n",
       "      <th>2</th>\n",
       "      <td>2020년 제야의 종 온라인 타종행사 | 보신각 현장 행사는 진행하지 않습니다.</td>\n",
       "      <td>서울시 · Seoul</td>\n",
       "      <td>29</td>\n",
       "      <td>347049</td>\n",
       "      <td>3564</td>\n",
       "      <td>120</td>\n",
       "      <td>178</td>\n",
       "      <td>UCZUPZW5idAxYp-Asj__lVAA</td>\n",
       "      <td>2021-01-01</td>\n",
       "    </tr>\n",
       "    <tr>\n",
       "      <th>3</th>\n",
       "      <td>고기남자의 칠면조 파티</td>\n",
       "      <td>고기남자 MeatMan</td>\n",
       "      <td>26</td>\n",
       "      <td>528458</td>\n",
       "      <td>15372</td>\n",
       "      <td>280</td>\n",
       "      <td>3470</td>\n",
       "      <td>UCT3CumbFIJiW33uq0UI3zlg</td>\n",
       "      <td>2021-01-01</td>\n",
       "    </tr>\n",
       "    <tr>\n",
       "      <th>4</th>\n",
       "      <td>골목 3mc를 분노하게 만든 마음고생이 심했을 공릉 백반집 사장님의 푸념?! [예능...</td>\n",
       "      <td>스브스밥집</td>\n",
       "      <td>24</td>\n",
       "      <td>494904</td>\n",
       "      <td>3918</td>\n",
       "      <td>111</td>\n",
       "      <td>3142</td>\n",
       "      <td>UCdWgRSfttvDucq4ApcCg5Mw</td>\n",
       "      <td>2021-01-01</td>\n",
       "    </tr>\n",
       "    <tr>\n",
       "      <th>...</th>\n",
       "      <td>...</td>\n",
       "      <td>...</td>\n",
       "      <td>...</td>\n",
       "      <td>...</td>\n",
       "      <td>...</td>\n",
       "      <td>...</td>\n",
       "      <td>...</td>\n",
       "      <td>...</td>\n",
       "      <td>...</td>\n",
       "    </tr>\n",
       "    <tr>\n",
       "      <th>60394</th>\n",
       "      <td>*풀코스로 먹습니다* 🍗치킨 + 🍕피자 + 🥧디저트</td>\n",
       "      <td>공룡</td>\n",
       "      <td>22</td>\n",
       "      <td>538190</td>\n",
       "      <td>16671</td>\n",
       "      <td>209</td>\n",
       "      <td>3117</td>\n",
       "      <td>UCWf4QKgnTyvmehcRqw-JldQ</td>\n",
       "      <td>2021-10-19</td>\n",
       "    </tr>\n",
       "    <tr>\n",
       "      <th>60395</th>\n",
       "      <td>[놀면 뭐하니? 예고] 우린 깐부잖아🦑 놀뭐에 등장한 월드클래스 초대손님!! MBC...</td>\n",
       "      <td>놀면 뭐하니?</td>\n",
       "      <td>24</td>\n",
       "      <td>1607562</td>\n",
       "      <td>14615</td>\n",
       "      <td>258</td>\n",
       "      <td>1141</td>\n",
       "      <td>UCx6jsZ02B4K3SECUrkgPyzg</td>\n",
       "      <td>2021-10-19</td>\n",
       "    </tr>\n",
       "    <tr>\n",
       "      <th>60396</th>\n",
       "      <td>먹방 전쟁 : 사랑스러War (feat. 401 정육식당)</td>\n",
       "      <td>김종국 GYM JONG KOOK</td>\n",
       "      <td>17</td>\n",
       "      <td>1125911</td>\n",
       "      <td>26490</td>\n",
       "      <td>263</td>\n",
       "      <td>1915</td>\n",
       "      <td>UCoe-0EVDJnjlSoPK8ygcGwQ</td>\n",
       "      <td>2021-10-19</td>\n",
       "    </tr>\n",
       "    <tr>\n",
       "      <th>60397</th>\n",
       "      <td>＂너.. 광수지?＂ 협상에 거짓말부터 던지는 광수 닮은꼴 김연경 선수 [런닝맨|21...</td>\n",
       "      <td>스브스 예능맛집</td>\n",
       "      <td>24</td>\n",
       "      <td>1741773</td>\n",
       "      <td>14994</td>\n",
       "      <td>304</td>\n",
       "      <td>802</td>\n",
       "      <td>UCnx4Fi4cmkLGDiFfZ311wWw</td>\n",
       "      <td>2021-10-19</td>\n",
       "    </tr>\n",
       "    <tr>\n",
       "      <th>60398</th>\n",
       "      <td>ENHYPEN (엔하이픈) 'Tamed-Dashed' Official MV</td>\n",
       "      <td>HYBE LABELS</td>\n",
       "      <td>10</td>\n",
       "      <td>13753485</td>\n",
       "      <td>1784532</td>\n",
       "      <td>9737</td>\n",
       "      <td>195461</td>\n",
       "      <td>UC3IZKseVpdzPSBaWxBxundA</td>\n",
       "      <td>2021-10-19</td>\n",
       "    </tr>\n",
       "  </tbody>\n",
       "</table>\n",
       "<p>60399 rows × 9 columns</p>\n",
       "</div>"
      ],
      "text/plain": [
       "                                                   title  \\\n",
       "0                                              [신병] 물자창고   \n",
       "1       RAIN(비) - 나로 바꾸자 Switch to me (duet with JYP) MV   \n",
       "2           2020년 제야의 종 온라인 타종행사 | 보신각 현장 행사는 진행하지 않습니다.   \n",
       "3                                           고기남자의 칠면조 파티   \n",
       "4      골목 3mc를 분노하게 만든 마음고생이 심했을 공릉 백반집 사장님의 푸념?! [예능...   \n",
       "...                                                  ...   \n",
       "60394                       *풀코스로 먹습니다* 🍗치킨 + 🍕피자 + 🥧디저트   \n",
       "60395  [놀면 뭐하니? 예고] 우린 깐부잖아🦑 놀뭐에 등장한 월드클래스 초대손님!! MBC...   \n",
       "60396                   먹방 전쟁 : 사랑스러War (feat. 401 정육식당)   \n",
       "60397  ＂너.. 광수지?＂ 협상에 거짓말부터 던지는 광수 닮은꼴 김연경 선수 [런닝맨|21...   \n",
       "60398          ENHYPEN (엔하이픈) 'Tamed-Dashed' Official MV   \n",
       "\n",
       "                  channelTitle  categoryId  view_count    likes  dislikes  \\\n",
       "0                          장삐쭈          23     1893473    38249       730   \n",
       "1      RAIN's Official Channel          10     2600864        0         0   \n",
       "2                  서울시 · Seoul          29      347049     3564       120   \n",
       "3                 고기남자 MeatMan          26      528458    15372       280   \n",
       "4                        스브스밥집          24      494904     3918       111   \n",
       "...                        ...         ...         ...      ...       ...   \n",
       "60394                       공룡          22      538190    16671       209   \n",
       "60395                  놀면 뭐하니?          24     1607562    14615       258   \n",
       "60396        김종국 GYM JONG KOOK          17     1125911    26490       263   \n",
       "60397                 스브스 예능맛집          24     1741773    14994       304   \n",
       "60398              HYBE LABELS          10    13753485  1784532      9737   \n",
       "\n",
       "       comment_count                 channelId trending_date2  \n",
       "0               8595  UChbE5OZQ6dRHECsX0tEPEZQ     2021-01-01  \n",
       "1              20129  UCxXgIeE5hxWxHG6dz9Scg2w     2021-01-01  \n",
       "2                178  UCZUPZW5idAxYp-Asj__lVAA     2021-01-01  \n",
       "3               3470  UCT3CumbFIJiW33uq0UI3zlg     2021-01-01  \n",
       "4               3142  UCdWgRSfttvDucq4ApcCg5Mw     2021-01-01  \n",
       "...              ...                       ...            ...  \n",
       "60394           3117  UCWf4QKgnTyvmehcRqw-JldQ     2021-10-19  \n",
       "60395           1141  UCx6jsZ02B4K3SECUrkgPyzg     2021-10-19  \n",
       "60396           1915  UCoe-0EVDJnjlSoPK8ygcGwQ     2021-10-19  \n",
       "60397            802  UCnx4Fi4cmkLGDiFfZ311wWw     2021-10-19  \n",
       "60398         195461  UC3IZKseVpdzPSBaWxBxundA     2021-10-19  \n",
       "\n",
       "[60399 rows x 9 columns]"
      ]
     },
     "execution_count": 3,
     "metadata": {},
     "output_type": "execute_result"
    }
   ],
   "source": [
    "youtube_df"
   ]
  },
  {
   "cell_type": "markdown",
   "id": "85c05d14",
   "metadata": {},
   "source": [
    "#### 인기동영상 제작횟수가 많은 채널 상위 10개명을 출력하라 (날짜기준, 중복포함)"
   ]
  },
  {
   "cell_type": "code",
   "execution_count": 4,
   "id": "f902c70a",
   "metadata": {
    "scrolled": true
   },
   "outputs": [
    {
     "data": {
      "text/html": [
       "<div>\n",
       "<style scoped>\n",
       "    .dataframe tbody tr th:only-of-type {\n",
       "        vertical-align: middle;\n",
       "    }\n",
       "\n",
       "    .dataframe tbody tr th {\n",
       "        vertical-align: top;\n",
       "    }\n",
       "\n",
       "    .dataframe thead th {\n",
       "        text-align: right;\n",
       "    }\n",
       "</style>\n",
       "<table border=\"1\" class=\"dataframe\">\n",
       "  <thead>\n",
       "    <tr style=\"text-align: right;\">\n",
       "      <th></th>\n",
       "      <th>0</th>\n",
       "    </tr>\n",
       "  </thead>\n",
       "  <tbody>\n",
       "    <tr>\n",
       "      <th>UCszFjh7CEfwDb7UUGb4RzCQ</th>\n",
       "      <td>UCszFjh7CEfwDb7UUGb4RzCQ</td>\n",
       "    </tr>\n",
       "    <tr>\n",
       "      <th>UClzB2iZ5jPoTNz0S-QU6Wiw</th>\n",
       "      <td>UClzB2iZ5jPoTNz0S-QU6Wiw</td>\n",
       "    </tr>\n",
       "    <tr>\n",
       "      <th>UCtm_QoN2SIxwCE-59shX7Qg</th>\n",
       "      <td>UCtm_QoN2SIxwCE-59shX7Qg</td>\n",
       "    </tr>\n",
       "    <tr>\n",
       "      <th>UCaKod3X1Tn4c7Ci0iUKcvzQ</th>\n",
       "      <td>UCaKod3X1Tn4c7Ci0iUKcvzQ</td>\n",
       "    </tr>\n",
       "    <tr>\n",
       "      <th>UCiwQRG2sCcfjKkgxMEdJGPg</th>\n",
       "      <td>UCiwQRG2sCcfjKkgxMEdJGPg</td>\n",
       "    </tr>\n",
       "    <tr>\n",
       "      <th>UChbE5OZQ6dRHECsX0tEPEZQ</th>\n",
       "      <td>UChbE5OZQ6dRHECsX0tEPEZQ</td>\n",
       "    </tr>\n",
       "    <tr>\n",
       "      <th>UCLkAepWjdylmXSltofFvsYQ</th>\n",
       "      <td>UCLkAepWjdylmXSltofFvsYQ</td>\n",
       "    </tr>\n",
       "    <tr>\n",
       "      <th>UCQ2O-iftmnlfrBuNsUUTofQ</th>\n",
       "      <td>UCQ2O-iftmnlfrBuNsUUTofQ</td>\n",
       "    </tr>\n",
       "    <tr>\n",
       "      <th>UCtfriFvIe5gIe8wRWb8UTMg</th>\n",
       "      <td>UCtfriFvIe5gIe8wRWb8UTMg</td>\n",
       "    </tr>\n",
       "    <tr>\n",
       "      <th>UCRuSxVu4iqTK5kCh90ntAgA</th>\n",
       "      <td>UCRuSxVu4iqTK5kCh90ntAgA</td>\n",
       "    </tr>\n",
       "  </tbody>\n",
       "</table>\n",
       "</div>"
      ],
      "text/plain": [
       "                                                 0\n",
       "UCszFjh7CEfwDb7UUGb4RzCQ  UCszFjh7CEfwDb7UUGb4RzCQ\n",
       "UClzB2iZ5jPoTNz0S-QU6Wiw  UClzB2iZ5jPoTNz0S-QU6Wiw\n",
       "UCtm_QoN2SIxwCE-59shX7Qg  UCtm_QoN2SIxwCE-59shX7Qg\n",
       "UCaKod3X1Tn4c7Ci0iUKcvzQ  UCaKod3X1Tn4c7Ci0iUKcvzQ\n",
       "UCiwQRG2sCcfjKkgxMEdJGPg  UCiwQRG2sCcfjKkgxMEdJGPg\n",
       "UChbE5OZQ6dRHECsX0tEPEZQ  UChbE5OZQ6dRHECsX0tEPEZQ\n",
       "UCLkAepWjdylmXSltofFvsYQ  UCLkAepWjdylmXSltofFvsYQ\n",
       "UCQ2O-iftmnlfrBuNsUUTofQ  UCQ2O-iftmnlfrBuNsUUTofQ\n",
       "UCtfriFvIe5gIe8wRWb8UTMg  UCtfriFvIe5gIe8wRWb8UTMg\n",
       "UCRuSxVu4iqTK5kCh90ntAgA  UCRuSxVu4iqTK5kCh90ntAgA"
      ]
     },
     "execution_count": 4,
     "metadata": {},
     "output_type": "execute_result"
    }
   ],
   "source": [
    "youtube_df.channelId.value_counts().head(10).index.to_frame()"
   ]
  },
  {
   "cell_type": "code",
   "execution_count": 5,
   "id": "e197a3d2",
   "metadata": {},
   "outputs": [
    {
     "name": "stdout",
     "output_type": "stream",
     "text": [
      "['장삐쭈', '총몇명', '파뿌리', '짤툰', '런닝맨 - 스브스 공식 채널', '엠뚜루마뚜루 : MBC 공식 종합 채널', 'SPOTV', '채널 십오야', '이과장', 'BANGTANTV']\n"
     ]
    }
   ],
   "source": [
    "result = list(youtube_df.loc[youtube_df.channelId.isin(youtube_df.channelId.value_counts().head(10).index)].channelTitle.unique())\n",
    "\n",
    "print(list(result))"
   ]
  },
  {
   "cell_type": "markdown",
   "id": "a1a572cd",
   "metadata": {},
   "source": [
    "#### 논란으로 인기동영상이 된 케이스를 확인하고 싶다. dislikes수가 like 수보다 높은 동영상을 제작한 채널을 모두 출력하라"
   ]
  },
  {
   "cell_type": "code",
   "execution_count": 6,
   "id": "0998dfe9",
   "metadata": {},
   "outputs": [
    {
     "name": "stdout",
     "output_type": "stream",
     "text": [
      "['핫도그TV', 'ASMR 애정TV', '하얀트리HayanTree', '양팡 YangPang', '철구형 (CHULTUBE)', '왜냐맨하우스', '(MUTUBE)와꾸대장봉준', '오메킴TV', '육지담', 'MapleStory_KR', 'ROAD FIGHTING CHAMPIONSHIP', '사나이 김기훈', '나혼자산다 STUDIO', 'Gen.G esports']\n"
     ]
    }
   ],
   "source": [
    "result =list(youtube_df.loc[youtube_df.likes < youtube_df.dislikes].channelTitle.unique())\n",
    "    \n",
    "print(result)"
   ]
  },
  {
   "cell_type": "markdown",
   "id": "7529467d",
   "metadata": {},
   "source": [
    "#### 채널명을 바꾼 케이스가 있는지 확인하고 싶다. channelId의 경우 고유값이므로 이를 통해 채널명을 한번이라도 바꾼 채널의 갯수를 구하여라"
   ]
  },
  {
   "cell_type": "code",
   "execution_count": 7,
   "id": "32b13992",
   "metadata": {},
   "outputs": [
    {
     "data": {
      "text/plain": [
       "UCtQYhzJWFai1y30UIA3uwYQ    3\n",
       "UC98TOxKQk4aLcx0EjIK0LkQ    3\n",
       "UC4nEQI74rZkFKlUSwi0ur4A    2\n",
       "UCn64fSqF2l4rkkjtQUpku2A    2\n",
       "UCjO3ji06DxmTM1RrzLVwmkA    2\n",
       "                           ..\n",
       "UCuZu8NrpBG4WPXRi-hPBl-A    1\n",
       "UCDrAR1OWC2MD4s0JLetN0MA    1\n",
       "UCx2MVBsdTJ_sv0LiUpSQU2Q    1\n",
       "UCu2R3TCLSxYV8pRyBGNOh2g    1\n",
       "UCRCK5FCJtomQT3b88jXI_DA    1\n",
       "Name: channelId, Length: 1770, dtype: int64"
      ]
     },
     "execution_count": 7,
     "metadata": {},
     "output_type": "execute_result"
    }
   ],
   "source": [
    "change = youtube_df[['channelTitle','channelId']].drop_duplicates().channelId.value_counts()\n",
    "\n",
    "change"
   ]
  },
  {
   "cell_type": "code",
   "execution_count": 8,
   "id": "c1a51f6e",
   "metadata": {},
   "outputs": [
    {
     "name": "stdout",
     "output_type": "stream",
     "text": [
      "71\n"
     ]
    }
   ],
   "source": [
    "result = change[change > 1]\n",
    "\n",
    "print(len(result))"
   ]
  },
  {
   "cell_type": "markdown",
   "id": "0d3a6604",
   "metadata": {},
   "source": [
    "#### 일요일에 인기있었던 영상들중 가장많은 영상 종류(categoryId)는 무엇인가?"
   ]
  },
  {
   "cell_type": "code",
   "execution_count": 9,
   "id": "4f52dc8b",
   "metadata": {},
   "outputs": [
    {
     "name": "stdout",
     "output_type": "stream",
     "text": [
      "24\n"
     ]
    }
   ],
   "source": [
    "youtube_df['trending_date2'] = pd.to_datetime(youtube_df['trending_date2'])\n",
    "\n",
    "result = youtube_df.loc[youtube_df['trending_date2'].dt.day_name() =='Sunday'].categoryId.value_counts().idxmax()\n",
    "\n",
    "print(result)"
   ]
  },
  {
   "cell_type": "markdown",
   "id": "57592346",
   "metadata": {},
   "source": [
    "#### 각 요일별 인기 영상들의 categoryId는 각각 몇개 씩인지 하나의 데이터 프레임으로 표현하라"
   ]
  },
  {
   "cell_type": "code",
   "execution_count": 10,
   "id": "f153529c",
   "metadata": {},
   "outputs": [
    {
     "data": {
      "text/html": [
       "<div>\n",
       "<style scoped>\n",
       "    .dataframe tbody tr th:only-of-type {\n",
       "        vertical-align: middle;\n",
       "    }\n",
       "\n",
       "    .dataframe tbody tr th {\n",
       "        vertical-align: top;\n",
       "    }\n",
       "\n",
       "    .dataframe thead tr th {\n",
       "        text-align: left;\n",
       "    }\n",
       "\n",
       "    .dataframe thead tr:last-of-type th {\n",
       "        text-align: right;\n",
       "    }\n",
       "</style>\n",
       "<table border=\"1\" class=\"dataframe\">\n",
       "  <thead>\n",
       "    <tr>\n",
       "      <th></th>\n",
       "      <th colspan=\"7\" halign=\"left\">size</th>\n",
       "    </tr>\n",
       "    <tr>\n",
       "      <th>trending_date2</th>\n",
       "      <th>Friday</th>\n",
       "      <th>Monday</th>\n",
       "      <th>Saturday</th>\n",
       "      <th>Sunday</th>\n",
       "      <th>Thursday</th>\n",
       "      <th>Tuesday</th>\n",
       "      <th>Wednesday</th>\n",
       "    </tr>\n",
       "    <tr>\n",
       "      <th>categoryId</th>\n",
       "      <th></th>\n",
       "      <th></th>\n",
       "      <th></th>\n",
       "      <th></th>\n",
       "      <th></th>\n",
       "      <th></th>\n",
       "      <th></th>\n",
       "    </tr>\n",
       "  </thead>\n",
       "  <tbody>\n",
       "    <tr>\n",
       "      <th>1</th>\n",
       "      <td>243</td>\n",
       "      <td>263</td>\n",
       "      <td>255</td>\n",
       "      <td>274</td>\n",
       "      <td>246</td>\n",
       "      <td>257</td>\n",
       "      <td>234</td>\n",
       "    </tr>\n",
       "    <tr>\n",
       "      <th>2</th>\n",
       "      <td>120</td>\n",
       "      <td>105</td>\n",
       "      <td>119</td>\n",
       "      <td>99</td>\n",
       "      <td>128</td>\n",
       "      <td>119</td>\n",
       "      <td>129</td>\n",
       "    </tr>\n",
       "    <tr>\n",
       "      <th>10</th>\n",
       "      <td>833</td>\n",
       "      <td>837</td>\n",
       "      <td>776</td>\n",
       "      <td>830</td>\n",
       "      <td>890</td>\n",
       "      <td>894</td>\n",
       "      <td>917</td>\n",
       "    </tr>\n",
       "    <tr>\n",
       "      <th>15</th>\n",
       "      <td>187</td>\n",
       "      <td>215</td>\n",
       "      <td>198</td>\n",
       "      <td>217</td>\n",
       "      <td>207</td>\n",
       "      <td>208</td>\n",
       "      <td>207</td>\n",
       "    </tr>\n",
       "    <tr>\n",
       "      <th>17</th>\n",
       "      <td>633</td>\n",
       "      <td>668</td>\n",
       "      <td>592</td>\n",
       "      <td>636</td>\n",
       "      <td>682</td>\n",
       "      <td>708</td>\n",
       "      <td>706</td>\n",
       "    </tr>\n",
       "    <tr>\n",
       "      <th>19</th>\n",
       "      <td>90</td>\n",
       "      <td>92</td>\n",
       "      <td>87</td>\n",
       "      <td>91</td>\n",
       "      <td>92</td>\n",
       "      <td>89</td>\n",
       "      <td>85</td>\n",
       "    </tr>\n",
       "    <tr>\n",
       "      <th>20</th>\n",
       "      <td>283</td>\n",
       "      <td>298</td>\n",
       "      <td>296</td>\n",
       "      <td>289</td>\n",
       "      <td>282</td>\n",
       "      <td>285</td>\n",
       "      <td>291</td>\n",
       "    </tr>\n",
       "    <tr>\n",
       "      <th>22</th>\n",
       "      <td>1288</td>\n",
       "      <td>1373</td>\n",
       "      <td>1289</td>\n",
       "      <td>1337</td>\n",
       "      <td>1341</td>\n",
       "      <td>1375</td>\n",
       "      <td>1333</td>\n",
       "    </tr>\n",
       "    <tr>\n",
       "      <th>23</th>\n",
       "      <td>568</td>\n",
       "      <td>594</td>\n",
       "      <td>570</td>\n",
       "      <td>556</td>\n",
       "      <td>560</td>\n",
       "      <td>569</td>\n",
       "      <td>566</td>\n",
       "    </tr>\n",
       "    <tr>\n",
       "      <th>24</th>\n",
       "      <td>2976</td>\n",
       "      <td>3148</td>\n",
       "      <td>3066</td>\n",
       "      <td>3096</td>\n",
       "      <td>2954</td>\n",
       "      <td>3084</td>\n",
       "      <td>3090</td>\n",
       "    </tr>\n",
       "    <tr>\n",
       "      <th>25</th>\n",
       "      <td>444</td>\n",
       "      <td>453</td>\n",
       "      <td>422</td>\n",
       "      <td>437</td>\n",
       "      <td>470</td>\n",
       "      <td>452</td>\n",
       "      <td>468</td>\n",
       "    </tr>\n",
       "    <tr>\n",
       "      <th>26</th>\n",
       "      <td>369</td>\n",
       "      <td>378</td>\n",
       "      <td>364</td>\n",
       "      <td>363</td>\n",
       "      <td>375</td>\n",
       "      <td>394</td>\n",
       "      <td>385</td>\n",
       "    </tr>\n",
       "    <tr>\n",
       "      <th>27</th>\n",
       "      <td>183</td>\n",
       "      <td>205</td>\n",
       "      <td>183</td>\n",
       "      <td>199</td>\n",
       "      <td>194</td>\n",
       "      <td>194</td>\n",
       "      <td>212</td>\n",
       "    </tr>\n",
       "    <tr>\n",
       "      <th>28</th>\n",
       "      <td>171</td>\n",
       "      <td>160</td>\n",
       "      <td>173</td>\n",
       "      <td>167</td>\n",
       "      <td>166</td>\n",
       "      <td>161</td>\n",
       "      <td>165</td>\n",
       "    </tr>\n",
       "    <tr>\n",
       "      <th>29</th>\n",
       "      <td>12</td>\n",
       "      <td>10</td>\n",
       "      <td>10</td>\n",
       "      <td>9</td>\n",
       "      <td>13</td>\n",
       "      <td>11</td>\n",
       "      <td>12</td>\n",
       "    </tr>\n",
       "  </tbody>\n",
       "</table>\n",
       "</div>"
      ],
      "text/plain": [
       "                 size                                                  \n",
       "trending_date2 Friday Monday Saturday Sunday Thursday Tuesday Wednesday\n",
       "categoryId                                                             \n",
       "1                 243    263      255    274      246     257       234\n",
       "2                 120    105      119     99      128     119       129\n",
       "10                833    837      776    830      890     894       917\n",
       "15                187    215      198    217      207     208       207\n",
       "17                633    668      592    636      682     708       706\n",
       "19                 90     92       87     91       92      89        85\n",
       "20                283    298      296    289      282     285       291\n",
       "22               1288   1373     1289   1337     1341    1375      1333\n",
       "23                568    594      570    556      560     569       566\n",
       "24               2976   3148     3066   3096     2954    3084      3090\n",
       "25                444    453      422    437      470     452       468\n",
       "26                369    378      364    363      375     394       385\n",
       "27                183    205      183    199      194     194       212\n",
       "28                171    160      173    167      166     161       165\n",
       "29                 12     10       10      9       13      11        12"
      ]
     },
     "execution_count": 10,
     "metadata": {},
     "output_type": "execute_result"
    }
   ],
   "source": [
    "group = youtube_df.groupby([youtube_df['trending_date2'].dt.day_name(),'categoryId'],as_index=False).size()\n",
    "result = group.pivot(index='categoryId',columns='trending_date2')\n",
    "\n",
    "result"
   ]
  },
  {
   "cell_type": "code",
   "execution_count": 11,
   "id": "77046574",
   "metadata": {},
   "outputs": [
    {
     "name": "stdout",
     "output_type": "stream",
     "text": [
      "60분 동안 댓글이 달리지 않으면, 영상이 삭제됩니다. (챌린지)\n"
     ]
    }
   ],
   "source": [
    "target= youtube_df.loc[youtube_df.view_count!=0]\n",
    "t = target.copy()\n",
    "t['ratio'] = (target['comment_count']/target['view_count']).dropna()\n",
    "\n",
    "result = t.sort_values(by='ratio', ascending=False).iloc[0].title\n",
    "\n",
    "print(result)"
   ]
  },
  {
   "cell_type": "markdown",
   "id": "3395f30e",
   "metadata": {},
   "source": [
    "#### 댓글의 수로 (comment_count) 영상 반응에 대한 판단을 할 수 있다. viewcount 대비 댓글수가 가장 낮은 영상을 확인하라. <br>(view_counts, ratio값이 0인경우는 제외한다.)"
   ]
  },
  {
   "cell_type": "code",
   "execution_count": 12,
   "id": "36ae9398",
   "metadata": {},
   "outputs": [
    {
     "name": "stdout",
     "output_type": "stream",
     "text": [
      "Join the BTS #PermissiontoDance Challenge only on YouTube #Shorts\n"
     ]
    }
   ],
   "source": [
    "ratio = (youtube_df['comment_count'] / youtube_df['view_count']).dropna().sort_values()\n",
    "ratio[ratio!=0].index[0]\n",
    "\n",
    "result= youtube_df.iloc[ratio[ratio!=0].index[0]].title\n",
    "\n",
    "print(result)"
   ]
  },
  {
   "cell_type": "markdown",
   "id": "d30eda29",
   "metadata": {},
   "source": [
    "#### like 대비 dislike의 수가 가장 적은 영상은 무엇인가? (like, dislike 값이 0인경우는 제외한다)"
   ]
  },
  {
   "cell_type": "code",
   "execution_count": 13,
   "id": "60a7f60c",
   "metadata": {},
   "outputs": [
    {
     "name": "stdout",
     "output_type": "stream",
     "text": [
      "국힙 래퍼 데프콘의 자존심을 건 불꽃 튀는 상품 판매! Let's go bebe 🚀 [쓔퍼맨] EP.3 대학로지구 #EVENT\n"
     ]
    }
   ],
   "source": [
    "target= youtube_df.loc[(youtube_df.likes !=0) | (youtube_df.dislikes !=0)]\n",
    "\n",
    "num = (target['dislikes']/target['likes']).sort_values().idxmin()\n",
    "\n",
    "result = youtube_df.iloc[num].title\n",
    "\n",
    "print(result)"
   ]
  },
  {
   "cell_type": "markdown",
   "id": "39237194",
   "metadata": {},
   "source": [
    "#### 가장많은 트렌드 영상을 제작한 채널의 이름은 무엇인가? (날짜기준, 중복포함)"
   ]
  },
  {
   "cell_type": "code",
   "execution_count": 14,
   "id": "d30a9b94",
   "metadata": {},
   "outputs": [
    {
     "data": {
      "text/plain": [
       "'UCszFjh7CEfwDb7UUGb4RzCQ'"
      ]
     },
     "execution_count": 14,
     "metadata": {},
     "output_type": "execute_result"
    }
   ],
   "source": [
    "youtube_df.channelId.value_counts().idxmax()"
   ]
  },
  {
   "cell_type": "code",
   "execution_count": 15,
   "id": "eccc957d",
   "metadata": {},
   "outputs": [
    {
     "name": "stdout",
     "output_type": "stream",
     "text": [
      "짤툰\n"
     ]
    }
   ],
   "source": [
    "result = youtube_df.loc[youtube_df.channelId == youtube_df.channelId.value_counts().index[0]].channelTitle.unique()[0]\n",
    "\n",
    "print(result)"
   ]
  },
  {
   "cell_type": "markdown",
   "id": "db991cfe",
   "metadata": {},
   "source": [
    "#### 20회(20일)이상 인기동영상 리스트에 포함된 동영상의 숫자는?"
   ]
  },
  {
   "cell_type": "code",
   "execution_count": 16,
   "id": "91dd8ceb",
   "metadata": {},
   "outputs": [
    {
     "name": "stdout",
     "output_type": "stream",
     "text": [
      "40\n"
     ]
    }
   ],
   "source": [
    "result = (youtube_df[['title','channelId']].value_counts()>=20).sum()\n",
    "\n",
    "print(result)"
   ]
  }
 ],
 "metadata": {
  "kernelspec": {
   "display_name": "Python 3 (ipykernel)",
   "language": "python",
   "name": "python3"
  },
  "language_info": {
   "codemirror_mode": {
    "name": "ipython",
    "version": 3
   },
   "file_extension": ".py",
   "mimetype": "text/x-python",
   "name": "python",
   "nbconvert_exporter": "python",
   "pygments_lexer": "ipython3",
   "version": "3.9.13"
  }
 },
 "nbformat": 4,
 "nbformat_minor": 5
}
